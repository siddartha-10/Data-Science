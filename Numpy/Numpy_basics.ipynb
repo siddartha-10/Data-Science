{
 "cells": [
  {
   "cell_type": "code",
   "execution_count": 1,
   "id": "6a5a8531",
   "metadata": {},
   "outputs": [],
   "source": [
    "import numpy as np"
   ]
  },
  {
   "cell_type": "code",
   "execution_count": 4,
   "id": "1c611358",
   "metadata": {},
   "outputs": [],
   "source": [
    "a = np.array(['abcd',1,2])"
   ]
  },
  {
   "cell_type": "code",
   "execution_count": 5,
   "id": "550e4e7a",
   "metadata": {},
   "outputs": [
    {
     "data": {
      "text/plain": [
       "numpy.ndarray"
      ]
     },
     "execution_count": 5,
     "metadata": {},
     "output_type": "execute_result"
    }
   ],
   "source": [
    "type(a)"
   ]
  },
  {
   "cell_type": "markdown",
   "id": "0633c6ef",
   "metadata": {},
   "source": [
    "## upcasting"
   ]
  },
  {
   "cell_type": "code",
   "execution_count": 6,
   "id": "e1e811dc",
   "metadata": {},
   "outputs": [],
   "source": [
    "b = np.array([1,2,3.0])"
   ]
  },
  {
   "cell_type": "code",
   "execution_count": 9,
   "id": "90f012ad",
   "metadata": {},
   "outputs": [
    {
     "data": {
      "text/plain": [
       "array([1., 2., 3.])"
      ]
     },
     "execution_count": 9,
     "metadata": {},
     "output_type": "execute_result"
    }
   ],
   "source": [
    "b\n",
    "## here we can see that the array i gave was 1,2,3.0 but when i print the array it is doing upcasting and printing 1.,2.,3."
   ]
  },
  {
   "cell_type": "markdown",
   "id": "fa3c0d98",
   "metadata": {},
   "source": [
    "## two dimension array"
   ]
  },
  {
   "cell_type": "code",
   "execution_count": 12,
   "id": "c747e569",
   "metadata": {},
   "outputs": [],
   "source": [
    "mat = np.array([[1,2],\n",
    "              [3,4]])"
   ]
  },
  {
   "cell_type": "code",
   "execution_count": 14,
   "id": "4d26a69a",
   "metadata": {},
   "outputs": [
    {
     "data": {
      "text/plain": [
       "numpy.ndarray"
      ]
     },
     "execution_count": 14,
     "metadata": {},
     "output_type": "execute_result"
    }
   ],
   "source": [
    "type(mat)"
   ]
  },
  {
   "cell_type": "markdown",
   "id": "73438b98",
   "metadata": {},
   "source": [
    "## How to create a N dimension array"
   ]
  },
  {
   "cell_type": "code",
   "execution_count": 16,
   "id": "c5c6e28d",
   "metadata": {},
   "outputs": [
    {
     "data": {
      "text/plain": [
       "array([[[[[1, 2],\n",
       "          [3, 4]]]]])"
      ]
     },
     "execution_count": 16,
     "metadata": {},
     "output_type": "execute_result"
    }
   ],
   "source": [
    "c = np.array([[1,2],[3,4]],ndmin=5)\n",
    "c\n",
    "## here we can see that the C array is a 5 dimension array"
   ]
  },
  {
   "cell_type": "markdown",
   "id": "dc730d05",
   "metadata": {},
   "source": [
    "## how to change the datatype or convert "
   ]
  },
  {
   "cell_type": "code",
   "execution_count": 24,
   "id": "05f21499",
   "metadata": {},
   "outputs": [],
   "source": [
    "d = np.array([[1,2,3]],dtype=complex)"
   ]
  },
  {
   "cell_type": "code",
   "execution_count": 26,
   "id": "6493e787",
   "metadata": {},
   "outputs": [
    {
     "data": {
      "text/plain": [
       "array([[1.+0.j, 2.+0.j, 3.+0.j]])"
      ]
     },
     "execution_count": 26,
     "metadata": {},
     "output_type": "execute_result"
    }
   ],
   "source": [
    "d\n",
    "## here in the below output i can see that even though i gave real values of data but given datatype as complex\n",
    "## it has converted the data in the array to complex as in the form a + ij"
   ]
  },
  {
   "cell_type": "markdown",
   "id": "93271ac2",
   "metadata": {},
   "source": [
    "## Data-type consisting of more than one element"
   ]
  },
  {
   "cell_type": "code",
   "execution_count": null,
   "id": "fcc5c020",
   "metadata": {},
   "outputs": [],
   "source": [
    "e = np.array([[1,2],[3,4]],dtype=[('a','i2'),('b','i8')])"
   ]
  }
 ],
 "metadata": {
  "kernelspec": {
   "display_name": "Python 3 (ipykernel)",
   "language": "python",
   "name": "python3"
  },
  "language_info": {
   "codemirror_mode": {
    "name": "ipython",
    "version": 3
   },
   "file_extension": ".py",
   "mimetype": "text/x-python",
   "name": "python",
   "nbconvert_exporter": "python",
   "pygments_lexer": "ipython3",
   "version": "3.10.11"
  }
 },
 "nbformat": 4,
 "nbformat_minor": 5
}
