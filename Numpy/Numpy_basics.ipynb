{
 "cells": [
  {
   "cell_type": "code",
   "execution_count": 178,
   "id": "2a684e80",
   "metadata": {},
   "outputs": [],
   "source": [
    "import numpy as np"
   ]
  },
  {
   "cell_type": "code",
   "execution_count": 179,
   "id": "0926f722",
   "metadata": {},
   "outputs": [],
   "source": [
    "a = np.array(['abcd',1,2])"
   ]
  },
  {
   "cell_type": "code",
   "execution_count": 180,
   "id": "33cc34e0",
   "metadata": {},
   "outputs": [
    {
     "data": {
      "text/plain": [
       "numpy.ndarray"
      ]
     },
     "execution_count": 180,
     "metadata": {},
     "output_type": "execute_result"
    }
   ],
   "source": [
    "type(a)"
   ]
  },
  {
   "cell_type": "markdown",
   "id": "babf4280",
   "metadata": {},
   "source": [
    "## upcasting"
   ]
  },
  {
   "cell_type": "code",
   "execution_count": 181,
   "id": "516200ec",
   "metadata": {},
   "outputs": [],
   "source": [
    "b = np.array([1,2,3.0])"
   ]
  },
  {
   "cell_type": "code",
   "execution_count": 182,
   "id": "6e469f40",
   "metadata": {},
   "outputs": [
    {
     "data": {
      "text/plain": [
       "array([1., 2., 3.])"
      ]
     },
     "execution_count": 182,
     "metadata": {},
     "output_type": "execute_result"
    }
   ],
   "source": [
    "b\n",
    "## here we can see that the array i gave was 1,2,3.0 but when i print the array it is doing upcasting and printing 1.,2.,3."
   ]
  },
  {
   "cell_type": "markdown",
   "id": "5fe49ab1",
   "metadata": {},
   "source": [
    "## two dimension array"
   ]
  },
  {
   "cell_type": "code",
   "execution_count": 183,
   "id": "fa4971c9",
   "metadata": {},
   "outputs": [],
   "source": [
    "mat = np.array([[1,2],\n",
    "              [3,4]])"
   ]
  },
  {
   "cell_type": "code",
   "execution_count": 184,
   "id": "b7951585",
   "metadata": {},
   "outputs": [
    {
     "data": {
      "text/plain": [
       "numpy.ndarray"
      ]
     },
     "execution_count": 184,
     "metadata": {},
     "output_type": "execute_result"
    }
   ],
   "source": [
    "type(mat)"
   ]
  },
  {
   "cell_type": "markdown",
   "id": "5865437f",
   "metadata": {},
   "source": [
    "## How to create a N dimension array"
   ]
  },
  {
   "cell_type": "code",
   "execution_count": 185,
   "id": "df263adb",
   "metadata": {},
   "outputs": [
    {
     "data": {
      "text/plain": [
       "array([[[[[1, 2],\n",
       "          [3, 4]]]]])"
      ]
     },
     "execution_count": 185,
     "metadata": {},
     "output_type": "execute_result"
    }
   ],
   "source": [
    "c = np.array([[1,2],[3,4]],ndmin=5)\n",
    "c\n",
    "## here we can see that the C array is a 5 dimension array"
   ]
  },
  {
   "cell_type": "markdown",
   "id": "01791e33",
   "metadata": {},
   "source": [
    "## how to change the datatype or convert "
   ]
  },
  {
   "cell_type": "code",
   "execution_count": 186,
   "id": "ef2f2999",
   "metadata": {},
   "outputs": [],
   "source": [
    "d = np.array([[1,2,3]],dtype=complex)"
   ]
  },
  {
   "cell_type": "code",
   "execution_count": 187,
   "id": "15372635",
   "metadata": {},
   "outputs": [
    {
     "data": {
      "text/plain": [
       "array([[1.+0.j, 2.+0.j, 3.+0.j]])"
      ]
     },
     "execution_count": 187,
     "metadata": {},
     "output_type": "execute_result"
    }
   ],
   "source": [
    "d\n",
    "## here in the below output i can see that even though i gave real values of data but given datatype as complex\n",
    "## it has converted the data in the array to complex as in the form a + ij"
   ]
  },
  {
   "cell_type": "markdown",
   "id": "b51c3736",
   "metadata": {},
   "source": [
    "## Data-type consisting of more than one element"
   ]
  },
  {
   "cell_type": "code",
   "execution_count": 188,
   "id": "d5823e1c",
   "metadata": {},
   "outputs": [],
   "source": [
    "e = np.array([(1,2),(3,4)],dtype=[('a','i2'),('b','i8')])"
   ]
  },
  {
   "cell_type": "code",
   "execution_count": 189,
   "id": "72e96163",
   "metadata": {},
   "outputs": [
    {
     "data": {
      "text/plain": [
       "array([(1, 2), (3, 4)], dtype=[('a', '<i2'), ('b', '<i8')])"
      ]
     },
     "execution_count": 189,
     "metadata": {},
     "output_type": "execute_result"
    }
   ],
   "source": [
    "e"
   ]
  },
  {
   "cell_type": "code",
   "execution_count": 190,
   "id": "f1e54794",
   "metadata": {},
   "outputs": [
    {
     "data": {
      "text/plain": [
       "numpy.int16"
      ]
     },
     "execution_count": 190,
     "metadata": {},
     "output_type": "execute_result"
    }
   ],
   "source": [
    "type(e[0][0]) ## here we can see that i2 mean it is INT16"
   ]
  },
  {
   "cell_type": "code",
   "execution_count": 191,
   "id": "58657ad2",
   "metadata": {},
   "outputs": [
    {
     "data": {
      "text/plain": [
       "numpy.int64"
      ]
     },
     "execution_count": 191,
     "metadata": {},
     "output_type": "execute_result"
    }
   ],
   "source": [
    "type(e[0][1]) ## here we can see that i8 mean it is INT64"
   ]
  },
  {
   "cell_type": "markdown",
   "id": "d544d391",
   "metadata": {},
   "source": [
    "## creating an array from subclasses"
   ]
  },
  {
   "cell_type": "code",
   "execution_count": 192,
   "id": "5bc02230",
   "metadata": {},
   "outputs": [
    {
     "data": {
      "text/plain": [
       "array([[1, 2],\n",
       "       [3, 4]])"
      ]
     },
     "execution_count": 192,
     "metadata": {},
     "output_type": "execute_result"
    }
   ],
   "source": [
    "np.array([[1,2],[3,4]])"
   ]
  },
  {
   "cell_type": "code",
   "execution_count": 193,
   "id": "f9412ee5",
   "metadata": {},
   "outputs": [],
   "source": [
    "## the above is array\n",
    "## now i converted the above array into a matrix\n",
    "f = np.mat(np.array([[1,2],[3,4]]))"
   ]
  },
  {
   "cell_type": "code",
   "execution_count": 194,
   "id": "4098f932",
   "metadata": {},
   "outputs": [
    {
     "data": {
      "text/plain": [
       "numpy.matrix"
      ]
     },
     "execution_count": 194,
     "metadata": {},
     "output_type": "execute_result"
    }
   ],
   "source": [
    "type(f)"
   ]
  },
  {
   "cell_type": "markdown",
   "id": "a3a253e6",
   "metadata": {},
   "source": [
    "## numpy.asarray"
   ]
  },
  {
   "cell_type": "code",
   "execution_count": 195,
   "id": "8fd7d4e3",
   "metadata": {},
   "outputs": [
    {
     "data": {
      "text/plain": [
       "list"
      ]
     },
     "execution_count": 195,
     "metadata": {},
     "output_type": "execute_result"
    }
   ],
   "source": [
    "## convert a list into an array\n",
    "a = [1,2]\n",
    "type(a)"
   ]
  },
  {
   "cell_type": "code",
   "execution_count": 196,
   "id": "692b38ab",
   "metadata": {},
   "outputs": [],
   "source": [
    "a = np.asarray(a)"
   ]
  },
  {
   "cell_type": "code",
   "execution_count": 197,
   "id": "b2f58efd",
   "metadata": {},
   "outputs": [
    {
     "data": {
      "text/plain": [
       "numpy.ndarray"
      ]
     },
     "execution_count": 197,
     "metadata": {},
     "output_type": "execute_result"
    }
   ],
   "source": [
    "type(a)"
   ]
  },
  {
   "cell_type": "code",
   "execution_count": 198,
   "id": "26d8117c",
   "metadata": {},
   "outputs": [
    {
     "data": {
      "text/plain": [
       "array([1., 2.], dtype=float32)"
      ]
     },
     "execution_count": 198,
     "metadata": {},
     "output_type": "execute_result"
    }
   ],
   "source": [
    "a = np.array([1,2],dtype = np.float32)\n",
    "a"
   ]
  },
  {
   "cell_type": "code",
   "execution_count": 199,
   "id": "674a086a",
   "metadata": {},
   "outputs": [
    {
     "data": {
      "text/plain": [
       "False"
      ]
     },
     "execution_count": 199,
     "metadata": {},
     "output_type": "execute_result"
    }
   ],
   "source": [
    "np.asarray(np.array([1,2])) is a\n",
    "## here we are getting false because the type of a is float32 and here np.array the dtype will be int64"
   ]
  },
  {
   "cell_type": "code",
   "execution_count": 200,
   "id": "10b030f4",
   "metadata": {},
   "outputs": [
    {
     "data": {
      "text/plain": [
       "False"
      ]
     },
     "execution_count": 200,
     "metadata": {},
     "output_type": "execute_result"
    }
   ],
   "source": [
    "np.asarray(a,dtype=np.float64) is a\n",
    "## here we can see that asarray of type a is not float64 hence we can this is returning false"
   ]
  },
  {
   "cell_type": "code",
   "execution_count": 201,
   "id": "1af33c8e",
   "metadata": {},
   "outputs": [
    {
     "data": {
      "text/plain": [
       "True"
      ]
     },
     "execution_count": 201,
     "metadata": {},
     "output_type": "execute_result"
    }
   ],
   "source": [
    "## Now we can see that it will return true becuase the dtype we are giving is float32\n",
    "np.asarray(a,dtype = np.float32) is a"
   ]
  },
  {
   "cell_type": "markdown",
   "id": "ace52981",
   "metadata": {},
   "source": [
    "## subclasses or not"
   ]
  },
  {
   "cell_type": "code",
   "execution_count": 202,
   "id": "457d6fdb",
   "metadata": {},
   "outputs": [
    {
     "data": {
      "text/plain": [
       "True"
      ]
     },
     "execution_count": 202,
     "metadata": {},
     "output_type": "execute_result"
    }
   ],
   "source": [
    "issubclass(np.matrix,np.ndarray)\n",
    "## here we are saying is matrix the subclass of ndarray yes so it's returning true"
   ]
  },
  {
   "cell_type": "code",
   "execution_count": 203,
   "id": "9ed6e0c5",
   "metadata": {},
   "outputs": [
    {
     "data": {
      "text/plain": [
       "False"
      ]
     },
     "execution_count": 203,
     "metadata": {},
     "output_type": "execute_result"
    }
   ],
   "source": [
    "issubclass(np.ndarray,np.matrix)\n",
    "## here we are saying is ndarray the subclass of matrix no hence it's returning false"
   ]
  },
  {
   "cell_type": "markdown",
   "id": "6f093890",
   "metadata": {},
   "source": [
    "## numpy.asanyarray"
   ]
  },
  {
   "cell_type": "code",
   "execution_count": 204,
   "id": "e0876897",
   "metadata": {},
   "outputs": [
    {
     "data": {
      "text/plain": [
       "array([1, 2])"
      ]
     },
     "execution_count": 204,
     "metadata": {},
     "output_type": "execute_result"
    }
   ],
   "source": [
    "## this will convert any non array fromat into a ndarray format\n",
    "list1 = [1,2]\n",
    "np.asanyarray(list1)"
   ]
  },
  {
   "cell_type": "code",
   "execution_count": 205,
   "id": "972da45c",
   "metadata": {},
   "outputs": [
    {
     "data": {
      "text/plain": [
       "numpy.ndarray"
      ]
     },
     "execution_count": 205,
     "metadata": {},
     "output_type": "execute_result"
    }
   ],
   "source": [
    "type(np.asanyarray(list1))"
   ]
  },
  {
   "cell_type": "code",
   "execution_count": 206,
   "id": "ca45a560",
   "metadata": {},
   "outputs": [],
   "source": [
    "## here we will see an example we know that matrixes are the subclasses of array i.e is array is super class of matrices\n",
    "a = np.matrix([1,2])"
   ]
  },
  {
   "cell_type": "code",
   "execution_count": 207,
   "id": "a85a9f1d",
   "metadata": {},
   "outputs": [
    {
     "data": {
      "text/plain": [
       "matrix([[1, 2]])"
      ]
     },
     "execution_count": 207,
     "metadata": {},
     "output_type": "execute_result"
    }
   ],
   "source": [
    "a"
   ]
  },
  {
   "cell_type": "code",
   "execution_count": 208,
   "id": "e5779b18",
   "metadata": {},
   "outputs": [
    {
     "data": {
      "text/plain": [
       "array([[1, 2]])"
      ]
     },
     "execution_count": 208,
     "metadata": {},
     "output_type": "execute_result"
    }
   ],
   "source": [
    "np.array(a)"
   ]
  },
  {
   "cell_type": "code",
   "execution_count": 209,
   "id": "76e46be9",
   "metadata": {},
   "outputs": [
    {
     "data": {
      "text/plain": [
       "array([[1, 2]])"
      ]
     },
     "execution_count": 209,
     "metadata": {},
     "output_type": "execute_result"
    }
   ],
   "source": [
    "np.asarray(a)"
   ]
  },
  {
   "cell_type": "code",
   "execution_count": 210,
   "id": "ddb2e193",
   "metadata": {},
   "outputs": [
    {
     "data": {
      "text/plain": [
       "matrix([[1, 2]])"
      ]
     },
     "execution_count": 210,
     "metadata": {},
     "output_type": "execute_result"
    }
   ],
   "source": [
    "np.asanyarray(a)"
   ]
  },
  {
   "cell_type": "code",
   "execution_count": 211,
   "id": "092233df",
   "metadata": {},
   "outputs": [],
   "source": [
    "## i can see in the above 3 lines of code that np.array and np.asarray has converted the matrix into a array\n",
    "## but np.asanarray has not converted the matrix into array."
   ]
  },
  {
   "cell_type": "markdown",
   "id": "01892f97",
   "metadata": {},
   "source": [
    "## numpy copy"
   ]
  },
  {
   "cell_type": "code",
   "execution_count": 212,
   "id": "7d76f96c",
   "metadata": {},
   "outputs": [
    {
     "data": {
      "text/plain": [
       "array([1, 2, 3])"
      ]
     },
     "execution_count": 212,
     "metadata": {},
     "output_type": "execute_result"
    }
   ],
   "source": [
    "x = np.array([1,2,3])\n",
    "x"
   ]
  },
  {
   "cell_type": "code",
   "execution_count": 213,
   "id": "e414bb90",
   "metadata": {},
   "outputs": [],
   "source": [
    "y = x ## here we are doing shallow copy"
   ]
  },
  {
   "cell_type": "code",
   "execution_count": 214,
   "id": "d0e5dd91",
   "metadata": {},
   "outputs": [
    {
     "data": {
      "text/plain": [
       "array([1, 2, 3])"
      ]
     },
     "execution_count": 214,
     "metadata": {},
     "output_type": "execute_result"
    }
   ],
   "source": [
    "y"
   ]
  },
  {
   "cell_type": "code",
   "execution_count": 215,
   "id": "a4b574bc",
   "metadata": {},
   "outputs": [
    {
     "data": {
      "text/plain": [
       "array([100,   2,   3])"
      ]
     },
     "execution_count": 215,
     "metadata": {},
     "output_type": "execute_result"
    }
   ],
   "source": [
    "y[0] = 100\n",
    "y\n",
    "## here we can see that change in values of y will effect the values in x, Hence this is called as shallow copy"
   ]
  },
  {
   "cell_type": "code",
   "execution_count": 216,
   "id": "e0fcf5f4",
   "metadata": {},
   "outputs": [
    {
     "data": {
      "text/plain": [
       "array([100,   2,   3])"
      ]
     },
     "execution_count": 216,
     "metadata": {},
     "output_type": "execute_result"
    }
   ],
   "source": [
    "x"
   ]
  },
  {
   "cell_type": "code",
   "execution_count": 217,
   "id": "0d6236b1",
   "metadata": {},
   "outputs": [],
   "source": [
    "z = np.copy(x) ## this is used to deep copy"
   ]
  },
  {
   "cell_type": "code",
   "execution_count": 218,
   "id": "a9825d0a",
   "metadata": {},
   "outputs": [
    {
     "data": {
      "text/plain": [
       "array([100,   2,   3])"
      ]
     },
     "execution_count": 218,
     "metadata": {},
     "output_type": "execute_result"
    }
   ],
   "source": [
    "z"
   ]
  },
  {
   "cell_type": "code",
   "execution_count": 219,
   "id": "8f2fe084",
   "metadata": {},
   "outputs": [
    {
     "data": {
      "text/plain": [
       "array([10,  2,  3])"
      ]
     },
     "execution_count": 219,
     "metadata": {},
     "output_type": "execute_result"
    }
   ],
   "source": [
    "z[0] = 10\n",
    "z\n",
    "## here we can see that change in values of z will not effect the values in x, Hence this is called as deep copy"
   ]
  },
  {
   "cell_type": "code",
   "execution_count": 220,
   "id": "2df90c2d",
   "metadata": {},
   "outputs": [
    {
     "data": {
      "text/plain": [
       "array([100,   2,   3])"
      ]
     },
     "execution_count": 220,
     "metadata": {},
     "output_type": "execute_result"
    }
   ],
   "source": [
    "x"
   ]
  },
  {
   "cell_type": "markdown",
   "id": "831bd1e9",
   "metadata": {},
   "source": [
    "## numpy formfunction"
   ]
  },
  {
   "cell_type": "code",
   "execution_count": 221,
   "id": "5ce69de9",
   "metadata": {},
   "outputs": [],
   "source": [
    "## this is just a function that will be able to generate an random arrays\n",
    "## SYNTAX:-\n",
    "## np.fromfunction(function,size,**kwargs)"
   ]
  },
  {
   "cell_type": "code",
   "execution_count": 222,
   "id": "b7d016a8",
   "metadata": {},
   "outputs": [
    {
     "data": {
      "text/plain": [
       "array([[ True, False, False],\n",
       "       [False,  True, False],\n",
       "       [False, False,  True]])"
      ]
     },
     "execution_count": 222,
     "metadata": {},
     "output_type": "execute_result"
    }
   ],
   "source": [
    "np.fromfunction(lambda i, j:i==j, (3,3),dtype = int)"
   ]
  },
  {
   "cell_type": "code",
   "execution_count": 223,
   "id": "6632261e",
   "metadata": {},
   "outputs": [
    {
     "data": {
      "text/plain": [
       "array([[0, 0, 0],\n",
       "       [0, 1, 2],\n",
       "       [0, 2, 4]])"
      ]
     },
     "execution_count": 223,
     "metadata": {},
     "output_type": "execute_result"
    }
   ],
   "source": [
    "np.fromfunction(lambda i, j:i*j,(3,3),dtype=int)"
   ]
  },
  {
   "cell_type": "markdown",
   "id": "ebbe7929",
   "metadata": {},
   "source": [
    "## numpy fromiter"
   ]
  },
  {
   "cell_type": "code",
   "execution_count": 224,
   "id": "08ccf767",
   "metadata": {},
   "outputs": [],
   "source": [
    "## this is a function that we use to get an 1-D array from the iteratable object\n",
    "##SYNTAX:-\n",
    "## np.fromiter(iterable,datatype)"
   ]
  },
  {
   "cell_type": "code",
   "execution_count": 225,
   "id": "460abab3",
   "metadata": {},
   "outputs": [
    {
     "data": {
      "text/plain": [
       "<generator object <genexpr> at 0x1048ac510>"
      ]
     },
     "execution_count": 225,
     "metadata": {},
     "output_type": "execute_result"
    }
   ],
   "source": [
    "iterable = (x*x for x in range(5))\n",
    "iterable"
   ]
  },
  {
   "cell_type": "code",
   "execution_count": 226,
   "id": "bb92b77a",
   "metadata": {},
   "outputs": [
    {
     "data": {
      "text/plain": [
       "array([ 0,  1,  4,  9, 16])"
      ]
     },
     "execution_count": 226,
     "metadata": {},
     "output_type": "execute_result"
    }
   ],
   "source": [
    "np.fromiter(iterable,int)"
   ]
  },
  {
   "cell_type": "markdown",
   "id": "25d69499",
   "metadata": {},
   "source": [
    "## numpy fromstring"
   ]
  },
  {
   "cell_type": "code",
   "execution_count": 227,
   "id": "32a9ff89",
   "metadata": {},
   "outputs": [],
   "source": [
    "## this is function that we use to get an array from the string\n",
    "##SYNTAX:-\n",
    "## np.fromiter(string,seperator)\n",
    "## The ultimate goal of this function is to get the string."
   ]
  },
  {
   "cell_type": "code",
   "execution_count": 228,
   "id": "e5361816",
   "metadata": {},
   "outputs": [],
   "source": [
    "a = \"234 234\""
   ]
  },
  {
   "cell_type": "code",
   "execution_count": 229,
   "id": "f7442825",
   "metadata": {},
   "outputs": [
    {
     "data": {
      "text/plain": [
       "array([234., 234.])"
      ]
     },
     "execution_count": 229,
     "metadata": {},
     "output_type": "execute_result"
    }
   ],
   "source": [
    "np.fromstring(a,sep=\" \")\n",
    "## here you can see that the above string a is converted into array of floats with seperator as space."
   ]
  },
  {
   "cell_type": "code",
   "execution_count": 230,
   "id": "d99f7c94",
   "metadata": {},
   "outputs": [
    {
     "data": {
      "text/plain": [
       "array([1., 2.])"
      ]
     },
     "execution_count": 230,
     "metadata": {},
     "output_type": "execute_result"
    }
   ],
   "source": [
    "np.fromstring('1, 2',float,sep=\",\")\n",
    "## here we can see that we have given a string 1,2 and using np.fromstring we converted them into an array separating them by a comma"
   ]
  },
  {
   "cell_type": "markdown",
   "id": "3d903aef",
   "metadata": {},
   "source": [
    "## how to create a record from multiple flat arrays."
   ]
  },
  {
   "cell_type": "code",
   "execution_count": 231,
   "id": "7ffc346c",
   "metadata": {},
   "outputs": [],
   "source": [
    "x1 = np.array([1,2,3,4])"
   ]
  },
  {
   "cell_type": "code",
   "execution_count": 232,
   "id": "9e46aa85",
   "metadata": {},
   "outputs": [],
   "source": [
    "x2 = np.array(['a','dd','xyz','12'])"
   ]
  },
  {
   "cell_type": "code",
   "execution_count": 233,
   "id": "5d9545c5",
   "metadata": {},
   "outputs": [
    {
     "data": {
      "text/plain": [
       "numpy.ndarray"
      ]
     },
     "execution_count": 233,
     "metadata": {},
     "output_type": "execute_result"
    }
   ],
   "source": [
    "x3 = np.array([1.1,2,3,4])\n",
    "x4 = np.array([1.1,2,3,4])\n",
    "type(x4)"
   ]
  },
  {
   "cell_type": "code",
   "execution_count": 234,
   "id": "68ecb797",
   "metadata": {},
   "outputs": [
    {
     "data": {
      "text/plain": [
       "rec.array([(1, 'a', 1.1, 1.1), (2, 'dd', 2. , 2. ), (3, 'xyz', 3. , 3. ),\n",
       "           (4, '12', 4. , 4. )],\n",
       "          dtype=[('a', '<i8'), ('b', '<U3'), ('c', '<f8'), ('d', '<f8')])"
      ]
     },
     "execution_count": 234,
     "metadata": {},
     "output_type": "execute_result"
    }
   ],
   "source": [
    "np.core.records.fromarrays([x1,x2,x3,x4],names='a,b,c,d')"
   ]
  },
  {
   "cell_type": "markdown",
   "id": "378c402f",
   "metadata": {},
   "source": [
    "# Data types"
   ]
  },
  {
   "cell_type": "code",
   "execution_count": 235,
   "id": "fffa6fe2",
   "metadata": {},
   "outputs": [
    {
     "data": {
      "text/plain": [
       "[1, 2, 3]"
      ]
     },
     "execution_count": 235,
     "metadata": {},
     "output_type": "execute_result"
    }
   ],
   "source": [
    "arr = [1,2,3]\n",
    "arr"
   ]
  },
  {
   "cell_type": "code",
   "execution_count": 236,
   "id": "75f32b00",
   "metadata": {},
   "outputs": [
    {
     "data": {
      "text/plain": [
       "array([1, 2, 3])"
      ]
     },
     "execution_count": 236,
     "metadata": {},
     "output_type": "execute_result"
    }
   ],
   "source": [
    "np_arr = np.array(arr)\n",
    "np_arr"
   ]
  },
  {
   "cell_type": "code",
   "execution_count": 237,
   "id": "0b599f22",
   "metadata": {},
   "outputs": [
    {
     "data": {
      "text/plain": [
       "numpy.ndarray"
      ]
     },
     "execution_count": 237,
     "metadata": {},
     "output_type": "execute_result"
    }
   ],
   "source": [
    "type(np_arr)"
   ]
  },
  {
   "cell_type": "code",
   "execution_count": 238,
   "id": "804e09ac",
   "metadata": {},
   "outputs": [
    {
     "data": {
      "text/plain": [
       "([1, 2, 3], [4, 5, 6], [7, 8, 9])"
      ]
     },
     "execution_count": 238,
     "metadata": {},
     "output_type": "execute_result"
    }
   ],
   "source": [
    "my_mat = ([1,2,3],[4,5,6],[7,8,9])\n",
    "my_mat"
   ]
  },
  {
   "cell_type": "code",
   "execution_count": 239,
   "id": "158f4088",
   "metadata": {},
   "outputs": [],
   "source": [
    "mat = np.array(my_mat)"
   ]
  },
  {
   "cell_type": "code",
   "execution_count": 240,
   "id": "5115f905",
   "metadata": {},
   "outputs": [
    {
     "data": {
      "text/plain": [
       "array([[1, 2, 3],\n",
       "       [4, 5, 6],\n",
       "       [7, 8, 9]])"
      ]
     },
     "execution_count": 240,
     "metadata": {},
     "output_type": "execute_result"
    }
   ],
   "source": [
    "mat"
   ]
  },
  {
   "cell_type": "code",
   "execution_count": 241,
   "id": "75dff71e",
   "metadata": {},
   "outputs": [
    {
     "data": {
      "text/plain": [
       "numpy.ndarray"
      ]
     },
     "execution_count": 241,
     "metadata": {},
     "output_type": "execute_result"
    }
   ],
   "source": [
    "type(mat)"
   ]
  },
  {
   "cell_type": "code",
   "execution_count": 242,
   "id": "73e6700e",
   "metadata": {},
   "outputs": [
    {
     "name": "stdout",
     "output_type": "stream",
     "text": [
      "ndim of the array 2\n",
      "the size of the array 9\n",
      "the shape of the array (3, 3)\n",
      "the data types of the array int64\n"
     ]
    }
   ],
   "source": [
    "print(\"ndim of the array\",mat.ndim) ## it will say how many dimensions the array or matrix is\n",
    "print(\"the size of the array\",mat.size) ## it will give the total number of elements present in the matrix\n",
    "print(\"the shape of the array\",mat.shape) ## it will give the shape of the array i.e (n*n)\n",
    "print(\"the data types of the array\",mat.dtype) ## it will return the datatype of the elements present in the array"
   ]
  },
  {
   "cell_type": "markdown",
   "id": "3ae92f21",
   "metadata": {},
   "source": [
    "## tuples to ndarray"
   ]
  },
  {
   "cell_type": "code",
   "execution_count": 243,
   "id": "85036ebf",
   "metadata": {},
   "outputs": [
    {
     "name": "stdout",
     "output_type": "stream",
     "text": [
      "<class 'numpy.ndarray'>\n"
     ]
    }
   ],
   "source": [
    "tup_arr = np.array([(1,2,3),(4,5,6)])\n",
    "print(type(tup_arr))"
   ]
  },
  {
   "cell_type": "markdown",
   "id": "6f026fe3",
   "metadata": {},
   "source": [
    "## arange and linespace"
   ]
  },
  {
   "cell_type": "code",
   "execution_count": 244,
   "id": "4d8ddfad",
   "metadata": {},
   "outputs": [
    {
     "data": {
      "text/plain": [
       "[4, 5, 6]"
      ]
     },
     "execution_count": 244,
     "metadata": {},
     "output_type": "execute_result"
    }
   ],
   "source": [
    "list(range(4,7))\n",
    "## this will return the list that will contain the values from 4 till 6 since the last index is exclusive"
   ]
  },
  {
   "cell_type": "code",
   "execution_count": 245,
   "id": "31ce9c87",
   "metadata": {},
   "outputs": [
    {
     "data": {
      "text/plain": [
       "[1, 3, 5, 7, 9]"
      ]
     },
     "execution_count": 245,
     "metadata": {},
     "output_type": "execute_result"
    }
   ],
   "source": [
    "list(range(1,11,2))\n",
    "## this is going to return the values between 1 to 11 and will contain only alternate values\n",
    "## since i used the step size to be 2"
   ]
  },
  {
   "cell_type": "code",
   "execution_count": 246,
   "id": "bf0c2096",
   "metadata": {},
   "outputs": [
    {
     "data": {
      "text/plain": [
       "array([ 5. ,  7.3,  9.6, 11.9, 14.2])"
      ]
     },
     "execution_count": 246,
     "metadata": {},
     "output_type": "execute_result"
    }
   ],
   "source": [
    "np.arange(5,16,2.3)"
   ]
  },
  {
   "cell_type": "code",
   "execution_count": 247,
   "id": "d644a4b4",
   "metadata": {},
   "outputs": [
    {
     "data": {
      "text/plain": [
       "array([16, 14, 12, 10,  8,  6,  4,  2])"
      ]
     },
     "execution_count": 247,
     "metadata": {},
     "output_type": "execute_result"
    }
   ],
   "source": [
    "np.arange(16,0,-2)\n",
    "## here we can see that the arange will give me a list of numbers in descending order since my step size is -2"
   ]
  },
  {
   "cell_type": "code",
   "execution_count": 248,
   "id": "66b90b93",
   "metadata": {},
   "outputs": [
    {
     "data": {
      "text/plain": [
       "array([1.        , 1.08163265, 1.16326531, 1.24489796, 1.32653061,\n",
       "       1.40816327, 1.48979592, 1.57142857, 1.65306122, 1.73469388,\n",
       "       1.81632653, 1.89795918, 1.97959184, 2.06122449, 2.14285714,\n",
       "       2.2244898 , 2.30612245, 2.3877551 , 2.46938776, 2.55102041,\n",
       "       2.63265306, 2.71428571, 2.79591837, 2.87755102, 2.95918367,\n",
       "       3.04081633, 3.12244898, 3.20408163, 3.28571429, 3.36734694,\n",
       "       3.44897959, 3.53061224, 3.6122449 , 3.69387755, 3.7755102 ,\n",
       "       3.85714286, 3.93877551, 4.02040816, 4.10204082, 4.18367347,\n",
       "       4.26530612, 4.34693878, 4.42857143, 4.51020408, 4.59183673,\n",
       "       4.67346939, 4.75510204, 4.83673469, 4.91836735, 5.        ])"
      ]
     },
     "execution_count": 248,
     "metadata": {},
     "output_type": "execute_result"
    }
   ],
   "source": [
    "np.linspace(1,5,50)\n",
    "## here what's hapenning is that the linspace function si creating a record that contain 50 values and the number\n",
    "## are in between 1 to 5"
   ]
  },
  {
   "cell_type": "markdown",
   "id": "c27b6079",
   "metadata": {},
   "source": [
    "## matrix creation"
   ]
  },
  {
   "cell_type": "code",
   "execution_count": 249,
   "id": "a867aff4",
   "metadata": {},
   "outputs": [
    {
     "data": {
      "text/plain": [
       "array([0., 0., 0., 0., 0.])"
      ]
     },
     "execution_count": 249,
     "metadata": {},
     "output_type": "execute_result"
    }
   ],
   "source": [
    "np.zeros(5)\n",
    "## it will create an array of size 5 with all zeros"
   ]
  },
  {
   "cell_type": "code",
   "execution_count": 250,
   "id": "1a953654",
   "metadata": {},
   "outputs": [
    {
     "data": {
      "text/plain": [
       "array([[[0., 0.],\n",
       "        [0., 0.],\n",
       "        [0., 0.],\n",
       "        [0., 0.]],\n",
       "\n",
       "       [[0., 0.],\n",
       "        [0., 0.],\n",
       "        [0., 0.],\n",
       "        [0., 0.]],\n",
       "\n",
       "       [[0., 0.],\n",
       "        [0., 0.],\n",
       "        [0., 0.],\n",
       "        [0., 0.]]])"
      ]
     },
     "execution_count": 250,
     "metadata": {},
     "output_type": "execute_result"
    }
   ],
   "source": [
    "np.zeros((3,4,2))\n",
    "## this will contain 3 arrays of size (4,2)"
   ]
  },
  {
   "cell_type": "code",
   "execution_count": 251,
   "id": "511bc2d0",
   "metadata": {},
   "outputs": [
    {
     "data": {
      "text/plain": [
       "array([1., 1., 1., 1., 1.])"
      ]
     },
     "execution_count": 251,
     "metadata": {},
     "output_type": "execute_result"
    }
   ],
   "source": [
    "np.ones(5)"
   ]
  },
  {
   "cell_type": "code",
   "execution_count": 252,
   "id": "d6bcde22",
   "metadata": {},
   "outputs": [
    {
     "data": {
      "text/plain": [
       "array([[[1., 1., 1., 1., 1., 1., 1., 1.],\n",
       "        [1., 1., 1., 1., 1., 1., 1., 1.]],\n",
       "\n",
       "       [[1., 1., 1., 1., 1., 1., 1., 1.],\n",
       "        [1., 1., 1., 1., 1., 1., 1., 1.]],\n",
       "\n",
       "       [[1., 1., 1., 1., 1., 1., 1., 1.],\n",
       "        [1., 1., 1., 1., 1., 1., 1., 1.]],\n",
       "\n",
       "       [[1., 1., 1., 1., 1., 1., 1., 1.],\n",
       "        [1., 1., 1., 1., 1., 1., 1., 1.]],\n",
       "\n",
       "       [[1., 1., 1., 1., 1., 1., 1., 1.],\n",
       "        [1., 1., 1., 1., 1., 1., 1., 1.]]])"
      ]
     },
     "execution_count": 252,
     "metadata": {},
     "output_type": "execute_result"
    }
   ],
   "source": [
    "np.ones((5,2,8))\n",
    "## this will contain 5 arrays of size (2,8)"
   ]
  },
  {
   "cell_type": "code",
   "execution_count": 253,
   "id": "b0e03a3e",
   "metadata": {},
   "outputs": [
    {
     "name": "stdout",
     "output_type": "stream",
     "text": [
      "[[6. 6. 6. 6. 6.]\n",
      " [6. 6. 6. 6. 6.]\n",
      " [6. 6. 6. 6. 6.]]\n"
     ]
    }
   ],
   "source": [
    "print(5 + np.ones((3,5)))\n",
    "## this will create an array of ones of size (3,5) and then it will add 5 to each element like scalar addition"
   ]
  },
  {
   "cell_type": "markdown",
   "id": "ddb72d84",
   "metadata": {},
   "source": [
    "## numpy empty"
   ]
  },
  {
   "cell_type": "code",
   "execution_count": 254,
   "id": "764047a1",
   "metadata": {},
   "outputs": [],
   "source": [
    "## when there are empty arrays without any definiton then it will generate random values \n",
    "## since there is an array already existing hence it's giving 6"
   ]
  },
  {
   "cell_type": "code",
   "execution_count": 255,
   "id": "cb894c23",
   "metadata": {},
   "outputs": [
    {
     "data": {
      "text/plain": [
       "array([[6., 6., 6., 6., 6.],\n",
       "       [6., 6., 6., 6., 6.],\n",
       "       [6., 6., 6., 6., 6.]])"
      ]
     },
     "execution_count": 255,
     "metadata": {},
     "output_type": "execute_result"
    }
   ],
   "source": [
    "np.empty((3,5))\n",
    "## here we are getting 6's because it the last array that is taking is 6."
   ]
  },
  {
   "cell_type": "code",
   "execution_count": 256,
   "id": "9a28667b",
   "metadata": {},
   "outputs": [
    {
     "data": {
      "text/plain": [
       "array([[1., 0., 0.],\n",
       "       [0., 1., 0.],\n",
       "       [0., 0., 1.]])"
      ]
     },
     "execution_count": 256,
     "metadata": {},
     "output_type": "execute_result"
    }
   ],
   "source": [
    "## to create an identity matrixes\n",
    "np.eye(3,3)\n"
   ]
  },
  {
   "cell_type": "markdown",
   "id": "c8f475c2",
   "metadata": {},
   "source": [
    "## practise 1"
   ]
  },
  {
   "cell_type": "code",
   "execution_count": 257,
   "id": "a3902471",
   "metadata": {},
   "outputs": [],
   "source": [
    "## create a (3,4,8) array that contains all zeros"
   ]
  },
  {
   "cell_type": "code",
   "execution_count": 258,
   "id": "67556896",
   "metadata": {
    "scrolled": true
   },
   "outputs": [
    {
     "data": {
      "text/plain": [
       "array([[[0., 0., 0., 0., 0., 0., 0., 0.],\n",
       "        [0., 0., 0., 0., 0., 0., 0., 0.],\n",
       "        [0., 0., 0., 0., 0., 0., 0., 0.],\n",
       "        [0., 0., 0., 0., 0., 0., 0., 0.]],\n",
       "\n",
       "       [[0., 0., 0., 0., 0., 0., 0., 0.],\n",
       "        [0., 0., 0., 0., 0., 0., 0., 0.],\n",
       "        [0., 0., 0., 0., 0., 0., 0., 0.],\n",
       "        [0., 0., 0., 0., 0., 0., 0., 0.]],\n",
       "\n",
       "       [[0., 0., 0., 0., 0., 0., 0., 0.],\n",
       "        [0., 0., 0., 0., 0., 0., 0., 0.],\n",
       "        [0., 0., 0., 0., 0., 0., 0., 0.],\n",
       "        [0., 0., 0., 0., 0., 0., 0., 0.]]])"
      ]
     },
     "execution_count": 258,
     "metadata": {},
     "output_type": "execute_result"
    }
   ],
   "source": [
    "np.zeros((3,4,8))"
   ]
  },
  {
   "cell_type": "code",
   "execution_count": 259,
   "id": "79acde0b",
   "metadata": {},
   "outputs": [],
   "source": [
    "## generate data in an array between (4,8,80) and the number of points i need between 4 and 8 must be 80"
   ]
  },
  {
   "cell_type": "code",
   "execution_count": 260,
   "id": "0d5f7299",
   "metadata": {},
   "outputs": [
    {
     "data": {
      "text/plain": [
       "array([4.        , 4.05063291, 4.10126582, 4.15189873, 4.20253165,\n",
       "       4.25316456, 4.30379747, 4.35443038, 4.40506329, 4.4556962 ,\n",
       "       4.50632911, 4.55696203, 4.60759494, 4.65822785, 4.70886076,\n",
       "       4.75949367, 4.81012658, 4.86075949, 4.91139241, 4.96202532,\n",
       "       5.01265823, 5.06329114, 5.11392405, 5.16455696, 5.21518987,\n",
       "       5.26582278, 5.3164557 , 5.36708861, 5.41772152, 5.46835443,\n",
       "       5.51898734, 5.56962025, 5.62025316, 5.67088608, 5.72151899,\n",
       "       5.7721519 , 5.82278481, 5.87341772, 5.92405063, 5.97468354,\n",
       "       6.02531646, 6.07594937, 6.12658228, 6.17721519, 6.2278481 ,\n",
       "       6.27848101, 6.32911392, 6.37974684, 6.43037975, 6.48101266,\n",
       "       6.53164557, 6.58227848, 6.63291139, 6.6835443 , 6.73417722,\n",
       "       6.78481013, 6.83544304, 6.88607595, 6.93670886, 6.98734177,\n",
       "       7.03797468, 7.08860759, 7.13924051, 7.18987342, 7.24050633,\n",
       "       7.29113924, 7.34177215, 7.39240506, 7.44303797, 7.49367089,\n",
       "       7.5443038 , 7.59493671, 7.64556962, 7.69620253, 7.74683544,\n",
       "       7.79746835, 7.84810127, 7.89873418, 7.94936709, 8.        ])"
      ]
     },
     "execution_count": 260,
     "metadata": {},
     "output_type": "execute_result"
    }
   ],
   "source": [
    "np.linspace(4,8,num=80)"
   ]
  },
  {
   "cell_type": "code",
   "execution_count": 261,
   "id": "292bdfbb",
   "metadata": {},
   "outputs": [
    {
     "data": {
      "text/plain": [
       "matrix([[1, 2, 3, 4]])"
      ]
     },
     "execution_count": 261,
     "metadata": {},
     "output_type": "execute_result"
    }
   ],
   "source": [
    "## take any list and convert the list into matrices\n",
    "list1 = [1,2,3,4]\n",
    "np.mat(list1)"
   ]
  },
  {
   "cell_type": "code",
   "execution_count": 262,
   "id": "79795781",
   "metadata": {},
   "outputs": [],
   "source": [
    "## create an array of the shape (4,5,2) with all one's and print the dimesnsions, shape and data type of it\n",
    "a = np.ones((4,5,2))"
   ]
  },
  {
   "cell_type": "code",
   "execution_count": 263,
   "id": "fd745d94",
   "metadata": {},
   "outputs": [
    {
     "data": {
      "text/plain": [
       "array([[[1., 1.],\n",
       "        [1., 1.],\n",
       "        [1., 1.],\n",
       "        [1., 1.],\n",
       "        [1., 1.]],\n",
       "\n",
       "       [[1., 1.],\n",
       "        [1., 1.],\n",
       "        [1., 1.],\n",
       "        [1., 1.],\n",
       "        [1., 1.]],\n",
       "\n",
       "       [[1., 1.],\n",
       "        [1., 1.],\n",
       "        [1., 1.],\n",
       "        [1., 1.],\n",
       "        [1., 1.]],\n",
       "\n",
       "       [[1., 1.],\n",
       "        [1., 1.],\n",
       "        [1., 1.],\n",
       "        [1., 1.],\n",
       "        [1., 1.]]])"
      ]
     },
     "execution_count": 263,
     "metadata": {},
     "output_type": "execute_result"
    }
   ],
   "source": [
    "a"
   ]
  },
  {
   "cell_type": "code",
   "execution_count": 264,
   "id": "958bdb9d",
   "metadata": {},
   "outputs": [
    {
     "name": "stdout",
     "output_type": "stream",
     "text": [
      "the dimensions of the array is :-  3\n",
      "the shape of the array is :-  (4, 5, 2)\n",
      "the data type of the array is :-  float64\n"
     ]
    }
   ],
   "source": [
    "print(\"the dimensions of the array is :- \",a.ndim)\n",
    "print(\"the shape of the array is :- \", a.shape)\n",
    "print(\"the data type of the array is :- \",a.dtype)"
   ]
  },
  {
   "cell_type": "code",
   "execution_count": 265,
   "id": "066eb786",
   "metadata": {},
   "outputs": [
    {
     "data": {
      "text/plain": [
       "array([[[1., 1., 1.],\n",
       "        [1., 1., 1.],\n",
       "        [1., 1., 1.]],\n",
       "\n",
       "       [[1., 1., 1.],\n",
       "        [1., 1., 1.],\n",
       "        [1., 1., 1.]],\n",
       "\n",
       "       [[1., 1., 1.],\n",
       "        [1., 1., 1.],\n",
       "        [1., 1., 1.]]])"
      ]
     },
     "execution_count": 265,
     "metadata": {},
     "output_type": "execute_result"
    }
   ],
   "source": [
    "## create an array x1 of shape (3*3*3)\n",
    "## create a array x2 of shape (3*3*3)\n",
    "## perform x!+x2\n",
    "x1 = np.ones((3,3,3))\n",
    "x2 = np.zeros((3,3,3))\n",
    "x1 + x2"
   ]
  },
  {
   "cell_type": "markdown",
   "id": "4b4f3eef",
   "metadata": {},
   "source": [
    "## extract a diagonal or construct a diagonal array"
   ]
  },
  {
   "cell_type": "code",
   "execution_count": 266,
   "id": "a0437e06",
   "metadata": {},
   "outputs": [
    {
     "data": {
      "text/plain": [
       "array([ 0,  1,  2,  3,  4,  5,  6,  7,  8,  9, 10, 11, 12, 13, 14, 15])"
      ]
     },
     "execution_count": 266,
     "metadata": {},
     "output_type": "execute_result"
    }
   ],
   "source": [
    "np.arange(16)"
   ]
  },
  {
   "cell_type": "code",
   "execution_count": 267,
   "id": "45a2367f",
   "metadata": {},
   "outputs": [
    {
     "data": {
      "text/plain": [
       "array([[[ 0],\n",
       "        [ 1]],\n",
       "\n",
       "       [[ 2],\n",
       "        [ 3]],\n",
       "\n",
       "       [[ 4],\n",
       "        [ 5]],\n",
       "\n",
       "       [[ 6],\n",
       "        [ 7]],\n",
       "\n",
       "       [[ 8],\n",
       "        [ 9]],\n",
       "\n",
       "       [[10],\n",
       "        [11]],\n",
       "\n",
       "       [[12],\n",
       "        [13]],\n",
       "\n",
       "       [[14],\n",
       "        [15]]])"
      ]
     },
     "execution_count": 267,
     "metadata": {},
     "output_type": "execute_result"
    }
   ],
   "source": [
    "## One of the most important thing to keep in mind is that when you are trying to resize the array then we need to make\n",
    "## sure that the total elements in the orginal array must be in same in the reshape array as well\n",
    "np.arange(16).reshape((8,2,1))"
   ]
  },
  {
   "cell_type": "code",
   "execution_count": 268,
   "id": "48a99649",
   "metadata": {},
   "outputs": [
    {
     "ename": "ValueError",
     "evalue": "cannot reshape array of size 16 into shape (20,2)",
     "output_type": "error",
     "traceback": [
      "\u001b[0;31m---------------------------------------------------------------------------\u001b[0m",
      "\u001b[0;31mValueError\u001b[0m                                Traceback (most recent call last)",
      "Cell \u001b[0;32mIn[268], line 3\u001b[0m\n\u001b[1;32m      1\u001b[0m \u001b[38;5;66;03m## here i am trying to give different dimensions compared to original\u001b[39;00m\n\u001b[1;32m      2\u001b[0m \u001b[38;5;66;03m## i have 16 elements but i am going to give 20 elements just to see what happens\u001b[39;00m\n\u001b[0;32m----> 3\u001b[0m \u001b[38;5;28mprint\u001b[39m(\u001b[43mnp\u001b[49m\u001b[38;5;241;43m.\u001b[39;49m\u001b[43marange\u001b[49m\u001b[43m(\u001b[49m\u001b[38;5;241;43m16\u001b[39;49m\u001b[43m)\u001b[49m\u001b[38;5;241;43m.\u001b[39;49m\u001b[43mreshape\u001b[49m\u001b[43m(\u001b[49m\u001b[43m(\u001b[49m\u001b[38;5;241;43m20\u001b[39;49m\u001b[43m,\u001b[49m\u001b[38;5;241;43m2\u001b[39;49m\u001b[43m)\u001b[49m\u001b[43m)\u001b[49m)\n\u001b[1;32m      4\u001b[0m \u001b[38;5;66;03m## this is giving me none hence we cannot do that\u001b[39;00m\n",
      "\u001b[0;31mValueError\u001b[0m: cannot reshape array of size 16 into shape (20,2)"
     ]
    }
   ],
   "source": [
    "## here i am trying to give different dimensions compared to original\n",
    "## i have 16 elements but i am going to give 20 elements just to see what happens\n",
    "print(np.arange(16).reshape((20,2)))\n",
    "## this is giving me none hence we cannot do that"
   ]
  },
  {
   "cell_type": "code",
   "execution_count": 269,
   "id": "9f1dd109",
   "metadata": {},
   "outputs": [
    {
     "ename": "ValueError",
     "evalue": "cannot reshape array of size 16 into shape (8,3)",
     "output_type": "error",
     "traceback": [
      "\u001b[0;31m---------------------------------------------------------------------------\u001b[0m",
      "\u001b[0;31mValueError\u001b[0m                                Traceback (most recent call last)",
      "Cell \u001b[0;32mIn[269], line 1\u001b[0m\n\u001b[0;32m----> 1\u001b[0m \u001b[38;5;28mprint\u001b[39m(\u001b[43mnp\u001b[49m\u001b[38;5;241;43m.\u001b[39;49m\u001b[43marange\u001b[49m\u001b[43m(\u001b[49m\u001b[38;5;241;43m16\u001b[39;49m\u001b[43m)\u001b[49m\u001b[38;5;241;43m.\u001b[39;49m\u001b[43mreshape\u001b[49m\u001b[43m(\u001b[49m\u001b[38;5;241;43m8\u001b[39;49m\u001b[43m,\u001b[49m\u001b[38;5;241;43m3\u001b[39;49m\u001b[43m)\u001b[49m)\n",
      "\u001b[0;31mValueError\u001b[0m: cannot reshape array of size 16 into shape (8,3)"
     ]
    }
   ],
   "source": [
    "print(np.arange(16).reshape(8,3))"
   ]
  },
  {
   "cell_type": "markdown",
   "id": "d4cdbca6",
   "metadata": {},
   "source": [
    "## using -1 just to make sure we can understand how that works"
   ]
  },
  {
   "cell_type": "code",
   "execution_count": 270,
   "id": "7a22886f",
   "metadata": {},
   "outputs": [
    {
     "data": {
      "text/plain": [
       "array([[ 0,  1,  2,  3],\n",
       "       [ 4,  5,  6,  7],\n",
       "       [ 8,  9, 10, 11],\n",
       "       [12, 13, 14, 15]])"
      ]
     },
     "execution_count": 270,
     "metadata": {},
     "output_type": "execute_result"
    }
   ],
   "source": [
    "np.arange(16).reshape(-1,4)\n",
    "## here we can see that when i say (-1,4) then it can understand that there should be 4 instead of -1 since \n",
    "## 4 * 4 is 16."
   ]
  },
  {
   "cell_type": "code",
   "execution_count": 271,
   "id": "aa2de161",
   "metadata": {},
   "outputs": [
    {
     "data": {
      "text/plain": [
       "array([[ 0,  1,  2,  3,  4],\n",
       "       [ 5,  6,  7,  8,  9],\n",
       "       [10, 11, 12, 13, 14],\n",
       "       [15, 16, 17, 18, 19]])"
      ]
     },
     "execution_count": 271,
     "metadata": {},
     "output_type": "execute_result"
    }
   ],
   "source": [
    "np.arange(20).reshape(4,-1)\n",
    "## here we can see that we are getting (4,5) array but we gave (4,-1) the computer understands that -1 should be 5\n",
    "## only then elements of the array are 20"
   ]
  },
  {
   "cell_type": "code",
   "execution_count": 272,
   "id": "44bdcff4",
   "metadata": {},
   "outputs": [
    {
     "data": {
      "text/plain": [
       "array([[ 0,  1,  2,  3],\n",
       "       [ 4,  5,  6,  7],\n",
       "       [ 8,  9, 10, 11],\n",
       "       [12, 13, 14, 15],\n",
       "       [16, 17, 18, 19]])"
      ]
     },
     "execution_count": 272,
     "metadata": {},
     "output_type": "execute_result"
    }
   ],
   "source": [
    "## in the above 2 codes boxes we can see that -1 is used but we can use any negative number and the system\n",
    "##. can understand.\n",
    "np.arange(20).reshape(5,-4567)\n",
    "## see here we used -4567 but the computer understood."
   ]
  },
  {
   "cell_type": "markdown",
   "id": "459a51c7",
   "metadata": {},
   "source": [
    "## get the diagonal elements"
   ]
  },
  {
   "cell_type": "code",
   "execution_count": 273,
   "id": "17a4ad18",
   "metadata": {},
   "outputs": [
    {
     "data": {
      "text/plain": [
       "array([[ 0,  1,  2,  3],\n",
       "       [ 4,  5,  6,  7],\n",
       "       [ 8,  9, 10, 11],\n",
       "       [12, 13, 14, 15]])"
      ]
     },
     "execution_count": 273,
     "metadata": {},
     "output_type": "execute_result"
    }
   ],
   "source": [
    "x = np.arange(16).reshape(4,-1)\n",
    "x"
   ]
  },
  {
   "cell_type": "code",
   "execution_count": 274,
   "id": "a7edaa3c",
   "metadata": {},
   "outputs": [
    {
     "data": {
      "text/plain": [
       "array([ 0,  5, 10, 15])"
      ]
     },
     "execution_count": 274,
     "metadata": {},
     "output_type": "execute_result"
    }
   ],
   "source": [
    "## here i have an array x get the diagonal elements only\n",
    "np.diag(x,k=0)\n",
    "## here i can see that we can get the diagonal elements"
   ]
  },
  {
   "cell_type": "code",
   "execution_count": 275,
   "id": "fbae5e5b",
   "metadata": {},
   "outputs": [
    {
     "data": {
      "text/plain": [
       "array([ 4,  9, 14])"
      ]
     },
     "execution_count": 275,
     "metadata": {},
     "output_type": "execute_result"
    }
   ],
   "source": [
    "## lets try some code with different values of k and understand how the diagonal elements and what are we getting\n",
    "np.diag(x,k= -1) ## i should be getting 4,9,14 as the output"
   ]
  },
  {
   "cell_type": "code",
   "execution_count": 276,
   "id": "b62a0ec1",
   "metadata": {},
   "outputs": [
    {
     "data": {
      "text/plain": [
       "array([ 1,  6, 11])"
      ]
     },
     "execution_count": 276,
     "metadata": {},
     "output_type": "execute_result"
    }
   ],
   "source": [
    "np.diag(x,k = 1) ## now i should be getting 1,6,11"
   ]
  },
  {
   "cell_type": "code",
   "execution_count": 277,
   "id": "606afd9d",
   "metadata": {},
   "outputs": [
    {
     "data": {
      "text/plain": [
       "array([[ 0,  0,  0,  0],\n",
       "       [ 0,  5,  0,  0],\n",
       "       [ 0,  0, 10,  0],\n",
       "       [ 0,  0,  0, 15]])"
      ]
     },
     "execution_count": 277,
     "metadata": {},
     "output_type": "execute_result"
    }
   ],
   "source": [
    "np.diag(np.diag(x,k=0))\n",
    "## we can see below that it reconstructed the whole matrix and it only has the diagonal elements from the original array"
   ]
  },
  {
   "cell_type": "markdown",
   "id": "7ef36604",
   "metadata": {},
   "source": [
    "## diagflat"
   ]
  },
  {
   "cell_type": "code",
   "execution_count": 278,
   "id": "9e566cfd",
   "metadata": {},
   "outputs": [
    {
     "data": {
      "text/plain": [
       "array([[1, 0, 0, 0],\n",
       "       [0, 2, 0, 0],\n",
       "       [0, 0, 3, 0],\n",
       "       [0, 0, 0, 4]])"
      ]
     },
     "execution_count": 278,
     "metadata": {},
     "output_type": "execute_result"
    }
   ],
   "source": [
    "## it will flatten any array and will create a new array and construct a matrix with it.\n",
    "np.diagflat([[1,2],[3,4]])\n",
    "## see here is the value of k = 0 hence the flatten elements are kept in the principal diagonal elements"
   ]
  },
  {
   "cell_type": "code",
   "execution_count": 279,
   "id": "386e0b69",
   "metadata": {},
   "outputs": [
    {
     "data": {
      "text/plain": [
       "array([[0, 1, 0],\n",
       "       [0, 0, 2],\n",
       "       [0, 0, 0]])"
      ]
     },
     "execution_count": 279,
     "metadata": {},
     "output_type": "execute_result"
    }
   ],
   "source": [
    "np.diagflat([1,2],1)\n",
    "## here we want to flatten the[1,2] first then it will construct an array and then it will keep the diagonal at k = 1"
   ]
  },
  {
   "cell_type": "markdown",
   "id": "a1a040cf",
   "metadata": {},
   "source": [
    "## numpy tri"
   ]
  },
  {
   "cell_type": "code",
   "execution_count": 280,
   "id": "06fadeec",
   "metadata": {},
   "outputs": [],
   "source": [
    "## it is an array with ones at and below that diagonal"
   ]
  },
  {
   "cell_type": "code",
   "execution_count": 281,
   "id": "b81eff96",
   "metadata": {},
   "outputs": [
    {
     "data": {
      "text/plain": [
       "array([[1, 0, 0, 0, 0],\n",
       "       [1, 1, 0, 0, 0],\n",
       "       [1, 1, 1, 0, 0]])"
      ]
     },
     "execution_count": 281,
     "metadata": {},
     "output_type": "execute_result"
    }
   ],
   "source": [
    "np.tri(3,5,k=0,dtype=int)\n",
    "## the values of the k determines what diagonal elements are filled and under that."
   ]
  },
  {
   "cell_type": "code",
   "execution_count": 282,
   "id": "948e15e3",
   "metadata": {},
   "outputs": [
    {
     "data": {
      "text/plain": [
       "array([[1, 0, 0, 0],\n",
       "       [1, 1, 0, 0],\n",
       "       [1, 1, 1, 0],\n",
       "       [1, 1, 1, 1]])"
      ]
     },
     "execution_count": 282,
     "metadata": {},
     "output_type": "execute_result"
    }
   ],
   "source": [
    "np.tri(N=4,k=0,dtype=int)\n",
    "## here we can see that we have given only the value of N and not M hence what happens is that internally the value\n",
    "## of M is going to be equal to N"
   ]
  },
  {
   "cell_type": "markdown",
   "id": "2cf38896",
   "metadata": {},
   "source": [
    "# numpy tril"
   ]
  },
  {
   "cell_type": "code",
   "execution_count": 285,
   "id": "1b0b5d28",
   "metadata": {},
   "outputs": [
    {
     "data": {
      "text/plain": [
       "array([[1, 0, 0],\n",
       "       [4, 5, 0],\n",
       "       [7, 8, 9]])"
      ]
     },
     "execution_count": 285,
     "metadata": {},
     "output_type": "execute_result"
    }
   ],
   "source": [
    "np.tril([[1,2,3],[4,5,6],[7,8,9]])\n",
    "## this will return the lower triangle of the matrix"
   ]
  },
  {
   "cell_type": "code",
   "execution_count": 288,
   "id": "600c5e1d",
   "metadata": {},
   "outputs": [
    {
     "data": {
      "text/plain": [
       "array([[0, 0, 0],\n",
       "       [0, 0, 0],\n",
       "       [7, 0, 0]])"
      ]
     },
     "execution_count": 288,
     "metadata": {},
     "output_type": "execute_result"
    }
   ],
   "source": [
    "np.tril([[1,2,3],[4,5,6],[7,8,9]],k=-2) ## here the output has to be 7"
   ]
  },
  {
   "cell_type": "markdown",
   "id": "c0d250b1",
   "metadata": {},
   "source": [
    "# numpy triu"
   ]
  },
  {
   "cell_type": "code",
   "execution_count": 284,
   "id": "b50ef900",
   "metadata": {
    "scrolled": true
   },
   "outputs": [
    {
     "data": {
      "text/plain": [
       "array([[1, 2, 3],\n",
       "       [0, 5, 6],\n",
       "       [0, 0, 9],\n",
       "       [0, 0, 0]])"
      ]
     },
     "execution_count": 284,
     "metadata": {},
     "output_type": "execute_result"
    }
   ],
   "source": [
    "np.triu([[1,2,3],[4,5,6],[7,8,9],[10,11,12]])\n",
    "## this will return the upper triangle of the matrix"
   ]
  },
  {
   "cell_type": "code",
   "execution_count": 289,
   "id": "3b41d980",
   "metadata": {},
   "outputs": [
    {
     "ename": "NameError",
     "evalue": "name 'here' is not defined",
     "output_type": "error",
     "traceback": [
      "\u001b[0;31m---------------------------------------------------------------------------\u001b[0m",
      "\u001b[0;31mNameError\u001b[0m                                 Traceback (most recent call last)",
      "Cell \u001b[0;32mIn[289], line 1\u001b[0m\n\u001b[0;32m----> 1\u001b[0m \u001b[43mhere\u001b[49m\n",
      "\u001b[0;31mNameError\u001b[0m: name 'here' is not defined"
     ]
    }
   ],
   "source": []
  },
  {
   "cell_type": "code",
   "execution_count": null,
   "id": "58d2edfb",
   "metadata": {},
   "outputs": [],
   "source": []
  },
  {
   "cell_type": "code",
   "execution_count": 292,
   "id": "c794227c",
   "metadata": {},
   "outputs": [
    {
     "data": {
      "text/plain": [
       "array([[0, 2, 3],\n",
       "       [0, 0, 6],\n",
       "       [0, 0, 0],\n",
       "       [0, 0, 0]])"
      ]
     },
     "execution_count": 292,
     "metadata": {},
     "output_type": "execute_result"
    }
   ],
   "source": [
    "np.triu([[1,2,3],[4,5,6],[7,8,9],[10,11,12]],k=1) ## here the output must 2 6 and 3"
   ]
  },
  {
   "cell_type": "markdown",
   "id": "15e9d6cb",
   "metadata": {},
   "source": [
    "## Random Number generation"
   ]
  },
  {
   "cell_type": "code",
   "execution_count": null,
   "id": "94447a47",
   "metadata": {},
   "outputs": [],
   "source": []
  },
  {
   "cell_type": "code",
   "execution_count": 295,
   "id": "7d3674f3",
   "metadata": {},
   "outputs": [
    {
     "name": "stdout",
     "output_type": "stream",
     "text": [
      "[[0.33162737 0.67567631 0.09745076]\n",
      " [0.34445349 0.06870475 0.21143538]]\n"
     ]
    }
   ],
   "source": [
    "print(np.random.rand(2,3))\n",
    "## here i am going to print a matrix with dimensions with 2 rows and 3 columns and the data that is generated using \n",
    "## the rand is uniformly distributed"
   ]
  },
  {
   "cell_type": "code",
   "execution_count": 296,
   "id": "5a0281cf",
   "metadata": {},
   "outputs": [
    {
     "name": "stdout",
     "output_type": "stream",
     "text": [
      "[[-1.90804125 -0.82412566 -2.35589816]\n",
      " [ 0.41207    -0.66596028 -0.22205492]\n",
      " [-2.61960961  0.94126427  0.09617486]\n",
      " [ 0.33802081  0.10926002 -1.18891077]]\n"
     ]
    }
   ],
   "source": [
    "print(np.random.randn(4,3))\n",
    "## this is going to print a matrix with dimension with 4 rows and 3 columns and the data that is generated using\n",
    "## randn is normally distributed"
   ]
  },
  {
   "cell_type": "code",
   "execution_count": 314,
   "id": "ad7ec471",
   "metadata": {},
   "outputs": [
    {
     "name": "stdout",
     "output_type": "stream",
     "text": [
      "9\n"
     ]
    }
   ],
   "source": [
    "print(np.random.randint(1,10))"
   ]
  },
  {
   "cell_type": "code",
   "execution_count": null,
   "id": "fec91583",
   "metadata": {},
   "outputs": [],
   "source": []
  },
  {
   "cell_type": "code",
   "execution_count": 315,
   "id": "56e599dc",
   "metadata": {},
   "outputs": [
    {
     "name": "stdout",
     "output_type": "stream",
     "text": [
      "The random matrix that is generated by using the random function with values between 1 - 100\n",
      "[[39 47 38 72]\n",
      " [50 58 38 45]\n",
      " [75 93 56 50]\n",
      " [99 92 21 20]]\n"
     ]
    }
   ],
   "source": [
    "print(\"The random matrix that is generated by using the random function with values between 1 - 100\")\n",
    "print(np.random.randint(1,100,(4,4)))"
   ]
  },
  {
   "cell_type": "markdown",
   "id": "a0933dfe",
   "metadata": {},
   "source": [
    "## Reshaping"
   ]
  },
  {
   "cell_type": "code",
   "execution_count": 316,
   "id": "fdb55c94",
   "metadata": {},
   "outputs": [
    {
     "data": {
      "text/plain": [
       "array([69, 18, 62, 28, 35, 22, 86, 97, 61, 47, 22, 79, 62, 14,  2, 13, 52,\n",
       "       44, 43, 43, 56, 98, 49, 96, 37, 26,  1, 40, 60, 59])"
      ]
     },
     "execution_count": 316,
     "metadata": {},
     "output_type": "execute_result"
    }
   ],
   "source": [
    "from numpy.random import randint as ri\n",
    "a = ri(1,100,30) ## this will genereate a list of 30 numbers in between 1-100\n",
    "a"
   ]
  },
  {
   "cell_type": "code",
   "execution_count": 317,
   "id": "10346c48",
   "metadata": {},
   "outputs": [
    {
     "data": {
      "text/plain": [
       "array([[[69, 18, 62, 28, 35],\n",
       "        [22, 86, 97, 61, 47],\n",
       "        [22, 79, 62, 14,  2]],\n",
       "\n",
       "       [[13, 52, 44, 43, 43],\n",
       "        [56, 98, 49, 96, 37],\n",
       "        [26,  1, 40, 60, 59]]])"
      ]
     },
     "execution_count": 317,
     "metadata": {},
     "output_type": "execute_result"
    }
   ],
   "source": [
    "b = a.reshape(2,3,5)\n",
    "b"
   ]
  },
  {
   "cell_type": "code",
   "execution_count": 319,
   "id": "4e2071c5",
   "metadata": {},
   "outputs": [
    {
     "data": {
      "text/plain": [
       "array([[69, 18, 62, 28, 35],\n",
       "       [22, 86, 97, 61, 47],\n",
       "       [22, 79, 62, 14,  2],\n",
       "       [13, 52, 44, 43, 43],\n",
       "       [56, 98, 49, 96, 37],\n",
       "       [26,  1, 40, 60, 59]])"
      ]
     },
     "execution_count": 319,
     "metadata": {},
     "output_type": "execute_result"
    }
   ],
   "source": [
    "c = a.reshape(6,-19292)\n",
    "c\n",
    "## this will give a 6*5 dimension matrix even though we gave a -19292 as a dimension the computer will understand \n",
    "## because the shape is 1*30 there are 30 elements it will divide the 30 by 6 and then left is 5 hence (6,5)"
   ]
  },
  {
   "cell_type": "code",
   "execution_count": 320,
   "id": "29adc383",
   "metadata": {},
   "outputs": [],
   "source": [
    "A = ri(1,100,10)"
   ]
  },
  {
   "cell_type": "code",
   "execution_count": 321,
   "id": "a592eef2",
   "metadata": {},
   "outputs": [
    {
     "name": "stdout",
     "output_type": "stream",
     "text": [
      "Before Sorting\n",
      "[26 39 71 79 51 34 82 37 99 99]\n",
      "After sorting\n",
      "[26 34 37 39 51 71 79 82 99 99]\n"
     ]
    }
   ],
   "source": [
    "## doing np.sort operation\n",
    "print(\"Before Sorting\")\n",
    "print(A)\n",
    "print(\"After sorting\")\n",
    "print(np.sort(A))"
   ]
  },
  {
   "cell_type": "code",
   "execution_count": 323,
   "id": "d7324920",
   "metadata": {
    "scrolled": true
   },
   "outputs": [
    {
     "data": {
      "text/plain": [
       "array([[ 5, 55, 24, 65, 75],\n",
       "       [74, 59, 81,  6, 17],\n",
       "       [59, 61, 10, 84,  2],\n",
       "       [97, 19, 62, 33,  2],\n",
       "       [45, 36, 99, 88, 64]])"
      ]
     },
     "execution_count": 323,
     "metadata": {},
     "output_type": "execute_result"
    }
   ],
   "source": [
    "M = ri(1,100,25).reshape(5,5)\n",
    "M"
   ]
  },
  {
   "cell_type": "code",
   "execution_count": 328,
   "id": "f5da3086",
   "metadata": {
    "scrolled": false
   },
   "outputs": [
    {
     "name": "stdout",
     "output_type": "stream",
     "text": [
      "[[ 5 24 55 65 75]\n",
      " [ 6 17 59 74 81]\n",
      " [ 2 10 59 61 84]\n",
      " [ 2 19 33 62 97]\n",
      " [36 45 64 88 99]]\n"
     ]
    }
   ],
   "source": [
    "print(np.sort(M,axis=1,kind='mergesort'))\n",
    "## here iam trying to perform the sort operation on columns using merge sort"
   ]
  },
  {
   "cell_type": "code",
   "execution_count": 330,
   "id": "d7265e3a",
   "metadata": {},
   "outputs": [],
   "source": [
    "## here in the above matrix we can see that the matrix looks sorted but itseems likes it got sorted with rows but\n",
    "## specified it use the columns\n",
    "## Many poeple get confused here this is happening becuase when we say sort axis=1 then it will take each row(data)\n",
    "## and sort it column wise"
   ]
  },
  {
   "cell_type": "markdown",
   "id": "5b78c2f9",
   "metadata": {},
   "source": [
    "## ARGMAX"
   ]
  },
  {
   "cell_type": "code",
   "execution_count": 331,
   "id": "605565d4",
   "metadata": {},
   "outputs": [
    {
     "data": {
      "text/plain": [
       "array([[ 5, 55, 24, 65, 75],\n",
       "       [74, 59, 81,  6, 17],\n",
       "       [59, 61, 10, 84,  2],\n",
       "       [97, 19, 62, 33,  2],\n",
       "       [45, 36, 99, 88, 64]])"
      ]
     },
     "execution_count": 331,
     "metadata": {},
     "output_type": "execute_result"
    }
   ],
   "source": [
    "M"
   ]
  },
  {
   "cell_type": "code",
   "execution_count": 332,
   "id": "a538fba2",
   "metadata": {},
   "outputs": [
    {
     "data": {
      "text/plain": [
       "array([4, 2, 3, 0, 2])"
      ]
     },
     "execution_count": 332,
     "metadata": {},
     "output_type": "execute_result"
    }
   ],
   "source": [
    "M.argmax(axis=1)"
   ]
  },
  {
   "cell_type": "code",
   "execution_count": 333,
   "id": "6f0a0410",
   "metadata": {},
   "outputs": [
    {
     "data": {
      "text/plain": [
       "array([3, 2, 4, 4, 0])"
      ]
     },
     "execution_count": 333,
     "metadata": {},
     "output_type": "execute_result"
    }
   ],
   "source": [
    "M.argmax(axis=0)"
   ]
  },
  {
   "cell_type": "code",
   "execution_count": 335,
   "id": "e1bd4532",
   "metadata": {},
   "outputs": [
    {
     "data": {
      "text/plain": [
       "21"
      ]
     },
     "execution_count": 335,
     "metadata": {},
     "output_type": "execute_result"
    }
   ],
   "source": [
    "c.argmax()"
   ]
  },
  {
   "cell_type": "markdown",
   "id": "5ab575fe",
   "metadata": {},
   "source": [
    "## indexing and slicing"
   ]
  },
  {
   "cell_type": "code",
   "execution_count": 337,
   "id": "8a94830d",
   "metadata": {},
   "outputs": [
    {
     "data": {
      "text/plain": [
       "array([ 0,  1,  2,  3,  4,  5,  6,  7,  8,  9, 10])"
      ]
     },
     "execution_count": 337,
     "metadata": {},
     "output_type": "execute_result"
    }
   ],
   "source": [
    "arr = np.arange(0,11)\n",
    "arr"
   ]
  },
  {
   "cell_type": "code",
   "execution_count": 338,
   "id": "037da3fa",
   "metadata": {},
   "outputs": [
    {
     "name": "stdout",
     "output_type": "stream",
     "text": [
      "The element at index 7 is  7\n"
     ]
    }
   ],
   "source": [
    "print(\"The element at index 7 is \",arr[7])"
   ]
  },
  {
   "cell_type": "code",
   "execution_count": 339,
   "id": "ff34e769",
   "metadata": {},
   "outputs": [
    {
     "name": "stdout",
     "output_type": "stream",
     "text": [
      "3rd and 5th index using step  [3 5]\n"
     ]
    }
   ],
   "source": [
    "print(\"3rd and 5th index using step \",arr[3:6:2])"
   ]
  },
  {
   "cell_type": "code",
   "execution_count": 341,
   "id": "42978a69",
   "metadata": {},
   "outputs": [
    {
     "name": "stdout",
     "output_type": "stream",
     "text": [
      "printing the number's in reverse order  [10  9]\n"
     ]
    }
   ],
   "source": [
    "print(\"printing the number's in reverse order \",arr[-1:8:-1])"
   ]
  },
  {
   "cell_type": "code",
   "execution_count": null,
   "id": "78486af0",
   "metadata": {},
   "outputs": [],
   "source": []
  }
 ],
 "metadata": {
  "kernelspec": {
   "display_name": "Python 3 (ipykernel)",
   "language": "python",
   "name": "python3"
  },
  "language_info": {
   "codemirror_mode": {
    "name": "ipython",
    "version": 3
   },
   "file_extension": ".py",
   "mimetype": "text/x-python",
   "name": "python",
   "nbconvert_exporter": "python",
   "pygments_lexer": "ipython3",
   "version": "3.10.11"
  }
 },
 "nbformat": 4,
 "nbformat_minor": 5
}
