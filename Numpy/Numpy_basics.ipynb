{
 "cells": [
  {
   "cell_type": "code",
   "execution_count": 1,
   "id": "42a5b29f",
   "metadata": {},
   "outputs": [],
   "source": [
    "import numpy as np"
   ]
  },
  {
   "cell_type": "code",
   "execution_count": 4,
   "id": "7b5264a8",
   "metadata": {},
   "outputs": [],
   "source": [
    "a = np.array(['abcd',1,2])"
   ]
  },
  {
   "cell_type": "code",
   "execution_count": 5,
   "id": "86b4732a",
   "metadata": {},
   "outputs": [
    {
     "data": {
      "text/plain": [
       "numpy.ndarray"
      ]
     },
     "execution_count": 5,
     "metadata": {},
     "output_type": "execute_result"
    }
   ],
   "source": [
    "type(a)"
   ]
  },
  {
   "cell_type": "markdown",
   "id": "71602087",
   "metadata": {},
   "source": [
    "## upcasting"
   ]
  },
  {
   "cell_type": "code",
   "execution_count": 6,
   "id": "861cc8e2",
   "metadata": {},
   "outputs": [],
   "source": [
    "b = np.array([1,2,3.0])"
   ]
  },
  {
   "cell_type": "code",
   "execution_count": 9,
   "id": "357a0c86",
   "metadata": {},
   "outputs": [
    {
     "data": {
      "text/plain": [
       "array([1., 2., 3.])"
      ]
     },
     "execution_count": 9,
     "metadata": {},
     "output_type": "execute_result"
    }
   ],
   "source": [
    "b\n",
    "## here we can see that the array i gave was 1,2,3.0 but when i print the array it is doing upcasting and printing 1.,2.,3."
   ]
  },
  {
   "cell_type": "markdown",
   "id": "148e781b",
   "metadata": {},
   "source": [
    "## two dimension array"
   ]
  },
  {
   "cell_type": "code",
   "execution_count": 12,
   "id": "0ce8cdfe",
   "metadata": {},
   "outputs": [],
   "source": [
    "mat = np.array([[1,2],\n",
    "              [3,4]])"
   ]
  },
  {
   "cell_type": "code",
   "execution_count": 14,
   "id": "fb84ace1",
   "metadata": {},
   "outputs": [
    {
     "data": {
      "text/plain": [
       "numpy.ndarray"
      ]
     },
     "execution_count": 14,
     "metadata": {},
     "output_type": "execute_result"
    }
   ],
   "source": [
    "type(mat)"
   ]
  },
  {
   "cell_type": "markdown",
   "id": "099e78b5",
   "metadata": {},
   "source": [
    "## How to create a N dimension array"
   ]
  },
  {
   "cell_type": "code",
   "execution_count": 16,
   "id": "37e5dd46",
   "metadata": {},
   "outputs": [
    {
     "data": {
      "text/plain": [
       "array([[[[[1, 2],\n",
       "          [3, 4]]]]])"
      ]
     },
     "execution_count": 16,
     "metadata": {},
     "output_type": "execute_result"
    }
   ],
   "source": [
    "c = np.array([[1,2],[3,4]],ndmin=5)\n",
    "c\n",
    "## here we can see that the C array is a 5 dimension array"
   ]
  },
  {
   "cell_type": "markdown",
   "id": "9401f8c0",
   "metadata": {},
   "source": [
    "## how to change the datatype or convert "
   ]
  },
  {
   "cell_type": "code",
   "execution_count": 24,
   "id": "f5624fa0",
   "metadata": {},
   "outputs": [],
   "source": [
    "d = np.array([[1,2,3]],dtype=complex)"
   ]
  },
  {
   "cell_type": "code",
   "execution_count": 26,
   "id": "b2471684",
   "metadata": {},
   "outputs": [
    {
     "data": {
      "text/plain": [
       "array([[1.+0.j, 2.+0.j, 3.+0.j]])"
      ]
     },
     "execution_count": 26,
     "metadata": {},
     "output_type": "execute_result"
    }
   ],
   "source": [
    "d\n",
    "## here in the below output i can see that even though i gave real values of data but given datatype as complex\n",
    "## it has converted the data in the array to complex as in the form a + ij"
   ]
  },
  {
   "cell_type": "markdown",
   "id": "72b43dbb",
   "metadata": {},
   "source": [
    "## Data-type consisting of more than one element"
   ]
  },
  {
   "cell_type": "code",
   "execution_count": 29,
   "id": "2ae2f797",
   "metadata": {},
   "outputs": [],
   "source": [
    "e = np.array([(1,2),(3,4)],dtype=[('a','i2'),('b','i8')])"
   ]
  },
  {
   "cell_type": "code",
   "execution_count": 30,
   "id": "759e9c6f",
   "metadata": {},
   "outputs": [
    {
     "data": {
      "text/plain": [
       "array([(1, 2), (3, 4)], dtype=[('a', '<i2'), ('b', '<i8')])"
      ]
     },
     "execution_count": 30,
     "metadata": {},
     "output_type": "execute_result"
    }
   ],
   "source": [
    "e"
   ]
  },
  {
   "cell_type": "code",
   "execution_count": 33,
   "id": "59806580",
   "metadata": {},
   "outputs": [
    {
     "data": {
      "text/plain": [
       "numpy.int16"
      ]
     },
     "execution_count": 33,
     "metadata": {},
     "output_type": "execute_result"
    }
   ],
   "source": [
    "type(e[0][0]) ## here we can see that i2 mean it is INT16"
   ]
  },
  {
   "cell_type": "code",
   "execution_count": 34,
   "id": "c8590edd",
   "metadata": {},
   "outputs": [
    {
     "data": {
      "text/plain": [
       "numpy.int64"
      ]
     },
     "execution_count": 34,
     "metadata": {},
     "output_type": "execute_result"
    }
   ],
   "source": [
    "type(e[0][1]) ## here we can see that i8 mean it is INT64"
   ]
  },
  {
   "cell_type": "code",
   "execution_count": null,
   "id": "a953648c",
   "metadata": {},
   "outputs": [],
   "source": []
  }
 ],
 "metadata": {
  "kernelspec": {
   "display_name": "Python 3 (ipykernel)",
   "language": "python",
   "name": "python3"
  },
  "language_info": {
   "codemirror_mode": {
    "name": "ipython",
    "version": 3
   },
   "file_extension": ".py",
   "mimetype": "text/x-python",
   "name": "python",
   "nbconvert_exporter": "python",
   "pygments_lexer": "ipython3",
   "version": "3.10.11"
  }
 },
 "nbformat": 4,
 "nbformat_minor": 5
}
