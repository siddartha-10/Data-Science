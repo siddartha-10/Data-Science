{
 "cells": [
  {
   "cell_type": "code",
   "execution_count": 1,
   "id": "2581a16d",
   "metadata": {},
   "outputs": [],
   "source": [
    "import numpy as np"
   ]
  },
  {
   "cell_type": "code",
   "execution_count": 4,
   "id": "7a14ed85",
   "metadata": {},
   "outputs": [],
   "source": [
    "a = np.array(['abcd',1,2])"
   ]
  },
  {
   "cell_type": "code",
   "execution_count": 5,
   "id": "58ae4f4c",
   "metadata": {},
   "outputs": [
    {
     "data": {
      "text/plain": [
       "numpy.ndarray"
      ]
     },
     "execution_count": 5,
     "metadata": {},
     "output_type": "execute_result"
    }
   ],
   "source": [
    "type(a)"
   ]
  },
  {
   "cell_type": "markdown",
   "id": "a7e65731",
   "metadata": {},
   "source": [
    "## upcasting"
   ]
  },
  {
   "cell_type": "code",
   "execution_count": 6,
   "id": "aa68f23d",
   "metadata": {},
   "outputs": [],
   "source": [
    "b = np.array([1,2,3.0])"
   ]
  },
  {
   "cell_type": "code",
   "execution_count": 9,
   "id": "e6c1f928",
   "metadata": {},
   "outputs": [
    {
     "data": {
      "text/plain": [
       "array([1., 2., 3.])"
      ]
     },
     "execution_count": 9,
     "metadata": {},
     "output_type": "execute_result"
    }
   ],
   "source": [
    "b\n",
    "## here we can see that the array i gave was 1,2,3.0 but when i print the array it is doing upcasting and printing 1.,2.,3."
   ]
  },
  {
   "cell_type": "markdown",
   "id": "12fedc60",
   "metadata": {},
   "source": [
    "## two dimension array"
   ]
  },
  {
   "cell_type": "code",
   "execution_count": 12,
   "id": "2b1aea08",
   "metadata": {},
   "outputs": [],
   "source": [
    "mat = np.array([[1,2],\n",
    "              [3,4]])"
   ]
  },
  {
   "cell_type": "code",
   "execution_count": 14,
   "id": "6a29ef97",
   "metadata": {},
   "outputs": [
    {
     "data": {
      "text/plain": [
       "numpy.ndarray"
      ]
     },
     "execution_count": 14,
     "metadata": {},
     "output_type": "execute_result"
    }
   ],
   "source": [
    "type(mat)"
   ]
  },
  {
   "cell_type": "markdown",
   "id": "f77eb6c0",
   "metadata": {},
   "source": [
    "## How to create a N dimension array"
   ]
  },
  {
   "cell_type": "code",
   "execution_count": 16,
   "id": "92b13b5a",
   "metadata": {},
   "outputs": [
    {
     "data": {
      "text/plain": [
       "array([[[[[1, 2],\n",
       "          [3, 4]]]]])"
      ]
     },
     "execution_count": 16,
     "metadata": {},
     "output_type": "execute_result"
    }
   ],
   "source": [
    "c = np.array([[1,2],[3,4]],ndmin=5)\n",
    "c\n",
    "## here we can see that the C array is a 5 dimension array"
   ]
  },
  {
   "cell_type": "markdown",
   "id": "decbf1c2",
   "metadata": {},
   "source": [
    "## how to change the datatype or convert "
   ]
  },
  {
   "cell_type": "code",
   "execution_count": 24,
   "id": "4d4a28a6",
   "metadata": {},
   "outputs": [],
   "source": [
    "d = np.array([[1,2,3]],dtype=complex)"
   ]
  },
  {
   "cell_type": "code",
   "execution_count": 26,
   "id": "3206b5e5",
   "metadata": {},
   "outputs": [
    {
     "data": {
      "text/plain": [
       "array([[1.+0.j, 2.+0.j, 3.+0.j]])"
      ]
     },
     "execution_count": 26,
     "metadata": {},
     "output_type": "execute_result"
    }
   ],
   "source": [
    "d\n",
    "## here in the below output i can see that even though i gave real values of data but given datatype as complex\n",
    "## it has converted the data in the array to complex as in the form a + ij"
   ]
  },
  {
   "cell_type": "markdown",
   "id": "46eb4060",
   "metadata": {},
   "source": [
    "## Data-type consisting of more than one element"
   ]
  },
  {
   "cell_type": "code",
   "execution_count": 29,
   "id": "efb6e0f7",
   "metadata": {},
   "outputs": [],
   "source": [
    "e = np.array([(1,2),(3,4)],dtype=[('a','i2'),('b','i8')])"
   ]
  },
  {
   "cell_type": "code",
   "execution_count": 30,
   "id": "ef0260be",
   "metadata": {},
   "outputs": [
    {
     "data": {
      "text/plain": [
       "array([(1, 2), (3, 4)], dtype=[('a', '<i2'), ('b', '<i8')])"
      ]
     },
     "execution_count": 30,
     "metadata": {},
     "output_type": "execute_result"
    }
   ],
   "source": [
    "e"
   ]
  },
  {
   "cell_type": "code",
   "execution_count": 33,
   "id": "29b92795",
   "metadata": {},
   "outputs": [
    {
     "data": {
      "text/plain": [
       "numpy.int16"
      ]
     },
     "execution_count": 33,
     "metadata": {},
     "output_type": "execute_result"
    }
   ],
   "source": [
    "type(e[0][0]) ## here we can see that i2 mean it is INT16"
   ]
  },
  {
   "cell_type": "code",
   "execution_count": 34,
   "id": "fa2c6746",
   "metadata": {},
   "outputs": [
    {
     "data": {
      "text/plain": [
       "numpy.int64"
      ]
     },
     "execution_count": 34,
     "metadata": {},
     "output_type": "execute_result"
    }
   ],
   "source": [
    "type(e[0][1]) ## here we can see that i8 mean it is INT64"
   ]
  },
  {
   "cell_type": "markdown",
   "id": "a3883907",
   "metadata": {},
   "source": [
    "## creating an array from subclasses"
   ]
  },
  {
   "cell_type": "code",
   "execution_count": 35,
   "id": "ba79633e",
   "metadata": {},
   "outputs": [
    {
     "data": {
      "text/plain": [
       "array([[1, 2],\n",
       "       [3, 4]])"
      ]
     },
     "execution_count": 35,
     "metadata": {},
     "output_type": "execute_result"
    }
   ],
   "source": [
    "np.array([[1,2],[3,4]])"
   ]
  },
  {
   "cell_type": "code",
   "execution_count": null,
   "id": "7cfb7b66",
   "metadata": {},
   "outputs": [],
   "source": [
    "## the above is array\n",
    "## now i converted the above array into a matrix\n",
    "np.mat"
   ]
  }
 ],
 "metadata": {
  "kernelspec": {
   "display_name": "Python 3 (ipykernel)",
   "language": "python",
   "name": "python3"
  },
  "language_info": {
   "codemirror_mode": {
    "name": "ipython",
    "version": 3
   },
   "file_extension": ".py",
   "mimetype": "text/x-python",
   "name": "python",
   "nbconvert_exporter": "python",
   "pygments_lexer": "ipython3",
   "version": "3.10.11"
  }
 },
 "nbformat": 4,
 "nbformat_minor": 5
}
