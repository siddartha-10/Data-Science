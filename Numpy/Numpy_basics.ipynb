{
 "cells": [
  {
   "cell_type": "code",
   "execution_count": 1,
   "id": "e7a581ef",
   "metadata": {},
   "outputs": [],
   "source": [
    "import numpy as np"
   ]
  },
  {
   "cell_type": "code",
   "execution_count": 4,
   "id": "1034f429",
   "metadata": {},
   "outputs": [],
   "source": [
    "a = np.array(['abcd',1,2])"
   ]
  },
  {
   "cell_type": "code",
   "execution_count": 5,
   "id": "aa682eab",
   "metadata": {},
   "outputs": [
    {
     "data": {
      "text/plain": [
       "numpy.ndarray"
      ]
     },
     "execution_count": 5,
     "metadata": {},
     "output_type": "execute_result"
    }
   ],
   "source": [
    "type(a)"
   ]
  },
  {
   "cell_type": "markdown",
   "id": "bc5aa4dc",
   "metadata": {},
   "source": [
    "## upcasting"
   ]
  },
  {
   "cell_type": "code",
   "execution_count": 6,
   "id": "538e92af",
   "metadata": {},
   "outputs": [],
   "source": [
    "b = np.array([1,2,3.0])"
   ]
  },
  {
   "cell_type": "code",
   "execution_count": 9,
   "id": "9dbe1214",
   "metadata": {},
   "outputs": [
    {
     "data": {
      "text/plain": [
       "array([1., 2., 3.])"
      ]
     },
     "execution_count": 9,
     "metadata": {},
     "output_type": "execute_result"
    }
   ],
   "source": [
    "b\n",
    "## here we can see that the array i gave was 1,2,3.0 but when i print the array it is doing upcasting and printing 1.,2.,3."
   ]
  },
  {
   "cell_type": "markdown",
   "id": "a76495b4",
   "metadata": {},
   "source": [
    "## two dimension array"
   ]
  },
  {
   "cell_type": "code",
   "execution_count": 12,
   "id": "81542649",
   "metadata": {},
   "outputs": [],
   "source": [
    "mat = np.array([[1,2],\n",
    "              [3,4]])"
   ]
  },
  {
   "cell_type": "code",
   "execution_count": 14,
   "id": "fd8a390e",
   "metadata": {},
   "outputs": [
    {
     "data": {
      "text/plain": [
       "numpy.ndarray"
      ]
     },
     "execution_count": 14,
     "metadata": {},
     "output_type": "execute_result"
    }
   ],
   "source": [
    "type(mat)"
   ]
  },
  {
   "cell_type": "markdown",
   "id": "5badc114",
   "metadata": {},
   "source": [
    "## How to create a N dimension array"
   ]
  },
  {
   "cell_type": "code",
   "execution_count": 16,
   "id": "674c7bb9",
   "metadata": {},
   "outputs": [
    {
     "data": {
      "text/plain": [
       "array([[[[[1, 2],\n",
       "          [3, 4]]]]])"
      ]
     },
     "execution_count": 16,
     "metadata": {},
     "output_type": "execute_result"
    }
   ],
   "source": [
    "c = np.array([[1,2],[3,4]],ndmin=5)\n",
    "c\n",
    "## here we can see that the C array is a 5 dimension array"
   ]
  },
  {
   "cell_type": "markdown",
   "id": "107e6546",
   "metadata": {},
   "source": [
    "## how to change the datatype or convert "
   ]
  },
  {
   "cell_type": "code",
   "execution_count": 24,
   "id": "66859880",
   "metadata": {},
   "outputs": [],
   "source": [
    "d = np.array([[1,2,3]],dtype=complex)"
   ]
  },
  {
   "cell_type": "code",
   "execution_count": 26,
   "id": "5d96cc93",
   "metadata": {},
   "outputs": [
    {
     "data": {
      "text/plain": [
       "array([[1.+0.j, 2.+0.j, 3.+0.j]])"
      ]
     },
     "execution_count": 26,
     "metadata": {},
     "output_type": "execute_result"
    }
   ],
   "source": [
    "d\n",
    "## here in the below output i can see that even though i gave real values of data but given datatype as complex\n",
    "## it has converted the data in the array to complex as in the form a + ij"
   ]
  },
  {
   "cell_type": "markdown",
   "id": "aca00b87",
   "metadata": {},
   "source": [
    "## Data-type consisting of more than one element"
   ]
  },
  {
   "cell_type": "code",
   "execution_count": 29,
   "id": "bcbd2de2",
   "metadata": {},
   "outputs": [],
   "source": [
    "e = np.array([(1,2),(3,4)],dtype=[('a','i2'),('b','i8')])"
   ]
  },
  {
   "cell_type": "code",
   "execution_count": 30,
   "id": "ab77f8a2",
   "metadata": {},
   "outputs": [
    {
     "data": {
      "text/plain": [
       "array([(1, 2), (3, 4)], dtype=[('a', '<i2'), ('b', '<i8')])"
      ]
     },
     "execution_count": 30,
     "metadata": {},
     "output_type": "execute_result"
    }
   ],
   "source": [
    "e"
   ]
  },
  {
   "cell_type": "code",
   "execution_count": 33,
   "id": "181a2028",
   "metadata": {},
   "outputs": [
    {
     "data": {
      "text/plain": [
       "numpy.int16"
      ]
     },
     "execution_count": 33,
     "metadata": {},
     "output_type": "execute_result"
    }
   ],
   "source": [
    "type(e[0][0]) ## here we can see that i2 mean it is INT16"
   ]
  },
  {
   "cell_type": "code",
   "execution_count": 34,
   "id": "24711246",
   "metadata": {},
   "outputs": [
    {
     "data": {
      "text/plain": [
       "numpy.int64"
      ]
     },
     "execution_count": 34,
     "metadata": {},
     "output_type": "execute_result"
    }
   ],
   "source": [
    "type(e[0][1]) ## here we can see that i8 mean it is INT64"
   ]
  },
  {
   "cell_type": "markdown",
   "id": "b48f3d69",
   "metadata": {},
   "source": [
    "## creating an array from subclasses"
   ]
  },
  {
   "cell_type": "code",
   "execution_count": 35,
   "id": "491dec11",
   "metadata": {},
   "outputs": [
    {
     "data": {
      "text/plain": [
       "array([[1, 2],\n",
       "       [3, 4]])"
      ]
     },
     "execution_count": 35,
     "metadata": {},
     "output_type": "execute_result"
    }
   ],
   "source": [
    "np.array([[1,2],[3,4]])"
   ]
  },
  {
   "cell_type": "code",
   "execution_count": 37,
   "id": "d2c55f54",
   "metadata": {},
   "outputs": [],
   "source": [
    "## the above is array\n",
    "## now i converted the above array into a matrix\n",
    "f = np.mat(np.array([[1,2],[3,4]]))"
   ]
  },
  {
   "cell_type": "code",
   "execution_count": 38,
   "id": "d6b9c17b",
   "metadata": {},
   "outputs": [
    {
     "data": {
      "text/plain": [
       "numpy.matrix"
      ]
     },
     "execution_count": 38,
     "metadata": {},
     "output_type": "execute_result"
    }
   ],
   "source": [
    "type(f)"
   ]
  },
  {
   "cell_type": "markdown",
   "id": "6daefb9a",
   "metadata": {},
   "source": [
    "## numpy.asarray"
   ]
  },
  {
   "cell_type": "code",
   "execution_count": 42,
   "id": "2c595683",
   "metadata": {},
   "outputs": [
    {
     "data": {
      "text/plain": [
       "list"
      ]
     },
     "execution_count": 42,
     "metadata": {},
     "output_type": "execute_result"
    }
   ],
   "source": [
    "## convert a list into an array\n",
    "a = [1,2]\n",
    "type(a)"
   ]
  },
  {
   "cell_type": "code",
   "execution_count": 43,
   "id": "4ef6d6fa",
   "metadata": {},
   "outputs": [],
   "source": [
    "a = np.asarray(a)"
   ]
  },
  {
   "cell_type": "code",
   "execution_count": 45,
   "id": "2544699a",
   "metadata": {},
   "outputs": [
    {
     "data": {
      "text/plain": [
       "numpy.ndarray"
      ]
     },
     "execution_count": 45,
     "metadata": {},
     "output_type": "execute_result"
    }
   ],
   "source": [
    "type(a)"
   ]
  },
  {
   "cell_type": "code",
   "execution_count": 48,
   "id": "701634c9",
   "metadata": {},
   "outputs": [
    {
     "data": {
      "text/plain": [
       "array([1., 2.], dtype=float32)"
      ]
     },
     "execution_count": 48,
     "metadata": {},
     "output_type": "execute_result"
    }
   ],
   "source": [
    "a = np.array([1,2],dtype = np.float32)\n",
    "a"
   ]
  },
  {
   "cell_type": "code",
   "execution_count": 51,
   "id": "e4af4fd4",
   "metadata": {},
   "outputs": [
    {
     "data": {
      "text/plain": [
       "False"
      ]
     },
     "execution_count": 51,
     "metadata": {},
     "output_type": "execute_result"
    }
   ],
   "source": [
    "np.asarray(np.array([1,2])) is a\n",
    "## here we are getting false because the type of a is float32 and here np.array the dtype will be int64"
   ]
  },
  {
   "cell_type": "code",
   "execution_count": 53,
   "id": "9be39b3b",
   "metadata": {},
   "outputs": [
    {
     "data": {
      "text/plain": [
       "False"
      ]
     },
     "execution_count": 53,
     "metadata": {},
     "output_type": "execute_result"
    }
   ],
   "source": [
    "np.asarray(a,dtype=np.float64) is a\n",
    "## here we can see that asarray of type a is not float64 hence we can this is returning false"
   ]
  },
  {
   "cell_type": "code",
   "execution_count": 54,
   "id": "d4304f73",
   "metadata": {},
   "outputs": [
    {
     "data": {
      "text/plain": [
       "True"
      ]
     },
     "execution_count": 54,
     "metadata": {},
     "output_type": "execute_result"
    }
   ],
   "source": [
    "## Now we can see that it will return true becuase the dtype we are giving is float32\n",
    "np.asarray(a,dtype = np.float32) is a"
   ]
  },
  {
   "cell_type": "markdown",
   "id": "a48190a7",
   "metadata": {},
   "source": [
    "## subclasses or not"
   ]
  },
  {
   "cell_type": "code",
   "execution_count": 56,
   "id": "ad664e63",
   "metadata": {},
   "outputs": [
    {
     "data": {
      "text/plain": [
       "True"
      ]
     },
     "execution_count": 56,
     "metadata": {},
     "output_type": "execute_result"
    }
   ],
   "source": [
    "issubclass(np.matrix,np.ndarray)\n",
    "## here we are saying is matrix the subclass of ndarray yes so it's returning true"
   ]
  },
  {
   "cell_type": "code",
   "execution_count": null,
   "id": "1951843c",
   "metadata": {},
   "outputs": [],
   "source": [
    "issu"
   ]
  }
 ],
 "metadata": {
  "kernelspec": {
   "display_name": "Python 3 (ipykernel)",
   "language": "python",
   "name": "python3"
  },
  "language_info": {
   "codemirror_mode": {
    "name": "ipython",
    "version": 3
   },
   "file_extension": ".py",
   "mimetype": "text/x-python",
   "name": "python",
   "nbconvert_exporter": "python",
   "pygments_lexer": "ipython3",
   "version": "3.10.11"
  }
 },
 "nbformat": 4,
 "nbformat_minor": 5
}
