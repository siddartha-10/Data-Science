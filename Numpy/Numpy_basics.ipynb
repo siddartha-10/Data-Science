{
 "cells": [
  {
   "cell_type": "code",
   "execution_count": 1,
   "id": "2a684e80",
   "metadata": {},
   "outputs": [],
   "source": [
    "import numpy as np"
   ]
  },
  {
   "cell_type": "code",
   "execution_count": 2,
   "id": "0926f722",
   "metadata": {},
   "outputs": [],
   "source": [
    "a = np.array(['abcd',1,2])"
   ]
  },
  {
   "cell_type": "code",
   "execution_count": 3,
   "id": "33cc34e0",
   "metadata": {},
   "outputs": [
    {
     "data": {
      "text/plain": [
       "numpy.ndarray"
      ]
     },
     "execution_count": 3,
     "metadata": {},
     "output_type": "execute_result"
    }
   ],
   "source": [
    "type(a)"
   ]
  },
  {
   "cell_type": "markdown",
   "id": "babf4280",
   "metadata": {},
   "source": [
    "## upcasting"
   ]
  },
  {
   "cell_type": "code",
   "execution_count": 4,
   "id": "516200ec",
   "metadata": {},
   "outputs": [],
   "source": [
    "b = np.array([1,2,3.0])"
   ]
  },
  {
   "cell_type": "code",
   "execution_count": 5,
   "id": "6e469f40",
   "metadata": {},
   "outputs": [
    {
     "data": {
      "text/plain": [
       "array([1., 2., 3.])"
      ]
     },
     "execution_count": 5,
     "metadata": {},
     "output_type": "execute_result"
    }
   ],
   "source": [
    "b\n",
    "## here we can see that the array i gave was 1,2,3.0 but when i print the array it is doing upcasting and printing 1.,2.,3."
   ]
  },
  {
   "cell_type": "markdown",
   "id": "5fe49ab1",
   "metadata": {},
   "source": [
    "## two dimension array"
   ]
  },
  {
   "cell_type": "code",
   "execution_count": 6,
   "id": "fa4971c9",
   "metadata": {},
   "outputs": [],
   "source": [
    "mat = np.array([[1,2],\n",
    "              [3,4]])"
   ]
  },
  {
   "cell_type": "code",
   "execution_count": 7,
   "id": "b7951585",
   "metadata": {},
   "outputs": [
    {
     "data": {
      "text/plain": [
       "numpy.ndarray"
      ]
     },
     "execution_count": 7,
     "metadata": {},
     "output_type": "execute_result"
    }
   ],
   "source": [
    "type(mat)"
   ]
  },
  {
   "cell_type": "markdown",
   "id": "5865437f",
   "metadata": {},
   "source": [
    "## How to create a N dimension array"
   ]
  },
  {
   "cell_type": "code",
   "execution_count": 8,
   "id": "df263adb",
   "metadata": {},
   "outputs": [
    {
     "data": {
      "text/plain": [
       "array([[[[[1, 2],\n",
       "          [3, 4]]]]])"
      ]
     },
     "execution_count": 8,
     "metadata": {},
     "output_type": "execute_result"
    }
   ],
   "source": [
    "c = np.array([[1,2],[3,4]],ndmin=5)\n",
    "c\n",
    "## here we can see that the C array is a 5 dimension array"
   ]
  },
  {
   "cell_type": "markdown",
   "id": "01791e33",
   "metadata": {},
   "source": [
    "## how to change the datatype or convert "
   ]
  },
  {
   "cell_type": "code",
   "execution_count": 9,
   "id": "ef2f2999",
   "metadata": {},
   "outputs": [],
   "source": [
    "d = np.array([[1,2,3]],dtype=complex)"
   ]
  },
  {
   "cell_type": "code",
   "execution_count": 10,
   "id": "15372635",
   "metadata": {},
   "outputs": [
    {
     "data": {
      "text/plain": [
       "array([[1.+0.j, 2.+0.j, 3.+0.j]])"
      ]
     },
     "execution_count": 10,
     "metadata": {},
     "output_type": "execute_result"
    }
   ],
   "source": [
    "d\n",
    "## here in the below output i can see that even though i gave real values of data but given datatype as complex\n",
    "## it has converted the data in the array to complex as in the form a + ij"
   ]
  },
  {
   "cell_type": "markdown",
   "id": "b51c3736",
   "metadata": {},
   "source": [
    "## Data-type consisting of more than one element"
   ]
  },
  {
   "cell_type": "code",
   "execution_count": 11,
   "id": "d5823e1c",
   "metadata": {},
   "outputs": [],
   "source": [
    "e = np.array([(1,2),(3,4)],dtype=[('a','i2'),('b','i8')])"
   ]
  },
  {
   "cell_type": "code",
   "execution_count": 12,
   "id": "72e96163",
   "metadata": {},
   "outputs": [
    {
     "data": {
      "text/plain": [
       "array([(1, 2), (3, 4)], dtype=[('a', '<i2'), ('b', '<i8')])"
      ]
     },
     "execution_count": 12,
     "metadata": {},
     "output_type": "execute_result"
    }
   ],
   "source": [
    "e"
   ]
  },
  {
   "cell_type": "code",
   "execution_count": 13,
   "id": "f1e54794",
   "metadata": {},
   "outputs": [
    {
     "data": {
      "text/plain": [
       "numpy.int16"
      ]
     },
     "execution_count": 13,
     "metadata": {},
     "output_type": "execute_result"
    }
   ],
   "source": [
    "type(e[0][0]) ## here we can see that i2 mean it is INT16"
   ]
  },
  {
   "cell_type": "code",
   "execution_count": 14,
   "id": "58657ad2",
   "metadata": {},
   "outputs": [
    {
     "data": {
      "text/plain": [
       "numpy.int64"
      ]
     },
     "execution_count": 14,
     "metadata": {},
     "output_type": "execute_result"
    }
   ],
   "source": [
    "type(e[0][1]) ## here we can see that i8 mean it is INT64"
   ]
  },
  {
   "cell_type": "markdown",
   "id": "d544d391",
   "metadata": {},
   "source": [
    "## creating an array from subclasses"
   ]
  },
  {
   "cell_type": "code",
   "execution_count": 15,
   "id": "5bc02230",
   "metadata": {},
   "outputs": [
    {
     "data": {
      "text/plain": [
       "array([[1, 2],\n",
       "       [3, 4]])"
      ]
     },
     "execution_count": 15,
     "metadata": {},
     "output_type": "execute_result"
    }
   ],
   "source": [
    "np.array([[1,2],[3,4]])"
   ]
  },
  {
   "cell_type": "code",
   "execution_count": 16,
   "id": "f9412ee5",
   "metadata": {},
   "outputs": [],
   "source": [
    "## the above is array\n",
    "## now i converted the above array into a matrix\n",
    "f = np.mat(np.array([[1,2],[3,4]]))"
   ]
  },
  {
   "cell_type": "code",
   "execution_count": 17,
   "id": "4098f932",
   "metadata": {},
   "outputs": [
    {
     "data": {
      "text/plain": [
       "numpy.matrix"
      ]
     },
     "execution_count": 17,
     "metadata": {},
     "output_type": "execute_result"
    }
   ],
   "source": [
    "type(f)"
   ]
  },
  {
   "cell_type": "markdown",
   "id": "a3a253e6",
   "metadata": {},
   "source": [
    "## numpy.asarray"
   ]
  },
  {
   "cell_type": "code",
   "execution_count": 18,
   "id": "8fd7d4e3",
   "metadata": {},
   "outputs": [
    {
     "data": {
      "text/plain": [
       "list"
      ]
     },
     "execution_count": 18,
     "metadata": {},
     "output_type": "execute_result"
    }
   ],
   "source": [
    "## convert a list into an array\n",
    "a = [1,2]\n",
    "type(a)"
   ]
  },
  {
   "cell_type": "code",
   "execution_count": 19,
   "id": "692b38ab",
   "metadata": {},
   "outputs": [],
   "source": [
    "a = np.asarray(a)"
   ]
  },
  {
   "cell_type": "code",
   "execution_count": 20,
   "id": "b2f58efd",
   "metadata": {},
   "outputs": [
    {
     "data": {
      "text/plain": [
       "numpy.ndarray"
      ]
     },
     "execution_count": 20,
     "metadata": {},
     "output_type": "execute_result"
    }
   ],
   "source": [
    "type(a)"
   ]
  },
  {
   "cell_type": "code",
   "execution_count": 21,
   "id": "26d8117c",
   "metadata": {},
   "outputs": [
    {
     "data": {
      "text/plain": [
       "array([1., 2.], dtype=float32)"
      ]
     },
     "execution_count": 21,
     "metadata": {},
     "output_type": "execute_result"
    }
   ],
   "source": [
    "a = np.array([1,2],dtype = np.float32)\n",
    "a"
   ]
  },
  {
   "cell_type": "code",
   "execution_count": 22,
   "id": "674a086a",
   "metadata": {},
   "outputs": [
    {
     "data": {
      "text/plain": [
       "False"
      ]
     },
     "execution_count": 22,
     "metadata": {},
     "output_type": "execute_result"
    }
   ],
   "source": [
    "np.asarray(np.array([1,2])) is a\n",
    "## here we are getting false because the type of a is float32 and here np.array the dtype will be int64"
   ]
  },
  {
   "cell_type": "code",
   "execution_count": 23,
   "id": "10b030f4",
   "metadata": {},
   "outputs": [
    {
     "data": {
      "text/plain": [
       "False"
      ]
     },
     "execution_count": 23,
     "metadata": {},
     "output_type": "execute_result"
    }
   ],
   "source": [
    "np.asarray(a,dtype=np.float64) is a\n",
    "## here we can see that asarray of type a is not float64 hence we can this is returning false"
   ]
  },
  {
   "cell_type": "code",
   "execution_count": 24,
   "id": "1af33c8e",
   "metadata": {},
   "outputs": [
    {
     "data": {
      "text/plain": [
       "True"
      ]
     },
     "execution_count": 24,
     "metadata": {},
     "output_type": "execute_result"
    }
   ],
   "source": [
    "## Now we can see that it will return true becuase the dtype we are giving is float32\n",
    "np.asarray(a,dtype = np.float32) is a"
   ]
  },
  {
   "cell_type": "markdown",
   "id": "ace52981",
   "metadata": {},
   "source": [
    "## subclasses or not"
   ]
  },
  {
   "cell_type": "code",
   "execution_count": 25,
   "id": "457d6fdb",
   "metadata": {},
   "outputs": [
    {
     "data": {
      "text/plain": [
       "True"
      ]
     },
     "execution_count": 25,
     "metadata": {},
     "output_type": "execute_result"
    }
   ],
   "source": [
    "issubclass(np.matrix,np.ndarray)\n",
    "## here we are saying is matrix the subclass of ndarray yes so it's returning true"
   ]
  },
  {
   "cell_type": "code",
   "execution_count": 26,
   "id": "9ed6e0c5",
   "metadata": {},
   "outputs": [
    {
     "data": {
      "text/plain": [
       "False"
      ]
     },
     "execution_count": 26,
     "metadata": {},
     "output_type": "execute_result"
    }
   ],
   "source": [
    "issubclass(np.ndarray,np.matrix)\n",
    "## here we are saying is ndarray the subclass of matrix no hence it's returning false"
   ]
  },
  {
   "cell_type": "markdown",
   "id": "6f093890",
   "metadata": {},
   "source": [
    "## numpy.asanyarray"
   ]
  },
  {
   "cell_type": "code",
   "execution_count": 27,
   "id": "e0876897",
   "metadata": {},
   "outputs": [
    {
     "data": {
      "text/plain": [
       "array([1, 2])"
      ]
     },
     "execution_count": 27,
     "metadata": {},
     "output_type": "execute_result"
    }
   ],
   "source": [
    "## this will convert any non array fromat into a ndarray format\n",
    "list1 = [1,2]\n",
    "np.asanyarray(list1)"
   ]
  },
  {
   "cell_type": "code",
   "execution_count": 28,
   "id": "972da45c",
   "metadata": {},
   "outputs": [
    {
     "data": {
      "text/plain": [
       "numpy.ndarray"
      ]
     },
     "execution_count": 28,
     "metadata": {},
     "output_type": "execute_result"
    }
   ],
   "source": [
    "type(np.asanyarray(list1))"
   ]
  },
  {
   "cell_type": "code",
   "execution_count": 29,
   "id": "ca45a560",
   "metadata": {},
   "outputs": [],
   "source": [
    "## here we will see an example we know that matrixes are the subclasses of array i.e is array is super class of matrices\n",
    "a = np.matrix([1,2])"
   ]
  },
  {
   "cell_type": "code",
   "execution_count": 30,
   "id": "a85a9f1d",
   "metadata": {},
   "outputs": [
    {
     "data": {
      "text/plain": [
       "matrix([[1, 2]])"
      ]
     },
     "execution_count": 30,
     "metadata": {},
     "output_type": "execute_result"
    }
   ],
   "source": [
    "a"
   ]
  },
  {
   "cell_type": "code",
   "execution_count": 31,
   "id": "e5779b18",
   "metadata": {},
   "outputs": [
    {
     "data": {
      "text/plain": [
       "array([[1, 2]])"
      ]
     },
     "execution_count": 31,
     "metadata": {},
     "output_type": "execute_result"
    }
   ],
   "source": [
    "np.array(a)"
   ]
  },
  {
   "cell_type": "code",
   "execution_count": 32,
   "id": "76e46be9",
   "metadata": {},
   "outputs": [
    {
     "data": {
      "text/plain": [
       "array([[1, 2]])"
      ]
     },
     "execution_count": 32,
     "metadata": {},
     "output_type": "execute_result"
    }
   ],
   "source": [
    "np.asarray(a)"
   ]
  },
  {
   "cell_type": "code",
   "execution_count": 33,
   "id": "ddb2e193",
   "metadata": {},
   "outputs": [
    {
     "data": {
      "text/plain": [
       "matrix([[1, 2]])"
      ]
     },
     "execution_count": 33,
     "metadata": {},
     "output_type": "execute_result"
    }
   ],
   "source": [
    "np.asanyarray(a)"
   ]
  },
  {
   "cell_type": "code",
   "execution_count": 34,
   "id": "092233df",
   "metadata": {},
   "outputs": [],
   "source": [
    "## i can see in the above 3 lines of code that np.array and np.asarray has converted the matrix into a array\n",
    "## but np.asanarray has not converted the matrix into array."
   ]
  },
  {
   "cell_type": "markdown",
   "id": "01892f97",
   "metadata": {},
   "source": [
    "## numpy copy"
   ]
  },
  {
   "cell_type": "code",
   "execution_count": 35,
   "id": "7d76f96c",
   "metadata": {},
   "outputs": [
    {
     "data": {
      "text/plain": [
       "array([1, 2, 3])"
      ]
     },
     "execution_count": 35,
     "metadata": {},
     "output_type": "execute_result"
    }
   ],
   "source": [
    "x = np.array([1,2,3])\n",
    "x"
   ]
  },
  {
   "cell_type": "code",
   "execution_count": 36,
   "id": "e414bb90",
   "metadata": {},
   "outputs": [],
   "source": [
    "y = x ## here we are doing shallow copy"
   ]
  },
  {
   "cell_type": "code",
   "execution_count": 37,
   "id": "d0e5dd91",
   "metadata": {},
   "outputs": [
    {
     "data": {
      "text/plain": [
       "array([1, 2, 3])"
      ]
     },
     "execution_count": 37,
     "metadata": {},
     "output_type": "execute_result"
    }
   ],
   "source": [
    "y"
   ]
  },
  {
   "cell_type": "code",
   "execution_count": 38,
   "id": "a4b574bc",
   "metadata": {},
   "outputs": [
    {
     "data": {
      "text/plain": [
       "array([100,   2,   3])"
      ]
     },
     "execution_count": 38,
     "metadata": {},
     "output_type": "execute_result"
    }
   ],
   "source": [
    "y[0] = 100\n",
    "y\n",
    "## here we can see that change in values of y will effect the values in x, Hence this is called as shallow copy"
   ]
  },
  {
   "cell_type": "code",
   "execution_count": 39,
   "id": "e0fcf5f4",
   "metadata": {},
   "outputs": [
    {
     "data": {
      "text/plain": [
       "array([100,   2,   3])"
      ]
     },
     "execution_count": 39,
     "metadata": {},
     "output_type": "execute_result"
    }
   ],
   "source": [
    "x"
   ]
  },
  {
   "cell_type": "code",
   "execution_count": 40,
   "id": "0d6236b1",
   "metadata": {},
   "outputs": [],
   "source": [
    "z = np.copy(x) ## this is used to deep copy"
   ]
  },
  {
   "cell_type": "code",
   "execution_count": 41,
   "id": "a9825d0a",
   "metadata": {},
   "outputs": [
    {
     "data": {
      "text/plain": [
       "array([100,   2,   3])"
      ]
     },
     "execution_count": 41,
     "metadata": {},
     "output_type": "execute_result"
    }
   ],
   "source": [
    "z"
   ]
  },
  {
   "cell_type": "code",
   "execution_count": 42,
   "id": "8f2fe084",
   "metadata": {},
   "outputs": [
    {
     "data": {
      "text/plain": [
       "array([10,  2,  3])"
      ]
     },
     "execution_count": 42,
     "metadata": {},
     "output_type": "execute_result"
    }
   ],
   "source": [
    "z[0] = 10\n",
    "z\n",
    "## here we can see that change in values of z will not effect the values in x, Hence this is called as deep copy"
   ]
  },
  {
   "cell_type": "code",
   "execution_count": 43,
   "id": "2df90c2d",
   "metadata": {},
   "outputs": [
    {
     "data": {
      "text/plain": [
       "array([100,   2,   3])"
      ]
     },
     "execution_count": 43,
     "metadata": {},
     "output_type": "execute_result"
    }
   ],
   "source": [
    "x"
   ]
  },
  {
   "cell_type": "markdown",
   "id": "831bd1e9",
   "metadata": {},
   "source": [
    "## numpy formfunction"
   ]
  },
  {
   "cell_type": "code",
   "execution_count": 44,
   "id": "5ce69de9",
   "metadata": {},
   "outputs": [],
   "source": [
    "## this is just a function that will be able to generate an random arrays\n",
    "## SYNTAX:-\n",
    "## np.fromfunction(function,size,**kwargs)"
   ]
  },
  {
   "cell_type": "code",
   "execution_count": 45,
   "id": "b7d016a8",
   "metadata": {},
   "outputs": [
    {
     "data": {
      "text/plain": [
       "array([[ True, False, False],\n",
       "       [False,  True, False],\n",
       "       [False, False,  True]])"
      ]
     },
     "execution_count": 45,
     "metadata": {},
     "output_type": "execute_result"
    }
   ],
   "source": [
    "np.fromfunction(lambda i, j:i==j, (3,3),dtype = int)"
   ]
  },
  {
   "cell_type": "code",
   "execution_count": 46,
   "id": "6632261e",
   "metadata": {},
   "outputs": [
    {
     "data": {
      "text/plain": [
       "array([[0, 0, 0],\n",
       "       [0, 1, 2],\n",
       "       [0, 2, 4]])"
      ]
     },
     "execution_count": 46,
     "metadata": {},
     "output_type": "execute_result"
    }
   ],
   "source": [
    "np.fromfunction(lambda i, j:i*j,(3,3),dtype=int)"
   ]
  },
  {
   "cell_type": "markdown",
   "id": "ebbe7929",
   "metadata": {},
   "source": [
    "## numpy fromiter"
   ]
  },
  {
   "cell_type": "code",
   "execution_count": 47,
   "id": "08ccf767",
   "metadata": {},
   "outputs": [],
   "source": [
    "## this is a function that we use to get an 1-D array from the iteratable object\n",
    "##SYNTAX:-\n",
    "## np.fromiter(iterable,datatype)"
   ]
  },
  {
   "cell_type": "code",
   "execution_count": 48,
   "id": "460abab3",
   "metadata": {},
   "outputs": [
    {
     "data": {
      "text/plain": [
       "<generator object <genexpr> at 0x108fad310>"
      ]
     },
     "execution_count": 48,
     "metadata": {},
     "output_type": "execute_result"
    }
   ],
   "source": [
    "iterable = (x*x for x in range(5))\n",
    "iterable"
   ]
  },
  {
   "cell_type": "code",
   "execution_count": 49,
   "id": "bb92b77a",
   "metadata": {},
   "outputs": [
    {
     "data": {
      "text/plain": [
       "array([ 0,  1,  4,  9, 16])"
      ]
     },
     "execution_count": 49,
     "metadata": {},
     "output_type": "execute_result"
    }
   ],
   "source": [
    "np.fromiter(iterable,int)"
   ]
  },
  {
   "cell_type": "markdown",
   "id": "25d69499",
   "metadata": {},
   "source": [
    "## numpy fromstring"
   ]
  },
  {
   "cell_type": "code",
   "execution_count": 50,
   "id": "32a9ff89",
   "metadata": {},
   "outputs": [],
   "source": [
    "## this is function that we use to get an array from the string\n",
    "##SYNTAX:-\n",
    "## np.fromiter(string,seperator)\n",
    "## The ultimate goal of this function is to get the string."
   ]
  },
  {
   "cell_type": "code",
   "execution_count": 51,
   "id": "e5361816",
   "metadata": {},
   "outputs": [],
   "source": [
    "a = \"234 234\""
   ]
  },
  {
   "cell_type": "code",
   "execution_count": 52,
   "id": "f7442825",
   "metadata": {},
   "outputs": [
    {
     "data": {
      "text/plain": [
       "array([234., 234.])"
      ]
     },
     "execution_count": 52,
     "metadata": {},
     "output_type": "execute_result"
    }
   ],
   "source": [
    "np.fromstring(a,sep=\" \")\n",
    "## here you can see that the above string a is converted into array of floats with seperator as space."
   ]
  },
  {
   "cell_type": "code",
   "execution_count": 53,
   "id": "d99f7c94",
   "metadata": {},
   "outputs": [
    {
     "data": {
      "text/plain": [
       "array([1., 2.])"
      ]
     },
     "execution_count": 53,
     "metadata": {},
     "output_type": "execute_result"
    }
   ],
   "source": [
    "np.fromstring('1, 2',float,sep=\",\")\n",
    "## here we can see that we have given a string 1,2 and using np.fromstring we converted them into an array separating them by a comma"
   ]
  },
  {
   "cell_type": "markdown",
   "id": "3d903aef",
   "metadata": {},
   "source": [
    "## how to create a record from multiple flat arrays."
   ]
  },
  {
   "cell_type": "code",
   "execution_count": 54,
   "id": "7ffc346c",
   "metadata": {},
   "outputs": [],
   "source": [
    "x1 = np.array([1,2,3,4])"
   ]
  },
  {
   "cell_type": "code",
   "execution_count": 55,
   "id": "9e46aa85",
   "metadata": {},
   "outputs": [],
   "source": [
    "x2 = np.array(['a','dd','xyz','12'])"
   ]
  },
  {
   "cell_type": "code",
   "execution_count": 56,
   "id": "5d9545c5",
   "metadata": {},
   "outputs": [
    {
     "data": {
      "text/plain": [
       "numpy.ndarray"
      ]
     },
     "execution_count": 56,
     "metadata": {},
     "output_type": "execute_result"
    }
   ],
   "source": [
    "x3 = np.array([1.1,2,3,4])\n",
    "x4 = np.array([1.1,2,3,4])\n",
    "type(x4)"
   ]
  },
  {
   "cell_type": "code",
   "execution_count": 57,
   "id": "68ecb797",
   "metadata": {},
   "outputs": [
    {
     "data": {
      "text/plain": [
       "rec.array([(1, 'a', 1.1, 1.1), (2, 'dd', 2. , 2. ), (3, 'xyz', 3. , 3. ),\n",
       "           (4, '12', 4. , 4. )],\n",
       "          dtype=[('a', '<i8'), ('b', '<U3'), ('c', '<f8'), ('d', '<f8')])"
      ]
     },
     "execution_count": 57,
     "metadata": {},
     "output_type": "execute_result"
    }
   ],
   "source": [
    "np.core.records.fromarrays([x1,x2,x3,x4],names='a,b,c,d')"
   ]
  },
  {
   "cell_type": "markdown",
   "id": "378c402f",
   "metadata": {},
   "source": [
    "# Data types"
   ]
  },
  {
   "cell_type": "code",
   "execution_count": 58,
   "id": "fffa6fe2",
   "metadata": {},
   "outputs": [
    {
     "data": {
      "text/plain": [
       "[1, 2, 3]"
      ]
     },
     "execution_count": 58,
     "metadata": {},
     "output_type": "execute_result"
    }
   ],
   "source": [
    "arr = [1,2,3]\n",
    "arr"
   ]
  },
  {
   "cell_type": "code",
   "execution_count": 59,
   "id": "75f32b00",
   "metadata": {},
   "outputs": [
    {
     "data": {
      "text/plain": [
       "array([1, 2, 3])"
      ]
     },
     "execution_count": 59,
     "metadata": {},
     "output_type": "execute_result"
    }
   ],
   "source": [
    "np_arr = np.array(arr)\n",
    "np_arr"
   ]
  },
  {
   "cell_type": "code",
   "execution_count": 60,
   "id": "0b599f22",
   "metadata": {},
   "outputs": [
    {
     "data": {
      "text/plain": [
       "numpy.ndarray"
      ]
     },
     "execution_count": 60,
     "metadata": {},
     "output_type": "execute_result"
    }
   ],
   "source": [
    "type(np_arr)"
   ]
  },
  {
   "cell_type": "code",
   "execution_count": 61,
   "id": "804e09ac",
   "metadata": {},
   "outputs": [
    {
     "data": {
      "text/plain": [
       "([1, 2, 3], [4, 5, 6], [7, 8, 9])"
      ]
     },
     "execution_count": 61,
     "metadata": {},
     "output_type": "execute_result"
    }
   ],
   "source": [
    "my_mat = ([1,2,3],[4,5,6],[7,8,9])\n",
    "my_mat"
   ]
  },
  {
   "cell_type": "code",
   "execution_count": 62,
   "id": "158f4088",
   "metadata": {},
   "outputs": [],
   "source": [
    "mat = np.array(my_mat)"
   ]
  },
  {
   "cell_type": "code",
   "execution_count": 63,
   "id": "5115f905",
   "metadata": {},
   "outputs": [
    {
     "data": {
      "text/plain": [
       "array([[1, 2, 3],\n",
       "       [4, 5, 6],\n",
       "       [7, 8, 9]])"
      ]
     },
     "execution_count": 63,
     "metadata": {},
     "output_type": "execute_result"
    }
   ],
   "source": [
    "mat"
   ]
  },
  {
   "cell_type": "code",
   "execution_count": 64,
   "id": "75dff71e",
   "metadata": {},
   "outputs": [
    {
     "data": {
      "text/plain": [
       "numpy.ndarray"
      ]
     },
     "execution_count": 64,
     "metadata": {},
     "output_type": "execute_result"
    }
   ],
   "source": [
    "type(mat)"
   ]
  },
  {
   "cell_type": "code",
   "execution_count": 65,
   "id": "73e6700e",
   "metadata": {},
   "outputs": [
    {
     "name": "stdout",
     "output_type": "stream",
     "text": [
      "ndim of the array 2\n",
      "the size of the array 9\n",
      "the shape of the array (3, 3)\n",
      "the data types of the array int64\n"
     ]
    }
   ],
   "source": [
    "print(\"ndim of the array\",mat.ndim) ## it will say how many dimensions the array or matrix is\n",
    "print(\"the size of the array\",mat.size) ## it will give the total number of elements present in the matrix\n",
    "print(\"the shape of the array\",mat.shape) ## it will give the shape of the array i.e (n*n)\n",
    "print(\"the data types of the array\",mat.dtype) ## it will return the datatype of the elements present in the array"
   ]
  },
  {
   "cell_type": "markdown",
   "id": "3ae92f21",
   "metadata": {},
   "source": [
    "## tuples to ndarray"
   ]
  },
  {
   "cell_type": "code",
   "execution_count": 66,
   "id": "85036ebf",
   "metadata": {},
   "outputs": [
    {
     "name": "stdout",
     "output_type": "stream",
     "text": [
      "<class 'numpy.ndarray'>\n"
     ]
    }
   ],
   "source": [
    "tup_arr = np.array([(1,2,3),(4,5,6)])\n",
    "print(type(tup_arr))"
   ]
  },
  {
   "cell_type": "markdown",
   "id": "6f026fe3",
   "metadata": {},
   "source": [
    "## arange and linespace"
   ]
  },
  {
   "cell_type": "code",
   "execution_count": 67,
   "id": "4d8ddfad",
   "metadata": {},
   "outputs": [
    {
     "data": {
      "text/plain": [
       "[4, 5, 6]"
      ]
     },
     "execution_count": 67,
     "metadata": {},
     "output_type": "execute_result"
    }
   ],
   "source": [
    "list(range(4,7))\n",
    "## this will return the list that will contain the values from 4 till 6 since the last index is exclusive"
   ]
  },
  {
   "cell_type": "code",
   "execution_count": 68,
   "id": "31ce9c87",
   "metadata": {},
   "outputs": [
    {
     "data": {
      "text/plain": [
       "[1, 3, 5, 7, 9]"
      ]
     },
     "execution_count": 68,
     "metadata": {},
     "output_type": "execute_result"
    }
   ],
   "source": [
    "list(range(1,11,2))\n",
    "## this is going to return the values between 1 to 11 and will contain only alternate values\n",
    "## since i used the step size to be 2"
   ]
  },
  {
   "cell_type": "code",
   "execution_count": 69,
   "id": "bf0c2096",
   "metadata": {},
   "outputs": [
    {
     "data": {
      "text/plain": [
       "array([ 5. ,  7.3,  9.6, 11.9, 14.2])"
      ]
     },
     "execution_count": 69,
     "metadata": {},
     "output_type": "execute_result"
    }
   ],
   "source": [
    "np.arange(5,16,2.3)"
   ]
  },
  {
   "cell_type": "code",
   "execution_count": 70,
   "id": "d644a4b4",
   "metadata": {},
   "outputs": [
    {
     "data": {
      "text/plain": [
       "array([16, 14, 12, 10,  8,  6,  4,  2])"
      ]
     },
     "execution_count": 70,
     "metadata": {},
     "output_type": "execute_result"
    }
   ],
   "source": [
    "np.arange(16,0,-2)\n",
    "## here we can see that the arange will give me a list of numbers in descending order since my step size is -2"
   ]
  },
  {
   "cell_type": "code",
   "execution_count": 71,
   "id": "66b90b93",
   "metadata": {},
   "outputs": [
    {
     "data": {
      "text/plain": [
       "array([1.        , 1.08163265, 1.16326531, 1.24489796, 1.32653061,\n",
       "       1.40816327, 1.48979592, 1.57142857, 1.65306122, 1.73469388,\n",
       "       1.81632653, 1.89795918, 1.97959184, 2.06122449, 2.14285714,\n",
       "       2.2244898 , 2.30612245, 2.3877551 , 2.46938776, 2.55102041,\n",
       "       2.63265306, 2.71428571, 2.79591837, 2.87755102, 2.95918367,\n",
       "       3.04081633, 3.12244898, 3.20408163, 3.28571429, 3.36734694,\n",
       "       3.44897959, 3.53061224, 3.6122449 , 3.69387755, 3.7755102 ,\n",
       "       3.85714286, 3.93877551, 4.02040816, 4.10204082, 4.18367347,\n",
       "       4.26530612, 4.34693878, 4.42857143, 4.51020408, 4.59183673,\n",
       "       4.67346939, 4.75510204, 4.83673469, 4.91836735, 5.        ])"
      ]
     },
     "execution_count": 71,
     "metadata": {},
     "output_type": "execute_result"
    }
   ],
   "source": [
    "np.linspace(1,5,50)\n",
    "## here what's hapenning is that the linspace function si creating a record that contain 50 values and the number\n",
    "## are in between 1 to 5"
   ]
  },
  {
   "cell_type": "markdown",
   "id": "c27b6079",
   "metadata": {},
   "source": [
    "## matrix creation"
   ]
  },
  {
   "cell_type": "code",
   "execution_count": 72,
   "id": "a867aff4",
   "metadata": {},
   "outputs": [
    {
     "data": {
      "text/plain": [
       "array([0., 0., 0., 0., 0.])"
      ]
     },
     "execution_count": 72,
     "metadata": {},
     "output_type": "execute_result"
    }
   ],
   "source": [
    "np.zeros(5)\n",
    "## it will create an array of size 5 with all zeros"
   ]
  },
  {
   "cell_type": "code",
   "execution_count": 73,
   "id": "1a953654",
   "metadata": {},
   "outputs": [
    {
     "data": {
      "text/plain": [
       "array([[[0., 0.],\n",
       "        [0., 0.],\n",
       "        [0., 0.],\n",
       "        [0., 0.]],\n",
       "\n",
       "       [[0., 0.],\n",
       "        [0., 0.],\n",
       "        [0., 0.],\n",
       "        [0., 0.]],\n",
       "\n",
       "       [[0., 0.],\n",
       "        [0., 0.],\n",
       "        [0., 0.],\n",
       "        [0., 0.]]])"
      ]
     },
     "execution_count": 73,
     "metadata": {},
     "output_type": "execute_result"
    }
   ],
   "source": [
    "np.zeros((3,4,2))\n",
    "## this will contain 3 arrays of size (4,2)"
   ]
  },
  {
   "cell_type": "code",
   "execution_count": 74,
   "id": "511bc2d0",
   "metadata": {},
   "outputs": [
    {
     "data": {
      "text/plain": [
       "array([1., 1., 1., 1., 1.])"
      ]
     },
     "execution_count": 74,
     "metadata": {},
     "output_type": "execute_result"
    }
   ],
   "source": [
    "np.ones(5)"
   ]
  },
  {
   "cell_type": "code",
   "execution_count": 75,
   "id": "d6bcde22",
   "metadata": {},
   "outputs": [
    {
     "data": {
      "text/plain": [
       "array([[[1., 1., 1., 1., 1., 1., 1., 1.],\n",
       "        [1., 1., 1., 1., 1., 1., 1., 1.]],\n",
       "\n",
       "       [[1., 1., 1., 1., 1., 1., 1., 1.],\n",
       "        [1., 1., 1., 1., 1., 1., 1., 1.]],\n",
       "\n",
       "       [[1., 1., 1., 1., 1., 1., 1., 1.],\n",
       "        [1., 1., 1., 1., 1., 1., 1., 1.]],\n",
       "\n",
       "       [[1., 1., 1., 1., 1., 1., 1., 1.],\n",
       "        [1., 1., 1., 1., 1., 1., 1., 1.]],\n",
       "\n",
       "       [[1., 1., 1., 1., 1., 1., 1., 1.],\n",
       "        [1., 1., 1., 1., 1., 1., 1., 1.]]])"
      ]
     },
     "execution_count": 75,
     "metadata": {},
     "output_type": "execute_result"
    }
   ],
   "source": [
    "np.ones((5,2,8))\n",
    "## this will contain 5 arrays of size (2,8)"
   ]
  },
  {
   "cell_type": "code",
   "execution_count": 76,
   "id": "b0e03a3e",
   "metadata": {},
   "outputs": [
    {
     "name": "stdout",
     "output_type": "stream",
     "text": [
      "[[6. 6. 6. 6. 6.]\n",
      " [6. 6. 6. 6. 6.]\n",
      " [6. 6. 6. 6. 6.]]\n"
     ]
    }
   ],
   "source": [
    "print(5 + np.ones((3,5)))\n",
    "## this will create an array of ones of size (3,5) and then it will add 5 to each element like scalar addition"
   ]
  },
  {
   "cell_type": "markdown",
   "id": "ddb72d84",
   "metadata": {},
   "source": [
    "## numpy empty"
   ]
  },
  {
   "cell_type": "code",
   "execution_count": 77,
   "id": "764047a1",
   "metadata": {},
   "outputs": [],
   "source": [
    "## when there are empty arrays without any definiton then it will generate random values \n",
    "## since there is an array already existing hence it's giving 6"
   ]
  },
  {
   "cell_type": "code",
   "execution_count": 78,
   "id": "cb894c23",
   "metadata": {},
   "outputs": [
    {
     "data": {
      "text/plain": [
       "array([[6., 6., 6., 6., 6.],\n",
       "       [6., 6., 6., 6., 6.],\n",
       "       [6., 6., 6., 6., 6.]])"
      ]
     },
     "execution_count": 78,
     "metadata": {},
     "output_type": "execute_result"
    }
   ],
   "source": [
    "np.empty((3,5))\n",
    "## here we are getting 6's because it the last array that is taking is 6."
   ]
  },
  {
   "cell_type": "code",
   "execution_count": 79,
   "id": "9a28667b",
   "metadata": {},
   "outputs": [
    {
     "data": {
      "text/plain": [
       "array([[1., 0., 0.],\n",
       "       [0., 1., 0.],\n",
       "       [0., 0., 1.]])"
      ]
     },
     "execution_count": 79,
     "metadata": {},
     "output_type": "execute_result"
    }
   ],
   "source": [
    "## to create an identity matrixes\n",
    "np.eye(3,3)\n"
   ]
  },
  {
   "cell_type": "markdown",
   "id": "c8f475c2",
   "metadata": {},
   "source": [
    "## practise 1"
   ]
  },
  {
   "cell_type": "code",
   "execution_count": 80,
   "id": "a3902471",
   "metadata": {},
   "outputs": [],
   "source": [
    "## create a (3,4,8) array that contains all zeros"
   ]
  },
  {
   "cell_type": "code",
   "execution_count": 81,
   "id": "67556896",
   "metadata": {
    "scrolled": true
   },
   "outputs": [
    {
     "data": {
      "text/plain": [
       "array([[[0., 0., 0., 0., 0., 0., 0., 0.],\n",
       "        [0., 0., 0., 0., 0., 0., 0., 0.],\n",
       "        [0., 0., 0., 0., 0., 0., 0., 0.],\n",
       "        [0., 0., 0., 0., 0., 0., 0., 0.]],\n",
       "\n",
       "       [[0., 0., 0., 0., 0., 0., 0., 0.],\n",
       "        [0., 0., 0., 0., 0., 0., 0., 0.],\n",
       "        [0., 0., 0., 0., 0., 0., 0., 0.],\n",
       "        [0., 0., 0., 0., 0., 0., 0., 0.]],\n",
       "\n",
       "       [[0., 0., 0., 0., 0., 0., 0., 0.],\n",
       "        [0., 0., 0., 0., 0., 0., 0., 0.],\n",
       "        [0., 0., 0., 0., 0., 0., 0., 0.],\n",
       "        [0., 0., 0., 0., 0., 0., 0., 0.]]])"
      ]
     },
     "execution_count": 81,
     "metadata": {},
     "output_type": "execute_result"
    }
   ],
   "source": [
    "np.zeros((3,4,8))"
   ]
  },
  {
   "cell_type": "code",
   "execution_count": 82,
   "id": "79acde0b",
   "metadata": {},
   "outputs": [],
   "source": [
    "## generate data in an array between (4,8,80) and the number of points i need between 4 and 8 must be 80"
   ]
  },
  {
   "cell_type": "code",
   "execution_count": 83,
   "id": "0d5f7299",
   "metadata": {},
   "outputs": [
    {
     "data": {
      "text/plain": [
       "array([4.        , 4.05063291, 4.10126582, 4.15189873, 4.20253165,\n",
       "       4.25316456, 4.30379747, 4.35443038, 4.40506329, 4.4556962 ,\n",
       "       4.50632911, 4.55696203, 4.60759494, 4.65822785, 4.70886076,\n",
       "       4.75949367, 4.81012658, 4.86075949, 4.91139241, 4.96202532,\n",
       "       5.01265823, 5.06329114, 5.11392405, 5.16455696, 5.21518987,\n",
       "       5.26582278, 5.3164557 , 5.36708861, 5.41772152, 5.46835443,\n",
       "       5.51898734, 5.56962025, 5.62025316, 5.67088608, 5.72151899,\n",
       "       5.7721519 , 5.82278481, 5.87341772, 5.92405063, 5.97468354,\n",
       "       6.02531646, 6.07594937, 6.12658228, 6.17721519, 6.2278481 ,\n",
       "       6.27848101, 6.32911392, 6.37974684, 6.43037975, 6.48101266,\n",
       "       6.53164557, 6.58227848, 6.63291139, 6.6835443 , 6.73417722,\n",
       "       6.78481013, 6.83544304, 6.88607595, 6.93670886, 6.98734177,\n",
       "       7.03797468, 7.08860759, 7.13924051, 7.18987342, 7.24050633,\n",
       "       7.29113924, 7.34177215, 7.39240506, 7.44303797, 7.49367089,\n",
       "       7.5443038 , 7.59493671, 7.64556962, 7.69620253, 7.74683544,\n",
       "       7.79746835, 7.84810127, 7.89873418, 7.94936709, 8.        ])"
      ]
     },
     "execution_count": 83,
     "metadata": {},
     "output_type": "execute_result"
    }
   ],
   "source": [
    "np.linspace(4,8,num=80)"
   ]
  },
  {
   "cell_type": "code",
   "execution_count": 84,
   "id": "292bdfbb",
   "metadata": {},
   "outputs": [
    {
     "data": {
      "text/plain": [
       "matrix([[1, 2, 3, 4]])"
      ]
     },
     "execution_count": 84,
     "metadata": {},
     "output_type": "execute_result"
    }
   ],
   "source": [
    "## take any list and convert the list into matrices\n",
    "list1 = [1,2,3,4]\n",
    "np.mat(list1)"
   ]
  },
  {
   "cell_type": "code",
   "execution_count": 85,
   "id": "79795781",
   "metadata": {},
   "outputs": [],
   "source": [
    "## create an array of the shape (4,5,2) with all one's and print the dimesnsions, shape and data type of it\n",
    "a = np.ones((4,5,2))"
   ]
  },
  {
   "cell_type": "code",
   "execution_count": 86,
   "id": "fd745d94",
   "metadata": {},
   "outputs": [
    {
     "data": {
      "text/plain": [
       "array([[[1., 1.],\n",
       "        [1., 1.],\n",
       "        [1., 1.],\n",
       "        [1., 1.],\n",
       "        [1., 1.]],\n",
       "\n",
       "       [[1., 1.],\n",
       "        [1., 1.],\n",
       "        [1., 1.],\n",
       "        [1., 1.],\n",
       "        [1., 1.]],\n",
       "\n",
       "       [[1., 1.],\n",
       "        [1., 1.],\n",
       "        [1., 1.],\n",
       "        [1., 1.],\n",
       "        [1., 1.]],\n",
       "\n",
       "       [[1., 1.],\n",
       "        [1., 1.],\n",
       "        [1., 1.],\n",
       "        [1., 1.],\n",
       "        [1., 1.]]])"
      ]
     },
     "execution_count": 86,
     "metadata": {},
     "output_type": "execute_result"
    }
   ],
   "source": [
    "a"
   ]
  },
  {
   "cell_type": "code",
   "execution_count": 87,
   "id": "958bdb9d",
   "metadata": {},
   "outputs": [
    {
     "name": "stdout",
     "output_type": "stream",
     "text": [
      "the dimensions of the array is :-  3\n",
      "the shape of the array is :-  (4, 5, 2)\n",
      "the data type of the array is :-  float64\n"
     ]
    }
   ],
   "source": [
    "print(\"the dimensions of the array is :- \",a.ndim)\n",
    "print(\"the shape of the array is :- \", a.shape)\n",
    "print(\"the data type of the array is :- \",a.dtype)"
   ]
  },
  {
   "cell_type": "code",
   "execution_count": 88,
   "id": "066eb786",
   "metadata": {},
   "outputs": [
    {
     "data": {
      "text/plain": [
       "array([[[1., 1., 1.],\n",
       "        [1., 1., 1.],\n",
       "        [1., 1., 1.]],\n",
       "\n",
       "       [[1., 1., 1.],\n",
       "        [1., 1., 1.],\n",
       "        [1., 1., 1.]],\n",
       "\n",
       "       [[1., 1., 1.],\n",
       "        [1., 1., 1.],\n",
       "        [1., 1., 1.]]])"
      ]
     },
     "execution_count": 88,
     "metadata": {},
     "output_type": "execute_result"
    }
   ],
   "source": [
    "## create an array x1 of shape (3*3*3)\n",
    "## create a array x2 of shape (3*3*3)\n",
    "## perform x!+x2\n",
    "x1 = np.ones((3,3,3))\n",
    "x2 = np.zeros((3,3,3))\n",
    "x1 + x2"
   ]
  },
  {
   "cell_type": "markdown",
   "id": "4b4f3eef",
   "metadata": {},
   "source": [
    "## extract a diagonal or construct a diagonal array"
   ]
  },
  {
   "cell_type": "code",
   "execution_count": 89,
   "id": "a0437e06",
   "metadata": {},
   "outputs": [
    {
     "data": {
      "text/plain": [
       "array([ 0,  1,  2,  3,  4,  5,  6,  7,  8,  9, 10, 11, 12, 13, 14, 15])"
      ]
     },
     "execution_count": 89,
     "metadata": {},
     "output_type": "execute_result"
    }
   ],
   "source": [
    "np.arange(16)"
   ]
  },
  {
   "cell_type": "code",
   "execution_count": 90,
   "id": "45a2367f",
   "metadata": {},
   "outputs": [
    {
     "data": {
      "text/plain": [
       "array([[[ 0],\n",
       "        [ 1]],\n",
       "\n",
       "       [[ 2],\n",
       "        [ 3]],\n",
       "\n",
       "       [[ 4],\n",
       "        [ 5]],\n",
       "\n",
       "       [[ 6],\n",
       "        [ 7]],\n",
       "\n",
       "       [[ 8],\n",
       "        [ 9]],\n",
       "\n",
       "       [[10],\n",
       "        [11]],\n",
       "\n",
       "       [[12],\n",
       "        [13]],\n",
       "\n",
       "       [[14],\n",
       "        [15]]])"
      ]
     },
     "execution_count": 90,
     "metadata": {},
     "output_type": "execute_result"
    }
   ],
   "source": [
    "## One of the most important thing to keep in mind is that when you are trying to resize the array then we need to make\n",
    "## sure that the total elements in the orginal array must be in same in the reshape array as well\n",
    "np.arange(16).reshape((8,2,1))"
   ]
  },
  {
   "cell_type": "code",
   "execution_count": 91,
   "id": "48a99649",
   "metadata": {},
   "outputs": [],
   "source": [
    "## here i am trying to give different dimensions compared to original\n",
    "## i have 16 elements but i am going to give 20 elements just to see what happens\n",
    "#print(np.arange(16).reshape((20,2)))\n",
    "## this is giving me none hence we cannot do that"
   ]
  },
  {
   "cell_type": "code",
   "execution_count": 92,
   "id": "9f1dd109",
   "metadata": {},
   "outputs": [],
   "source": [
    "#print(np.arange(16).reshape(8,3))"
   ]
  },
  {
   "cell_type": "markdown",
   "id": "d4cdbca6",
   "metadata": {},
   "source": [
    "## using -1 just to make sure we can understand how that works"
   ]
  },
  {
   "cell_type": "code",
   "execution_count": 93,
   "id": "7a22886f",
   "metadata": {},
   "outputs": [
    {
     "data": {
      "text/plain": [
       "array([[ 0,  1,  2,  3],\n",
       "       [ 4,  5,  6,  7],\n",
       "       [ 8,  9, 10, 11],\n",
       "       [12, 13, 14, 15]])"
      ]
     },
     "execution_count": 93,
     "metadata": {},
     "output_type": "execute_result"
    }
   ],
   "source": [
    "np.arange(16).reshape(-1,4)\n",
    "## here we can see that when i say (-1,4) then it can understand that there should be 4 instead of -1 since \n",
    "## 4 * 4 is 16."
   ]
  },
  {
   "cell_type": "code",
   "execution_count": 94,
   "id": "aa2de161",
   "metadata": {},
   "outputs": [
    {
     "data": {
      "text/plain": [
       "array([[ 0,  1,  2,  3,  4],\n",
       "       [ 5,  6,  7,  8,  9],\n",
       "       [10, 11, 12, 13, 14],\n",
       "       [15, 16, 17, 18, 19]])"
      ]
     },
     "execution_count": 94,
     "metadata": {},
     "output_type": "execute_result"
    }
   ],
   "source": [
    "np.arange(20).reshape(4,-1)\n",
    "## here we can see that we are getting (4,5) array but we gave (4,-1) the computer understands that -1 should be 5\n",
    "## only then elements of the array are 20"
   ]
  },
  {
   "cell_type": "code",
   "execution_count": 95,
   "id": "44bdcff4",
   "metadata": {},
   "outputs": [
    {
     "data": {
      "text/plain": [
       "array([[ 0,  1,  2,  3],\n",
       "       [ 4,  5,  6,  7],\n",
       "       [ 8,  9, 10, 11],\n",
       "       [12, 13, 14, 15],\n",
       "       [16, 17, 18, 19]])"
      ]
     },
     "execution_count": 95,
     "metadata": {},
     "output_type": "execute_result"
    }
   ],
   "source": [
    "## in the above 2 codes boxes we can see that -1 is used but we can use any negative number and the system\n",
    "##. can understand.\n",
    "np.arange(20).reshape(5,-4567)\n",
    "## see here we used -4567 but the computer understood."
   ]
  },
  {
   "cell_type": "markdown",
   "id": "459a51c7",
   "metadata": {},
   "source": [
    "## get the diagonal elements"
   ]
  },
  {
   "cell_type": "code",
   "execution_count": 96,
   "id": "17a4ad18",
   "metadata": {},
   "outputs": [
    {
     "data": {
      "text/plain": [
       "array([[ 0,  1,  2,  3],\n",
       "       [ 4,  5,  6,  7],\n",
       "       [ 8,  9, 10, 11],\n",
       "       [12, 13, 14, 15]])"
      ]
     },
     "execution_count": 96,
     "metadata": {},
     "output_type": "execute_result"
    }
   ],
   "source": [
    "x = np.arange(16).reshape(4,-1)\n",
    "x"
   ]
  },
  {
   "cell_type": "code",
   "execution_count": 97,
   "id": "a7edaa3c",
   "metadata": {},
   "outputs": [
    {
     "data": {
      "text/plain": [
       "array([ 0,  5, 10, 15])"
      ]
     },
     "execution_count": 97,
     "metadata": {},
     "output_type": "execute_result"
    }
   ],
   "source": [
    "## here i have an array x get the diagonal elements only\n",
    "np.diag(x,k=0)\n",
    "## here i can see that we can get the diagonal elements"
   ]
  },
  {
   "cell_type": "code",
   "execution_count": 98,
   "id": "fbae5e5b",
   "metadata": {},
   "outputs": [
    {
     "data": {
      "text/plain": [
       "array([ 4,  9, 14])"
      ]
     },
     "execution_count": 98,
     "metadata": {},
     "output_type": "execute_result"
    }
   ],
   "source": [
    "## lets try some code with different values of k and understand how the diagonal elements and what are we getting\n",
    "np.diag(x,k= -1) ## i should be getting 4,9,14 as the output"
   ]
  },
  {
   "cell_type": "code",
   "execution_count": 99,
   "id": "b62a0ec1",
   "metadata": {},
   "outputs": [
    {
     "data": {
      "text/plain": [
       "array([ 1,  6, 11])"
      ]
     },
     "execution_count": 99,
     "metadata": {},
     "output_type": "execute_result"
    }
   ],
   "source": [
    "np.diag(x,k = 1) ## now i should be getting 1,6,11"
   ]
  },
  {
   "cell_type": "code",
   "execution_count": 100,
   "id": "606afd9d",
   "metadata": {},
   "outputs": [
    {
     "data": {
      "text/plain": [
       "array([[ 0,  0,  0,  0],\n",
       "       [ 0,  5,  0,  0],\n",
       "       [ 0,  0, 10,  0],\n",
       "       [ 0,  0,  0, 15]])"
      ]
     },
     "execution_count": 100,
     "metadata": {},
     "output_type": "execute_result"
    }
   ],
   "source": [
    "np.diag(np.diag(x,k=0))\n",
    "## we can see below that it reconstructed the whole matrix and it only has the diagonal elements from the original array"
   ]
  },
  {
   "cell_type": "markdown",
   "id": "7ef36604",
   "metadata": {},
   "source": [
    "## diagflat"
   ]
  },
  {
   "cell_type": "code",
   "execution_count": 101,
   "id": "9e566cfd",
   "metadata": {},
   "outputs": [
    {
     "data": {
      "text/plain": [
       "array([[1, 0, 0, 0],\n",
       "       [0, 2, 0, 0],\n",
       "       [0, 0, 3, 0],\n",
       "       [0, 0, 0, 4]])"
      ]
     },
     "execution_count": 101,
     "metadata": {},
     "output_type": "execute_result"
    }
   ],
   "source": [
    "## it will flatten any array and will create a new array and construct a matrix with it.\n",
    "np.diagflat([[1,2],[3,4]])\n",
    "## see here is the value of k = 0 hence the flatten elements are kept in the principal diagonal elements"
   ]
  },
  {
   "cell_type": "code",
   "execution_count": 102,
   "id": "386e0b69",
   "metadata": {},
   "outputs": [
    {
     "data": {
      "text/plain": [
       "array([[0, 1, 0],\n",
       "       [0, 0, 2],\n",
       "       [0, 0, 0]])"
      ]
     },
     "execution_count": 102,
     "metadata": {},
     "output_type": "execute_result"
    }
   ],
   "source": [
    "np.diagflat([1,2],1)\n",
    "## here we want to flatten the[1,2] first then it will construct an array and then it will keep the diagonal at k = 1"
   ]
  },
  {
   "cell_type": "markdown",
   "id": "a1a040cf",
   "metadata": {},
   "source": [
    "## numpy tri"
   ]
  },
  {
   "cell_type": "code",
   "execution_count": 103,
   "id": "06fadeec",
   "metadata": {},
   "outputs": [],
   "source": [
    "## it is an array with ones at and below that diagonal"
   ]
  },
  {
   "cell_type": "code",
   "execution_count": 104,
   "id": "b81eff96",
   "metadata": {},
   "outputs": [
    {
     "data": {
      "text/plain": [
       "array([[1, 0, 0, 0, 0],\n",
       "       [1, 1, 0, 0, 0],\n",
       "       [1, 1, 1, 0, 0]])"
      ]
     },
     "execution_count": 104,
     "metadata": {},
     "output_type": "execute_result"
    }
   ],
   "source": [
    "np.tri(3,5,k=0,dtype=int)\n",
    "## the values of the k determines what diagonal elements are filled and under that."
   ]
  },
  {
   "cell_type": "code",
   "execution_count": 105,
   "id": "948e15e3",
   "metadata": {},
   "outputs": [
    {
     "data": {
      "text/plain": [
       "array([[1, 0, 0, 0],\n",
       "       [1, 1, 0, 0],\n",
       "       [1, 1, 1, 0],\n",
       "       [1, 1, 1, 1]])"
      ]
     },
     "execution_count": 105,
     "metadata": {},
     "output_type": "execute_result"
    }
   ],
   "source": [
    "np.tri(N=4,k=0,dtype=int)\n",
    "## here we can see that we have given only the value of N and not M hence what happens is that internally the value\n",
    "## of M is going to be equal to N"
   ]
  },
  {
   "cell_type": "markdown",
   "id": "2cf38896",
   "metadata": {},
   "source": [
    "# numpy tril"
   ]
  },
  {
   "cell_type": "code",
   "execution_count": 106,
   "id": "1b0b5d28",
   "metadata": {},
   "outputs": [
    {
     "data": {
      "text/plain": [
       "array([[1, 0, 0],\n",
       "       [4, 5, 0],\n",
       "       [7, 8, 9]])"
      ]
     },
     "execution_count": 106,
     "metadata": {},
     "output_type": "execute_result"
    }
   ],
   "source": [
    "np.tril([[1,2,3],[4,5,6],[7,8,9]])\n",
    "## this will return the lower triangle of the matrix"
   ]
  },
  {
   "cell_type": "code",
   "execution_count": 107,
   "id": "600c5e1d",
   "metadata": {},
   "outputs": [
    {
     "data": {
      "text/plain": [
       "array([[0, 0, 0],\n",
       "       [0, 0, 0],\n",
       "       [7, 0, 0]])"
      ]
     },
     "execution_count": 107,
     "metadata": {},
     "output_type": "execute_result"
    }
   ],
   "source": [
    "np.tril([[1,2,3],[4,5,6],[7,8,9]],k=-2) ## here the output has to be 7"
   ]
  },
  {
   "cell_type": "markdown",
   "id": "c0d250b1",
   "metadata": {},
   "source": [
    "# numpy triu"
   ]
  },
  {
   "cell_type": "code",
   "execution_count": 108,
   "id": "b50ef900",
   "metadata": {
    "scrolled": true
   },
   "outputs": [
    {
     "data": {
      "text/plain": [
       "array([[1, 2, 3],\n",
       "       [0, 5, 6],\n",
       "       [0, 0, 9],\n",
       "       [0, 0, 0]])"
      ]
     },
     "execution_count": 108,
     "metadata": {},
     "output_type": "execute_result"
    }
   ],
   "source": [
    "np.triu([[1,2,3],[4,5,6],[7,8,9],[10,11,12]])\n",
    "## this will return the upper triangle of the matrix"
   ]
  },
  {
   "cell_type": "code",
   "execution_count": 109,
   "id": "c794227c",
   "metadata": {},
   "outputs": [
    {
     "data": {
      "text/plain": [
       "array([[0, 2, 3],\n",
       "       [0, 0, 6],\n",
       "       [0, 0, 0],\n",
       "       [0, 0, 0]])"
      ]
     },
     "execution_count": 109,
     "metadata": {},
     "output_type": "execute_result"
    }
   ],
   "source": [
    "np.triu([[1,2,3],[4,5,6],[7,8,9],[10,11,12]],k=1) ## here the output must 2 6 and 3"
   ]
  },
  {
   "cell_type": "markdown",
   "id": "15e9d6cb",
   "metadata": {},
   "source": [
    "## Random Number generation"
   ]
  },
  {
   "cell_type": "code",
   "execution_count": 110,
   "id": "7d3674f3",
   "metadata": {},
   "outputs": [
    {
     "name": "stdout",
     "output_type": "stream",
     "text": [
      "[[0.50886385 0.03145452 0.30796071]\n",
      " [0.01159301 0.3720287  0.05567618]]\n"
     ]
    }
   ],
   "source": [
    "print(np.random.rand(2,3))\n",
    "## here i am going to print a matrix with dimensions with 2 rows and 3 columns and the data that is generated using \n",
    "## the rand is uniformly distributed"
   ]
  },
  {
   "cell_type": "code",
   "execution_count": 111,
   "id": "5a0281cf",
   "metadata": {},
   "outputs": [
    {
     "name": "stdout",
     "output_type": "stream",
     "text": [
      "[[ 0.79028051  0.14714341 -0.49561723]\n",
      " [ 1.1797012   1.18822855  1.10734472]\n",
      " [ 0.14215087 -1.84815367  2.54844137]\n",
      " [ 0.02962609  0.11899055 -0.04780335]]\n"
     ]
    }
   ],
   "source": [
    "print(np.random.randn(4,3))\n",
    "## this is going to print a matrix with dimension with 4 rows and 3 columns and the data that is generated using\n",
    "## randn is normally distributed"
   ]
  },
  {
   "cell_type": "code",
   "execution_count": 112,
   "id": "ad7ec471",
   "metadata": {},
   "outputs": [
    {
     "name": "stdout",
     "output_type": "stream",
     "text": [
      "7\n"
     ]
    }
   ],
   "source": [
    "print(np.random.randint(1,10))"
   ]
  },
  {
   "cell_type": "code",
   "execution_count": 113,
   "id": "56e599dc",
   "metadata": {},
   "outputs": [
    {
     "name": "stdout",
     "output_type": "stream",
     "text": [
      "The random matrix that is generated by using the random function with values between 1 - 100\n",
      "[[13 19 75 26]\n",
      " [97 71 49 10]\n",
      " [56 98 27 14]\n",
      " [34 93 80 84]]\n"
     ]
    }
   ],
   "source": [
    "print(\"The random matrix that is generated by using the random function with values between 1 - 100\")\n",
    "print(np.random.randint(1,100,(4,4)))"
   ]
  },
  {
   "cell_type": "markdown",
   "id": "a0933dfe",
   "metadata": {},
   "source": [
    "## Reshaping"
   ]
  },
  {
   "cell_type": "code",
   "execution_count": 114,
   "id": "fdb55c94",
   "metadata": {},
   "outputs": [
    {
     "data": {
      "text/plain": [
       "array([34, 65, 34, 34, 35, 96, 21, 50, 56, 37, 76, 12, 99, 57, 88, 79, 84,\n",
       "        1, 38, 66, 22, 39, 80, 73, 87, 84, 64,  5, 38, 10])"
      ]
     },
     "execution_count": 114,
     "metadata": {},
     "output_type": "execute_result"
    }
   ],
   "source": [
    "from numpy.random import randint as ri\n",
    "a = ri(1,100,30) ## this will genereate a list of 30 numbers in between 1-100\n",
    "a"
   ]
  },
  {
   "cell_type": "code",
   "execution_count": 115,
   "id": "10346c48",
   "metadata": {},
   "outputs": [
    {
     "data": {
      "text/plain": [
       "array([[[34, 65, 34, 34, 35],\n",
       "        [96, 21, 50, 56, 37],\n",
       "        [76, 12, 99, 57, 88]],\n",
       "\n",
       "       [[79, 84,  1, 38, 66],\n",
       "        [22, 39, 80, 73, 87],\n",
       "        [84, 64,  5, 38, 10]]])"
      ]
     },
     "execution_count": 115,
     "metadata": {},
     "output_type": "execute_result"
    }
   ],
   "source": [
    "b = a.reshape(2,3,5)\n",
    "b"
   ]
  },
  {
   "cell_type": "code",
   "execution_count": 116,
   "id": "4e2071c5",
   "metadata": {},
   "outputs": [
    {
     "data": {
      "text/plain": [
       "array([[34, 65, 34, 34, 35],\n",
       "       [96, 21, 50, 56, 37],\n",
       "       [76, 12, 99, 57, 88],\n",
       "       [79, 84,  1, 38, 66],\n",
       "       [22, 39, 80, 73, 87],\n",
       "       [84, 64,  5, 38, 10]])"
      ]
     },
     "execution_count": 116,
     "metadata": {},
     "output_type": "execute_result"
    }
   ],
   "source": [
    "c = a.reshape(6,-19292)\n",
    "c\n",
    "## this will give a 6*5 dimension matrix even though we gave a -19292 as a dimension the computer will understand \n",
    "## because the shape is 1*30 there are 30 elements it will divide the 30 by 6 and then left is 5 hence (6,5)"
   ]
  },
  {
   "cell_type": "code",
   "execution_count": 117,
   "id": "29adc383",
   "metadata": {},
   "outputs": [],
   "source": [
    "A = ri(1,100,10)"
   ]
  },
  {
   "cell_type": "code",
   "execution_count": 118,
   "id": "a592eef2",
   "metadata": {},
   "outputs": [
    {
     "name": "stdout",
     "output_type": "stream",
     "text": [
      "Before Sorting\n",
      "[80  3  3  1 43 13 46  3 69 65]\n",
      "After sorting\n",
      "[ 1  3  3  3 13 43 46 65 69 80]\n"
     ]
    }
   ],
   "source": [
    "## doing np.sort operation\n",
    "print(\"Before Sorting\")\n",
    "print(A)\n",
    "print(\"After sorting\")\n",
    "print(np.sort(A))"
   ]
  },
  {
   "cell_type": "code",
   "execution_count": 119,
   "id": "d7324920",
   "metadata": {
    "scrolled": true
   },
   "outputs": [
    {
     "data": {
      "text/plain": [
       "array([[92, 88, 66, 57, 77],\n",
       "       [68, 44, 89,  7, 44],\n",
       "       [16, 18, 84, 22, 92],\n",
       "       [68, 99, 34, 27, 14],\n",
       "       [42, 54, 45, 45,  4]])"
      ]
     },
     "execution_count": 119,
     "metadata": {},
     "output_type": "execute_result"
    }
   ],
   "source": [
    "M = ri(1,100,25).reshape(5,5)\n",
    "M"
   ]
  },
  {
   "cell_type": "code",
   "execution_count": 120,
   "id": "f5da3086",
   "metadata": {
    "scrolled": false
   },
   "outputs": [
    {
     "name": "stdout",
     "output_type": "stream",
     "text": [
      "[[57 66 77 88 92]\n",
      " [ 7 44 44 68 89]\n",
      " [16 18 22 84 92]\n",
      " [14 27 34 68 99]\n",
      " [ 4 42 45 45 54]]\n"
     ]
    }
   ],
   "source": [
    "print(np.sort(M,axis=1,kind='mergesort'))\n",
    "## here iam trying to perform the sort operation on columns using merge sort"
   ]
  },
  {
   "cell_type": "code",
   "execution_count": 121,
   "id": "d7265e3a",
   "metadata": {},
   "outputs": [],
   "source": [
    "## here in the above matrix we can see that the matrix looks sorted but itseems likes it got sorted with rows but\n",
    "## specified it use the columns\n",
    "## Many poeple get confused here this is happening becuase when we say sort axis=1 then it will take each row(data)\n",
    "## and sort it column wise"
   ]
  },
  {
   "cell_type": "markdown",
   "id": "5b78c2f9",
   "metadata": {},
   "source": [
    "## ARGMAX"
   ]
  },
  {
   "cell_type": "code",
   "execution_count": 122,
   "id": "605565d4",
   "metadata": {},
   "outputs": [
    {
     "data": {
      "text/plain": [
       "array([[92, 88, 66, 57, 77],\n",
       "       [68, 44, 89,  7, 44],\n",
       "       [16, 18, 84, 22, 92],\n",
       "       [68, 99, 34, 27, 14],\n",
       "       [42, 54, 45, 45,  4]])"
      ]
     },
     "execution_count": 122,
     "metadata": {},
     "output_type": "execute_result"
    }
   ],
   "source": [
    "M"
   ]
  },
  {
   "cell_type": "code",
   "execution_count": 123,
   "id": "a538fba2",
   "metadata": {},
   "outputs": [
    {
     "data": {
      "text/plain": [
       "array([0, 2, 4, 1, 1])"
      ]
     },
     "execution_count": 123,
     "metadata": {},
     "output_type": "execute_result"
    }
   ],
   "source": [
    "M.argmax(axis=1)"
   ]
  },
  {
   "cell_type": "code",
   "execution_count": 124,
   "id": "6f0a0410",
   "metadata": {},
   "outputs": [
    {
     "data": {
      "text/plain": [
       "array([0, 3, 1, 0, 2])"
      ]
     },
     "execution_count": 124,
     "metadata": {},
     "output_type": "execute_result"
    }
   ],
   "source": [
    "M.argmax(axis=0)"
   ]
  },
  {
   "cell_type": "code",
   "execution_count": 125,
   "id": "e1bd4532",
   "metadata": {},
   "outputs": [
    {
     "data": {
      "text/plain": [
       "12"
      ]
     },
     "execution_count": 125,
     "metadata": {},
     "output_type": "execute_result"
    }
   ],
   "source": [
    "c.argmax()"
   ]
  },
  {
   "cell_type": "markdown",
   "id": "5ab575fe",
   "metadata": {},
   "source": [
    "## indexing and slicing"
   ]
  },
  {
   "cell_type": "code",
   "execution_count": 126,
   "id": "8a94830d",
   "metadata": {},
   "outputs": [
    {
     "data": {
      "text/plain": [
       "array([ 0,  1,  2,  3,  4,  5,  6,  7,  8,  9, 10])"
      ]
     },
     "execution_count": 126,
     "metadata": {},
     "output_type": "execute_result"
    }
   ],
   "source": [
    "arr = np.arange(0,11)\n",
    "arr"
   ]
  },
  {
   "cell_type": "code",
   "execution_count": 127,
   "id": "037da3fa",
   "metadata": {},
   "outputs": [
    {
     "name": "stdout",
     "output_type": "stream",
     "text": [
      "The element at index 7 is  7\n"
     ]
    }
   ],
   "source": [
    "print(\"The element at index 7 is \",arr[7])"
   ]
  },
  {
   "cell_type": "code",
   "execution_count": 128,
   "id": "ff34e769",
   "metadata": {},
   "outputs": [
    {
     "name": "stdout",
     "output_type": "stream",
     "text": [
      "3rd and 5th index using step  [3 5]\n"
     ]
    }
   ],
   "source": [
    "print(\"3rd and 5th index using step \",arr[3:6:2])"
   ]
  },
  {
   "cell_type": "code",
   "execution_count": 129,
   "id": "42978a69",
   "metadata": {},
   "outputs": [
    {
     "name": "stdout",
     "output_type": "stream",
     "text": [
      "printing the number's in reverse order  [10  9]\n"
     ]
    }
   ],
   "source": [
    "print(\"printing the number's in reverse order \",arr[-1:8:-1])"
   ]
  },
  {
   "cell_type": "code",
   "execution_count": 130,
   "id": "78486af0",
   "metadata": {},
   "outputs": [],
   "source": [
    "import numpy as np"
   ]
  },
  {
   "cell_type": "code",
   "execution_count": 139,
   "id": "88eb1ab9",
   "metadata": {},
   "outputs": [
    {
     "data": {
      "text/plain": [
       "array([[[99, 85, 16],\n",
       "        [34, 77, 57],\n",
       "        [72, 13, 92],\n",
       "        [64, 38, 81],\n",
       "        [79, 69, 12]],\n",
       "\n",
       "       [[70, 81, 83],\n",
       "        [39, 74, 56],\n",
       "        [32, 71, 18],\n",
       "        [26, 21, 91],\n",
       "        [21, 31, 74]],\n",
       "\n",
       "       [[17, 31, 92],\n",
       "        [56, 61, 58],\n",
       "        [44, 65, 91],\n",
       "        [35, 88, 26],\n",
       "        [32, 50, 24]]])"
      ]
     },
     "execution_count": 139,
     "metadata": {},
     "output_type": "execute_result"
    }
   ],
   "source": [
    "mat = np.array(ri(10,100,45)).reshape(3,5,3)\n",
    "mat"
   ]
  },
  {
   "cell_type": "code",
   "execution_count": 132,
   "id": "3b9fbe80",
   "metadata": {},
   "outputs": [
    {
     "data": {
      "text/plain": [
       "array([78, 32, 57])"
      ]
     },
     "execution_count": 132,
     "metadata": {},
     "output_type": "execute_result"
    }
   ],
   "source": [
    "mat[1][1]"
   ]
  },
  {
   "cell_type": "code",
   "execution_count": 133,
   "id": "8c2e8f40",
   "metadata": {},
   "outputs": [
    {
     "data": {
      "text/plain": [
       "array([[[62, 42, 76],\n",
       "        [15, 52, 29]],\n",
       "\n",
       "       [[10, 49, 62],\n",
       "        [43, 77, 92]]])"
      ]
     },
     "execution_count": 133,
     "metadata": {},
     "output_type": "execute_result"
    }
   ],
   "source": [
    "mat[1:4,3:5]\n",
    "## this will give me the 2nd and 3rd matrix and it will give me the 3rd index and 4th index row of the matrix"
   ]
  },
  {
   "cell_type": "code",
   "execution_count": 134,
   "id": "f076de97",
   "metadata": {},
   "outputs": [
    {
     "data": {
      "text/plain": [
       "array([[[33, 29, 99],\n",
       "        [99, 33, 93]],\n",
       "\n",
       "       [[78, 32, 57],\n",
       "        [62, 42, 76]],\n",
       "\n",
       "       [[95, 47, 20],\n",
       "        [10, 49, 62]]])"
      ]
     },
     "execution_count": 134,
     "metadata": {},
     "output_type": "execute_result"
    }
   ],
   "source": [
    "mat[0:3,[1,3]] \n",
    "## i think this should 1st and 3rd column of all the matrices from the above matrix"
   ]
  },
  {
   "cell_type": "code",
   "execution_count": 135,
   "id": "500d6582",
   "metadata": {},
   "outputs": [
    {
     "data": {
      "text/plain": [
       "array([96, 29, 22, 33, 21])"
      ]
     },
     "execution_count": 135,
     "metadata": {},
     "output_type": "execute_result"
    }
   ],
   "source": [
    "mat[0][:,1]\n",
    "## slicing operation [rows,columns]"
   ]
  },
  {
   "cell_type": "code",
   "execution_count": 136,
   "id": "a4f794d0",
   "metadata": {},
   "outputs": [
    {
     "data": {
      "text/plain": [
       "array([[[37, 96, 37],\n",
       "        [33, 29, 99],\n",
       "        [63, 22, 99],\n",
       "        [99, 33, 93],\n",
       "        [50, 21, 74]],\n",
       "\n",
       "       [[41, 27, 17],\n",
       "        [78, 32, 57],\n",
       "        [80, 24, 59],\n",
       "        [62, 42, 76],\n",
       "        [15, 52, 29]],\n",
       "\n",
       "       [[44, 84, 78],\n",
       "        [95, 47, 20],\n",
       "        [67, 93, 68],\n",
       "        [10, 49, 62],\n",
       "        [43, 77, 92]]])"
      ]
     },
     "execution_count": 136,
     "metadata": {},
     "output_type": "execute_result"
    }
   ],
   "source": [
    "mat"
   ]
  },
  {
   "cell_type": "code",
   "execution_count": 137,
   "id": "fd52c70c",
   "metadata": {},
   "outputs": [
    {
     "data": {
      "text/plain": [
       "array([[[37, 96, 37],\n",
       "        [33, 29, 99]],\n",
       "\n",
       "       [[41, 27, 17],\n",
       "        [78, 32, 57]],\n",
       "\n",
       "       [[44, 84, 78],\n",
       "        [95, 47, 20]]])"
      ]
     },
     "execution_count": 137,
     "metadata": {},
     "output_type": "execute_result"
    }
   ],
   "source": [
    "mat[0:3,[0,1]]"
   ]
  },
  {
   "cell_type": "markdown",
   "id": "007311d2",
   "metadata": {},
   "source": [
    "## SubSetting"
   ]
  },
  {
   "cell_type": "code",
   "execution_count": 142,
   "id": "7dd9d672",
   "metadata": {},
   "outputs": [
    {
     "data": {
      "text/plain": [
       "array([[68, 37, 61, 55, 87],\n",
       "       [71, 47, 98, 54, 24],\n",
       "       [48, 39, 48, 24, 35]])"
      ]
     },
     "execution_count": 142,
     "metadata": {},
     "output_type": "execute_result"
    }
   ],
   "source": [
    "mat1 = np.array(ri(20,100,15)).reshape(3,-100)\n",
    "mat1"
   ]
  },
  {
   "cell_type": "markdown",
   "id": "6abfc63d",
   "metadata": {},
   "source": [
    "## trying to see what elements are greater than 50"
   ]
  },
  {
   "cell_type": "code",
   "execution_count": 143,
   "id": "5eb760e0",
   "metadata": {},
   "outputs": [
    {
     "data": {
      "text/plain": [
       "array([[ True, False,  True,  True,  True],\n",
       "       [ True, False,  True,  True, False],\n",
       "       [False, False, False, False, False]])"
      ]
     },
     "execution_count": 143,
     "metadata": {},
     "output_type": "execute_result"
    }
   ],
   "source": [
    "mat1>50"
   ]
  },
  {
   "cell_type": "markdown",
   "id": "43279e05",
   "metadata": {},
   "source": [
    "## trying to print only those elements that are greater than 50"
   ]
  },
  {
   "cell_type": "code",
   "execution_count": 144,
   "id": "e22b620a",
   "metadata": {},
   "outputs": [
    {
     "data": {
      "text/plain": [
       "array([68, 61, 55, 87, 71, 98, 54])"
      ]
     },
     "execution_count": 144,
     "metadata": {},
     "output_type": "execute_result"
    }
   ],
   "source": [
    "mat1[mat1>50]"
   ]
  },
  {
   "cell_type": "markdown",
   "id": "8cae973b",
   "metadata": {},
   "source": [
    "## Universal Functions"
   ]
  },
  {
   "cell_type": "code",
   "execution_count": 146,
   "id": "59a8175d",
   "metadata": {},
   "outputs": [
    {
     "data": {
      "text/plain": [
       "array([[3, 8, 5],\n",
       "       [5, 2, 7],\n",
       "       [3, 4, 9]])"
      ]
     },
     "execution_count": 146,
     "metadata": {},
     "output_type": "execute_result"
    }
   ],
   "source": [
    "mat_1 = np.array(ri(1,10,9)).reshape(3,3)\n",
    "mat_2 = np.array(ri(1,10,9)).reshape(3,3)\n",
    "mat_1"
   ]
  },
  {
   "cell_type": "code",
   "execution_count": 147,
   "id": "b869c2db",
   "metadata": {},
   "outputs": [
    {
     "data": {
      "text/plain": [
       "array([[1, 2, 3],\n",
       "       [3, 4, 8],\n",
       "       [2, 1, 5]])"
      ]
     },
     "execution_count": 147,
     "metadata": {},
     "output_type": "execute_result"
    }
   ],
   "source": [
    "mat_2"
   ]
  },
  {
   "cell_type": "code",
   "execution_count": 149,
   "id": "40628227",
   "metadata": {},
   "outputs": [
    {
     "data": {
      "text/plain": [
       "array([[ 3, 16, 15],\n",
       "       [15,  8, 56],\n",
       "       [ 6,  4, 45]])"
      ]
     },
     "execution_count": 149,
     "metadata": {},
     "output_type": "execute_result"
    }
   ],
   "source": [
    "mat_1*mat_2\n",
    "## this will just multiply the elements with same indexes"
   ]
  },
  {
   "cell_type": "code",
   "execution_count": 151,
   "id": "7c937498",
   "metadata": {},
   "outputs": [
    {
     "data": {
      "text/plain": [
       "array([[37, 43, 98],\n",
       "       [25, 25, 66],\n",
       "       [33, 31, 86]])"
      ]
     },
     "execution_count": 151,
     "metadata": {},
     "output_type": "execute_result"
    }
   ],
   "source": [
    "mat_1@mat_2\n",
    "## here we are performing matrix multiplication"
   ]
  },
  {
   "cell_type": "code",
   "execution_count": 153,
   "id": "c8e53e9d",
   "metadata": {},
   "outputs": [
    {
     "ename": "ZeroDivisionError",
     "evalue": "division by zero",
     "output_type": "error",
     "traceback": [
      "\u001b[0;31m---------------------------------------------------------------------------\u001b[0m",
      "\u001b[0;31mZeroDivisionError\u001b[0m                         Traceback (most recent call last)",
      "Cell \u001b[0;32mIn[153], line 3\u001b[0m\n\u001b[1;32m      1\u001b[0m \u001b[38;5;66;03m## performing and checking what happens when we divide by zero\u001b[39;00m\n\u001b[1;32m      2\u001b[0m \u001b[38;5;66;03m## case 1:- just a random number\u001b[39;00m\n\u001b[0;32m----> 3\u001b[0m \u001b[38;5;28mprint\u001b[39m(\u001b[38;5;241;43m5\u001b[39;49m\u001b[38;5;241;43m/\u001b[39;49m\u001b[38;5;241;43m0\u001b[39;49m)\n",
      "\u001b[0;31mZeroDivisionError\u001b[0m: division by zero"
     ]
    }
   ],
   "source": [
    "## performing and checking what happens when we divide by zero\n",
    "## case 1:- just a random number\n",
    "print(5/0)"
   ]
  },
  {
   "cell_type": "code",
   "execution_count": 154,
   "id": "fc787e83",
   "metadata": {},
   "outputs": [
    {
     "name": "stderr",
     "output_type": "stream",
     "text": [
      "/var/folders/b0/y0q5l7lx61g3k6f4zvy9__4h0000gn/T/ipykernel_22193/2773347517.py:2: RuntimeWarning: divide by zero encountered in divide\n",
      "  mat_1/0\n"
     ]
    },
    {
     "data": {
      "text/plain": [
       "array([[inf, inf, inf],\n",
       "       [inf, inf, inf],\n",
       "       [inf, inf, inf]])"
      ]
     },
     "execution_count": 154,
     "metadata": {},
     "output_type": "execute_result"
    }
   ],
   "source": [
    "## case 2:- An element of an numpy array\n",
    "mat_1/0"
   ]
  },
  {
   "cell_type": "code",
   "execution_count": 156,
   "id": "8df2acf7",
   "metadata": {},
   "outputs": [],
   "source": [
    "## addition of scalar\n",
    "## that number is added to the each element of the array"
   ]
  },
  {
   "cell_type": "code",
   "execution_count": 157,
   "id": "9c1acef0",
   "metadata": {},
   "outputs": [
    {
     "data": {
      "text/plain": [
       "array([[103, 108, 105],\n",
       "       [105, 102, 107],\n",
       "       [103, 104, 109]])"
      ]
     },
     "execution_count": 157,
     "metadata": {},
     "output_type": "execute_result"
    }
   ],
   "source": [
    "100 + mat_1"
   ]
  },
  {
   "cell_type": "code",
   "execution_count": 158,
   "id": "9ff27f39",
   "metadata": {},
   "outputs": [
    {
     "data": {
      "text/plain": [
       "array([[ 27, 512, 125],\n",
       "       [125,   8, 343],\n",
       "       [ 27,  64, 729]])"
      ]
     },
     "execution_count": 158,
     "metadata": {},
     "output_type": "execute_result"
    }
   ],
   "source": [
    "## power operation\n",
    "## case 1:- using the double start(**)\n",
    "mat_1**3"
   ]
  },
  {
   "cell_type": "code",
   "execution_count": 159,
   "id": "e73be45f",
   "metadata": {},
   "outputs": [
    {
     "data": {
      "text/plain": [
       "array([[ 27, 512, 125],\n",
       "       [125,   8, 343],\n",
       "       [ 27,  64, 729]])"
      ]
     },
     "execution_count": 159,
     "metadata": {},
     "output_type": "execute_result"
    }
   ],
   "source": [
    "## case 2:- using the pow function\n",
    "pow(mat_1,3)"
   ]
  },
  {
   "cell_type": "markdown",
   "id": "7c897f2b",
   "metadata": {},
   "source": [
    "## BroadCasting"
   ]
  },
  {
   "cell_type": "code",
   "execution_count": 161,
   "id": "0e023dd0",
   "metadata": {},
   "outputs": [
    {
     "data": {
      "text/plain": [
       "array([[0., 0., 0., 0.],\n",
       "       [0., 0., 0., 0.],\n",
       "       [0., 0., 0., 0.],\n",
       "       [0., 0., 0., 0.]])"
      ]
     },
     "execution_count": 161,
     "metadata": {},
     "output_type": "execute_result"
    }
   ],
   "source": [
    "mat_bc = np.zeros((4,4))\n",
    "mat_bc"
   ]
  },
  {
   "cell_type": "code",
   "execution_count": 163,
   "id": "3a173bfa",
   "metadata": {},
   "outputs": [
    {
     "data": {
      "text/plain": [
       "array([[100., 100., 100., 100.],\n",
       "       [100., 100., 100., 100.],\n",
       "       [100., 100., 100., 100.],\n",
       "       [100., 100., 100., 100.]])"
      ]
     },
     "execution_count": 163,
     "metadata": {},
     "output_type": "execute_result"
    }
   ],
   "source": [
    "mat_bc + 100\n",
    "## this is called as element wise broadcasting operation because we are performing this element wise."
   ]
  },
  {
   "cell_type": "code",
   "execution_count": 164,
   "id": "b7bbf59b",
   "metadata": {},
   "outputs": [
    {
     "data": {
      "text/plain": [
       "array([1, 0, 2, 5])"
      ]
     },
     "execution_count": 164,
     "metadata": {},
     "output_type": "execute_result"
    }
   ],
   "source": [
    "add_rows = np.array([1,0,2,5])\n",
    "add_rows"
   ]
  },
  {
   "cell_type": "code",
   "execution_count": 166,
   "id": "e3835498",
   "metadata": {},
   "outputs": [
    {
     "data": {
      "text/plain": [
       "array([[1., 0., 2., 5.],\n",
       "       [1., 0., 2., 5.],\n",
       "       [1., 0., 2., 5.],\n",
       "       [1., 0., 2., 5.]])"
      ]
     },
     "execution_count": 166,
     "metadata": {},
     "output_type": "execute_result"
    }
   ],
   "source": [
    "add_rows + mat_bc\n",
    "## here we can see that the add_rows has been braodcasted for each and every element of the array."
   ]
  },
  {
   "cell_type": "code",
   "execution_count": null,
   "id": "e3c4315c",
   "metadata": {},
   "outputs": [],
   "source": []
  }
 ],
 "metadata": {
  "kernelspec": {
   "display_name": "Python 3 (ipykernel)",
   "language": "python",
   "name": "python3"
  },
  "language_info": {
   "codemirror_mode": {
    "name": "ipython",
    "version": 3
   },
   "file_extension": ".py",
   "mimetype": "text/x-python",
   "name": "python",
   "nbconvert_exporter": "python",
   "pygments_lexer": "ipython3",
   "version": "3.10.11"
  }
 },
 "nbformat": 4,
 "nbformat_minor": 5
}
