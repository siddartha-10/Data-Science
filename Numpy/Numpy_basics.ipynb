{
 "cells": [
  {
   "cell_type": "code",
   "execution_count": 1,
   "id": "c21519e8",
   "metadata": {},
   "outputs": [],
   "source": [
    "import numpy as np"
   ]
  },
  {
   "cell_type": "code",
   "execution_count": 4,
   "id": "ed5d969b",
   "metadata": {},
   "outputs": [],
   "source": [
    "a = np.array(['abcd',1,2])"
   ]
  },
  {
   "cell_type": "code",
   "execution_count": 5,
   "id": "2cd7eda6",
   "metadata": {},
   "outputs": [
    {
     "data": {
      "text/plain": [
       "numpy.ndarray"
      ]
     },
     "execution_count": 5,
     "metadata": {},
     "output_type": "execute_result"
    }
   ],
   "source": [
    "type(a)"
   ]
  },
  {
   "cell_type": "markdown",
   "id": "1d725cf7",
   "metadata": {},
   "source": [
    "## upcasting"
   ]
  },
  {
   "cell_type": "code",
   "execution_count": 6,
   "id": "c2cfa042",
   "metadata": {},
   "outputs": [],
   "source": [
    "b = np.array([1,2,3.0])"
   ]
  },
  {
   "cell_type": "code",
   "execution_count": 9,
   "id": "247a73eb",
   "metadata": {},
   "outputs": [
    {
     "data": {
      "text/plain": [
       "array([1., 2., 3.])"
      ]
     },
     "execution_count": 9,
     "metadata": {},
     "output_type": "execute_result"
    }
   ],
   "source": [
    "b\n",
    "## here we can see that the array i gave was 1,2,3.0 but when i print the array it is doing upcasting and printing 1.,2.,3."
   ]
  },
  {
   "cell_type": "markdown",
   "id": "4af84844",
   "metadata": {},
   "source": [
    "## two dimension array"
   ]
  },
  {
   "cell_type": "code",
   "execution_count": 12,
   "id": "ad34733d",
   "metadata": {},
   "outputs": [],
   "source": [
    "mat = np.array([[1,2],\n",
    "              [3,4]])"
   ]
  },
  {
   "cell_type": "code",
   "execution_count": 14,
   "id": "c2710904",
   "metadata": {},
   "outputs": [
    {
     "data": {
      "text/plain": [
       "numpy.ndarray"
      ]
     },
     "execution_count": 14,
     "metadata": {},
     "output_type": "execute_result"
    }
   ],
   "source": [
    "type(mat)"
   ]
  },
  {
   "cell_type": "markdown",
   "id": "c41cf354",
   "metadata": {},
   "source": [
    "## How to create a N dimension array"
   ]
  },
  {
   "cell_type": "code",
   "execution_count": 15,
   "id": "d451b187",
   "metadata": {},
   "outputs": [
    {
     "data": {
      "text/plain": [
       "array([[[[[1, 2],\n",
       "          [3, 4]]]]])"
      ]
     },
     "execution_count": 15,
     "metadata": {},
     "output_type": "execute_result"
    }
   ],
   "source": [
    "c = np.array([[1,2],[3,4]],ndmin=5)\n",
    "c\n",
    "##"
   ]
  },
  {
   "cell_type": "code",
   "execution_count": null,
   "id": "8d545b9c",
   "metadata": {},
   "outputs": [],
   "source": []
  }
 ],
 "metadata": {
  "kernelspec": {
   "display_name": "Python 3 (ipykernel)",
   "language": "python",
   "name": "python3"
  },
  "language_info": {
   "codemirror_mode": {
    "name": "ipython",
    "version": 3
   },
   "file_extension": ".py",
   "mimetype": "text/x-python",
   "name": "python",
   "nbconvert_exporter": "python",
   "pygments_lexer": "ipython3",
   "version": "3.10.11"
  }
 },
 "nbformat": 4,
 "nbformat_minor": 5
}
