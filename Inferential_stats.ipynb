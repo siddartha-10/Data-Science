{
 "cells": [
  {
   "cell_type": "markdown",
   "id": "a4e304b7",
   "metadata": {},
   "source": [
    "Suppose the IQ in a normally distributed population is mean = 100 and standard deviation = 15\n",
    "\n",
    "A researcher wants to know if the new drug effects the IQ level or no, so he recruits 20 patients to try it and recored their IQ levels\n",
    "\n",
    "The following code shows how to perform the sample Z-test in python to determine if the new drug causes a significant\n",
    "difference in IQ levels:"
   ]
  },
  {
   "cell_type": "code",
   "execution_count": 5,
   "id": "b14fd0f9",
   "metadata": {},
   "outputs": [],
   "source": [
    "from statsmodels.stats.weightstats import ztest as ztest\n",
    "\n",
    "data = [88,92,94,94,96,97,97,97,99,99,105,109,109,109,110,112,112,113,114,115]"
   ]
  },
  {
   "cell_type": "markdown",
   "id": "1312d967",
   "metadata": {},
   "source": [
    "### In the above cell output we can see that there are 2 values the first one is the z-value and the second one is the\n",
    "### P-value if the P-value is greater than the significance value we will reject the null hypothesis and vice-versa"
   ]
  },
  {
   "cell_type": "code",
   "execution_count": 8,
   "id": "f69f9459",
   "metadata": {},
   "outputs": [
    {
     "data": {
      "text/plain": [
       "(1.5976240527147705, 0.1101266701438426)"
      ]
     },
     "execution_count": 8,
     "metadata": {},
     "output_type": "execute_result"
    }
   ],
   "source": [
    "## Calculating the ztest\n",
    "\n",
    "ztest(data,value=100)"
   ]
  },
  {
   "cell_type": "code",
   "execution_count": null,
   "id": "555122f3",
   "metadata": {},
   "outputs": [],
   "source": []
  }
 ],
 "metadata": {
  "kernelspec": {
   "display_name": "Python 3 (ipykernel)",
   "language": "python",
   "name": "python3"
  },
  "language_info": {
   "codemirror_mode": {
    "name": "ipython",
    "version": 3
   },
   "file_extension": ".py",
   "mimetype": "text/x-python",
   "name": "python",
   "nbconvert_exporter": "python",
   "pygments_lexer": "ipython3",
   "version": "3.10.11"
  }
 },
 "nbformat": 4,
 "nbformat_minor": 5
}
