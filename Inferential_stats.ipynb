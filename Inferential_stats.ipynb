{
 "cells": [
  {
   "cell_type": "markdown",
   "id": "ff75f26f",
   "metadata": {},
   "source": [
    "Suppose the IQ in a normally distributed population is mean = 100 and standard deviation = 15\n",
    "\n",
    "A researcher wants to know if the new drug effects the IQ level or no, so he recruits 20 patients to try it and recored their IQ levels\n",
    "\n",
    "The following code shows how to perform the sample Z-test in python to determine if the new drug causes a significant\n",
    "difference in IQ levels:"
   ]
  },
  {
   "cell_type": "code",
   "execution_count": 5,
   "id": "6d4b6d24",
   "metadata": {},
   "outputs": [],
   "source": [
    "from statsmodels.stats.weightstats import ztest as ztest\n",
    "\n",
    "data = [88,92,94,94,96,97,97,97,99,99,105,109,109,109,110,112,112,113,114,115]"
   ]
  },
  {
   "cell_type": "markdown",
   "id": "d0df07b4",
   "metadata": {},
   "source": [
    "### In the above cell output we can see that there are 2 values the first one is the z-value and the second one is the\n",
    "### P-value if the P-value is greater than the significance value we will reject the null hypothesis and vice-versa"
   ]
  },
  {
   "cell_type": "code",
   "execution_count": 8,
   "id": "d9a62760",
   "metadata": {},
   "outputs": [
    {
     "data": {
      "text/plain": [
       "(1.5976240527147705, 0.1101266701438426)"
      ]
     },
     "execution_count": 8,
     "metadata": {},
     "output_type": "execute_result"
    }
   ],
   "source": [
    "## Calculating the ztest\n",
    "\n",
    "ztest(data,value=100)"
   ]
  },
  {
   "cell_type": "code",
   "execution_count": 9,
   "id": "f22d8b40",
   "metadata": {},
   "outputs": [],
   "source": [
    "## t-test\n",
    "\n",
    "ages = [10,20,35,50,28,40,55,18,16,55,30,25,43,18,30,28,14,24,16,17,32,35,26,27,65,18,43,23,21,20,19,70]"
   ]
  },
  {
   "cell_type": "code",
   "execution_count": 10,
   "id": "62d5f8f6",
   "metadata": {},
   "outputs": [
    {
     "data": {
      "text/plain": [
       "30.34375"
      ]
     },
     "execution_count": 10,
     "metadata": {},
     "output_type": "execute_result"
    }
   ],
   "source": [
    "import numpy as np\n",
    "mean = np.mean(ages)\n",
    "mean"
   ]
  },
  {
   "cell_type": "code",
   "execution_count": 11,
   "id": "00545636",
   "metadata": {},
   "outputs": [],
   "source": [
    "## just to take the random samples\n",
    "sample_size = 10 \n",
    "sample_ages = np.random.choice(ages,sample_size)"
   ]
  },
  {
   "cell_type": "code",
   "execution_count": 12,
   "id": "dc82843f",
   "metadata": {},
   "outputs": [
    {
     "data": {
      "text/plain": [
       "array([10, 21, 26, 40, 32, 18, 55, 24, 27, 24])"
      ]
     },
     "execution_count": 12,
     "metadata": {},
     "output_type": "execute_result"
    }
   ],
   "source": [
    "sample_ages"
   ]
  },
  {
   "cell_type": "code",
   "execution_count": 14,
   "id": "2816925f",
   "metadata": {},
   "outputs": [
    {
     "data": {
      "text/plain": [
       "27.7"
      ]
     },
     "execution_count": 14,
     "metadata": {},
     "output_type": "execute_result"
    }
   ],
   "source": [
    "mean_sample = np.mean(sample_ages)\n",
    "mean_sample"
   ]
  },
  {
   "cell_type": "code",
   "execution_count": 15,
   "id": "9ab5d667",
   "metadata": {},
   "outputs": [],
   "source": [
    "from scipy.stats import ttest_1samp"
   ]
  },
  {
   "cell_type": "code",
   "execution_count": 18,
   "id": "53c324f6",
   "metadata": {},
   "outputs": [
    {
     "data": {
      "text/plain": [
       "TtestResult(statistic=-0.5835525522940433, pvalue=0.5738524822457687, df=9)"
      ]
     },
     "execution_count": 18,
     "metadata": {},
     "output_type": "execute_result"
    }
   ],
   "source": [
    "ttest_1samp(sample_ages,30)"
   ]
  },
  {
   "cell_type": "code",
   "execution_count": null,
   "id": "a7733dee",
   "metadata": {},
   "outputs": [],
   "source": []
  }
 ],
 "metadata": {
  "kernelspec": {
   "display_name": "Python 3 (ipykernel)",
   "language": "python",
   "name": "python3"
  },
  "language_info": {
   "codemirror_mode": {
    "name": "ipython",
    "version": 3
   },
   "file_extension": ".py",
   "mimetype": "text/x-python",
   "name": "python",
   "nbconvert_exporter": "python",
   "pygments_lexer": "ipython3",
   "version": "3.10.11"
  }
 },
 "nbformat": 4,
 "nbformat_minor": 5
}
