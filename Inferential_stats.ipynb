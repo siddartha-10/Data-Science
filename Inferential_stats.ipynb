{
 "cells": [
  {
   "cell_type": "markdown",
   "id": "967e55e0",
   "metadata": {},
   "source": [
    "Suppose the IQ in a normally distributed population is mean = 100 and standard deviation = 15\n",
    "\n",
    "A researcher wants to know if the new drug effects the IQ level or no, so he recruits 20 patients to try it and recored their IQ levels"
   ]
  }
 ],
 "metadata": {
  "kernelspec": {
   "display_name": "Python 3 (ipykernel)",
   "language": "python",
   "name": "python3"
  },
  "language_info": {
   "codemirror_mode": {
    "name": "ipython",
    "version": 3
   },
   "file_extension": ".py",
   "mimetype": "text/x-python",
   "name": "python",
   "nbconvert_exporter": "python",
   "pygments_lexer": "ipython3",
   "version": "3.10.11"
  }
 },
 "nbformat": 4,
 "nbformat_minor": 5
}
