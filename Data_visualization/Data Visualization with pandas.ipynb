{
 "cells": [
  {
   "cell_type": "code",
   "execution_count": 2,
   "id": "a2749771",
   "metadata": {},
   "outputs": [],
   "source": [
    "import pandas as pd\n",
    "import numpy as np\n",
    "import matplotlib.pyplot as plt\n",
    "%matplotlib inline"
   ]
  },
  {
   "cell_type": "code",
   "execution_count": 3,
   "id": "762babf7",
   "metadata": {},
   "outputs": [],
   "source": [
    "from numpy.random import randn, randint, uniform, sample"
   ]
  },
  {
   "cell_type": "markdown",
   "id": "488fd105",
   "metadata": {},
   "source": [
    "## generating 1000 random number so we can use them in our plots"
   ]
  },
  {
   "cell_type": "code",
   "execution_count": 6,
   "id": "804964a1",
   "metadata": {},
   "outputs": [],
   "source": [
    "df = pd.DataFrame(randn(1000),index=pd.date_range('2019-06-07',periods=1000),columns=['value'])\n",
    "ts = pd.Series(randn(1000),index=pd.date_range('2019-06-07',periods=1000))"
   ]
  },
  {
   "cell_type": "code",
   "execution_count": 7,
   "id": "168e2388",
   "metadata": {},
   "outputs": [
    {
     "data": {
      "text/html": [
       "<div>\n",
       "<style scoped>\n",
       "    .dataframe tbody tr th:only-of-type {\n",
       "        vertical-align: middle;\n",
       "    }\n",
       "\n",
       "    .dataframe tbody tr th {\n",
       "        vertical-align: top;\n",
       "    }\n",
       "\n",
       "    .dataframe thead th {\n",
       "        text-align: right;\n",
       "    }\n",
       "</style>\n",
       "<table border=\"1\" class=\"dataframe\">\n",
       "  <thead>\n",
       "    <tr style=\"text-align: right;\">\n",
       "      <th></th>\n",
       "      <th>value</th>\n",
       "    </tr>\n",
       "  </thead>\n",
       "  <tbody>\n",
       "    <tr>\n",
       "      <th>2019-06-07</th>\n",
       "      <td>1.785614</td>\n",
       "    </tr>\n",
       "    <tr>\n",
       "      <th>2019-06-08</th>\n",
       "      <td>-1.159305</td>\n",
       "    </tr>\n",
       "    <tr>\n",
       "      <th>2019-06-09</th>\n",
       "      <td>-0.598930</td>\n",
       "    </tr>\n",
       "    <tr>\n",
       "      <th>2019-06-10</th>\n",
       "      <td>-1.774837</td>\n",
       "    </tr>\n",
       "    <tr>\n",
       "      <th>2019-06-11</th>\n",
       "      <td>0.466695</td>\n",
       "    </tr>\n",
       "    <tr>\n",
       "      <th>...</th>\n",
       "      <td>...</td>\n",
       "    </tr>\n",
       "    <tr>\n",
       "      <th>2022-02-26</th>\n",
       "      <td>0.041532</td>\n",
       "    </tr>\n",
       "    <tr>\n",
       "      <th>2022-02-27</th>\n",
       "      <td>-0.277320</td>\n",
       "    </tr>\n",
       "    <tr>\n",
       "      <th>2022-02-28</th>\n",
       "      <td>-0.364903</td>\n",
       "    </tr>\n",
       "    <tr>\n",
       "      <th>2022-03-01</th>\n",
       "      <td>0.197973</td>\n",
       "    </tr>\n",
       "    <tr>\n",
       "      <th>2022-03-02</th>\n",
       "      <td>-0.483976</td>\n",
       "    </tr>\n",
       "  </tbody>\n",
       "</table>\n",
       "<p>1000 rows × 1 columns</p>\n",
       "</div>"
      ],
      "text/plain": [
       "               value\n",
       "2019-06-07  1.785614\n",
       "2019-06-08 -1.159305\n",
       "2019-06-09 -0.598930\n",
       "2019-06-10 -1.774837\n",
       "2019-06-11  0.466695\n",
       "...              ...\n",
       "2022-02-26  0.041532\n",
       "2022-02-27 -0.277320\n",
       "2022-02-28 -0.364903\n",
       "2022-03-01  0.197973\n",
       "2022-03-02 -0.483976\n",
       "\n",
       "[1000 rows x 1 columns]"
      ]
     },
     "execution_count": 7,
     "metadata": {},
     "output_type": "execute_result"
    }
   ],
   "source": [
    "df"
   ]
  },
  {
   "cell_type": "code",
   "execution_count": null,
   "id": "2b6cc6e3",
   "metadata": {},
   "outputs": [],
   "source": []
  }
 ],
 "metadata": {
  "kernelspec": {
   "display_name": "Python 3 (ipykernel)",
   "language": "python",
   "name": "python3"
  },
  "language_info": {
   "codemirror_mode": {
    "name": "ipython",
    "version": 3
   },
   "file_extension": ".py",
   "mimetype": "text/x-python",
   "name": "python",
   "nbconvert_exporter": "python",
   "pygments_lexer": "ipython3",
   "version": "3.10.11"
  }
 },
 "nbformat": 4,
 "nbformat_minor": 5
}
