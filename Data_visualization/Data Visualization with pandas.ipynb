{
 "cells": [
  {
   "cell_type": "code",
   "execution_count": 2,
   "id": "99ab1f2a",
   "metadata": {},
   "outputs": [],
   "source": [
    "import pandas as pd\n",
    "import numpy as np\n",
    "import matplotlib.pyplot as plt\n",
    "%matplotlib inline"
   ]
  },
  {
   "cell_type": "code",
   "execution_count": 3,
   "id": "2887e910",
   "metadata": {},
   "outputs": [],
   "source": [
    "from numpy.random import randn, randint, uniform, sample"
   ]
  },
  {
   "cell_type": "markdown",
   "id": "435ae6bf",
   "metadata": {},
   "source": [
    "## generating 1000 random number so we can use them in our plots"
   ]
  },
  {
   "cell_type": "code",
   "execution_count": 12,
   "id": "1c5099be",
   "metadata": {},
   "outputs": [],
   "source": [
    "df = pd.DataFrame(randn(1000),index=pd.date_range('2019-06-07',periods=1000),columns=['value'])\n",
    "## here what i am doing is getting 1000 random numbers and converting them into a dataframe and the indexing them\n",
    "## with dates and named the column name as value\n",
    "ts = pd.Series(randn(1000),index=pd.date_range('2019-06-07',periods=1000))\n",
    "## here what i am doing is getting 1000 random numbers and converting them into a Series and the indexing them\n",
    "## with dates"
   ]
  },
  {
   "cell_type": "code",
   "execution_count": 13,
   "id": "3721aa03",
   "metadata": {},
   "outputs": [
    {
     "data": {
      "text/html": [
       "<div>\n",
       "<style scoped>\n",
       "    .dataframe tbody tr th:only-of-type {\n",
       "        vertical-align: middle;\n",
       "    }\n",
       "\n",
       "    .dataframe tbody tr th {\n",
       "        vertical-align: top;\n",
       "    }\n",
       "\n",
       "    .dataframe thead th {\n",
       "        text-align: right;\n",
       "    }\n",
       "</style>\n",
       "<table border=\"1\" class=\"dataframe\">\n",
       "  <thead>\n",
       "    <tr style=\"text-align: right;\">\n",
       "      <th></th>\n",
       "      <th>value</th>\n",
       "    </tr>\n",
       "  </thead>\n",
       "  <tbody>\n",
       "    <tr>\n",
       "      <th>2019-06-07</th>\n",
       "      <td>0.573400</td>\n",
       "    </tr>\n",
       "    <tr>\n",
       "      <th>2019-06-08</th>\n",
       "      <td>0.336601</td>\n",
       "    </tr>\n",
       "    <tr>\n",
       "      <th>2019-06-09</th>\n",
       "      <td>0.164153</td>\n",
       "    </tr>\n",
       "    <tr>\n",
       "      <th>2019-06-10</th>\n",
       "      <td>-0.827669</td>\n",
       "    </tr>\n",
       "    <tr>\n",
       "      <th>2019-06-11</th>\n",
       "      <td>0.068996</td>\n",
       "    </tr>\n",
       "  </tbody>\n",
       "</table>\n",
       "</div>"
      ],
      "text/plain": [
       "               value\n",
       "2019-06-07  0.573400\n",
       "2019-06-08  0.336601\n",
       "2019-06-09  0.164153\n",
       "2019-06-10 -0.827669\n",
       "2019-06-11  0.068996"
      ]
     },
     "execution_count": 13,
     "metadata": {},
     "output_type": "execute_result"
    }
   ],
   "source": [
    "df.head()"
   ]
  },
  {
   "cell_type": "code",
   "execution_count": 14,
   "id": "b964da82",
   "metadata": {},
   "outputs": [
    {
     "data": {
      "text/plain": [
       "2019-06-07    0.325857\n",
       "2019-06-08   -0.716892\n",
       "2019-06-09   -0.637707\n",
       "2019-06-10   -2.217409\n",
       "2019-06-11    4.091772\n",
       "Freq: D, dtype: float64"
      ]
     },
     "execution_count": 14,
     "metadata": {},
     "output_type": "execute_result"
    }
   ],
   "source": [
    "ts.head()"
   ]
  },
  {
   "cell_type": "code",
   "execution_count": null,
   "id": "0e1488a5",
   "metadata": {},
   "outputs": [],
   "source": []
  }
 ],
 "metadata": {
  "kernelspec": {
   "display_name": "Python 3 (ipykernel)",
   "language": "python",
   "name": "python3"
  },
  "language_info": {
   "codemirror_mode": {
    "name": "ipython",
    "version": 3
   },
   "file_extension": ".py",
   "mimetype": "text/x-python",
   "name": "python",
   "nbconvert_exporter": "python",
   "pygments_lexer": "ipython3",
   "version": "3.10.11"
  }
 },
 "nbformat": 4,
 "nbformat_minor": 5
}
