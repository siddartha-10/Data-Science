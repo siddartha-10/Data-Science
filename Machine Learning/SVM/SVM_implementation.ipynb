{
 "cells": [
  {
   "cell_type": "code",
   "execution_count": 1,
   "id": "0b7f6a97",
   "metadata": {},
   "outputs": [],
   "source": [
    "import pandas as pd\n",
    "import matplotlib.pyplot as plt"
   ]
  },
  {
   "cell_type": "code",
   "execution_count": 2,
   "id": "82c1a022",
   "metadata": {},
   "outputs": [],
   "source": [
    "df = pd.read_csv('winequality-red.csv')"
   ]
  },
  {
   "cell_type": "code",
   "execution_count": 3,
   "id": "baf9d896",
   "metadata": {},
   "outputs": [
    {
     "data": {
      "text/html": [
       "<div>\n",
       "<style scoped>\n",
       "    .dataframe tbody tr th:only-of-type {\n",
       "        vertical-align: middle;\n",
       "    }\n",
       "\n",
       "    .dataframe tbody tr th {\n",
       "        vertical-align: top;\n",
       "    }\n",
       "\n",
       "    .dataframe thead th {\n",
       "        text-align: right;\n",
       "    }\n",
       "</style>\n",
       "<table border=\"1\" class=\"dataframe\">\n",
       "  <thead>\n",
       "    <tr style=\"text-align: right;\">\n",
       "      <th></th>\n",
       "      <th>fixed acidity</th>\n",
       "      <th>volatile acidity</th>\n",
       "      <th>citric acid</th>\n",
       "      <th>residual sugar</th>\n",
       "      <th>chlorides</th>\n",
       "      <th>free sulfur dioxide</th>\n",
       "      <th>total sulfur dioxide</th>\n",
       "      <th>density</th>\n",
       "      <th>pH</th>\n",
       "      <th>sulphates</th>\n",
       "      <th>alcohol</th>\n",
       "      <th>quality</th>\n",
       "    </tr>\n",
       "  </thead>\n",
       "  <tbody>\n",
       "    <tr>\n",
       "      <th>0</th>\n",
       "      <td>7.4</td>\n",
       "      <td>0.70</td>\n",
       "      <td>0.00</td>\n",
       "      <td>1.9</td>\n",
       "      <td>0.076</td>\n",
       "      <td>11.0</td>\n",
       "      <td>34.0</td>\n",
       "      <td>0.9978</td>\n",
       "      <td>3.51</td>\n",
       "      <td>0.56</td>\n",
       "      <td>9.4</td>\n",
       "      <td>5</td>\n",
       "    </tr>\n",
       "    <tr>\n",
       "      <th>1</th>\n",
       "      <td>7.8</td>\n",
       "      <td>0.88</td>\n",
       "      <td>0.00</td>\n",
       "      <td>2.6</td>\n",
       "      <td>0.098</td>\n",
       "      <td>25.0</td>\n",
       "      <td>67.0</td>\n",
       "      <td>0.9968</td>\n",
       "      <td>3.20</td>\n",
       "      <td>0.68</td>\n",
       "      <td>9.8</td>\n",
       "      <td>5</td>\n",
       "    </tr>\n",
       "    <tr>\n",
       "      <th>2</th>\n",
       "      <td>7.8</td>\n",
       "      <td>0.76</td>\n",
       "      <td>0.04</td>\n",
       "      <td>2.3</td>\n",
       "      <td>0.092</td>\n",
       "      <td>15.0</td>\n",
       "      <td>54.0</td>\n",
       "      <td>0.9970</td>\n",
       "      <td>3.26</td>\n",
       "      <td>0.65</td>\n",
       "      <td>9.8</td>\n",
       "      <td>5</td>\n",
       "    </tr>\n",
       "    <tr>\n",
       "      <th>3</th>\n",
       "      <td>11.2</td>\n",
       "      <td>0.28</td>\n",
       "      <td>0.56</td>\n",
       "      <td>1.9</td>\n",
       "      <td>0.075</td>\n",
       "      <td>17.0</td>\n",
       "      <td>60.0</td>\n",
       "      <td>0.9980</td>\n",
       "      <td>3.16</td>\n",
       "      <td>0.58</td>\n",
       "      <td>9.8</td>\n",
       "      <td>6</td>\n",
       "    </tr>\n",
       "    <tr>\n",
       "      <th>4</th>\n",
       "      <td>7.4</td>\n",
       "      <td>0.70</td>\n",
       "      <td>0.00</td>\n",
       "      <td>1.9</td>\n",
       "      <td>0.076</td>\n",
       "      <td>11.0</td>\n",
       "      <td>34.0</td>\n",
       "      <td>0.9978</td>\n",
       "      <td>3.51</td>\n",
       "      <td>0.56</td>\n",
       "      <td>9.4</td>\n",
       "      <td>5</td>\n",
       "    </tr>\n",
       "  </tbody>\n",
       "</table>\n",
       "</div>"
      ],
      "text/plain": [
       "   fixed acidity  volatile acidity  citric acid  residual sugar  chlorides   \n",
       "0            7.4              0.70         0.00             1.9      0.076  \\\n",
       "1            7.8              0.88         0.00             2.6      0.098   \n",
       "2            7.8              0.76         0.04             2.3      0.092   \n",
       "3           11.2              0.28         0.56             1.9      0.075   \n",
       "4            7.4              0.70         0.00             1.9      0.076   \n",
       "\n",
       "   free sulfur dioxide  total sulfur dioxide  density    pH  sulphates   \n",
       "0                 11.0                  34.0   0.9978  3.51       0.56  \\\n",
       "1                 25.0                  67.0   0.9968  3.20       0.68   \n",
       "2                 15.0                  54.0   0.9970  3.26       0.65   \n",
       "3                 17.0                  60.0   0.9980  3.16       0.58   \n",
       "4                 11.0                  34.0   0.9978  3.51       0.56   \n",
       "\n",
       "   alcohol  quality  \n",
       "0      9.4        5  \n",
       "1      9.8        5  \n",
       "2      9.8        5  \n",
       "3      9.8        6  \n",
       "4      9.4        5  "
      ]
     },
     "execution_count": 3,
     "metadata": {},
     "output_type": "execute_result"
    }
   ],
   "source": [
    "df.head()"
   ]
  },
  {
   "cell_type": "code",
   "execution_count": 4,
   "id": "023d7f4c",
   "metadata": {},
   "outputs": [
    {
     "data": {
      "text/plain": [
       "fixed acidity           0\n",
       "volatile acidity        0\n",
       "citric acid             0\n",
       "residual sugar          0\n",
       "chlorides               0\n",
       "free sulfur dioxide     0\n",
       "total sulfur dioxide    0\n",
       "density                 0\n",
       "pH                      0\n",
       "sulphates               0\n",
       "alcohol                 0\n",
       "quality                 0\n",
       "dtype: int64"
      ]
     },
     "execution_count": 4,
     "metadata": {},
     "output_type": "execute_result"
    }
   ],
   "source": [
    "df.isna().sum()"
   ]
  },
  {
   "cell_type": "code",
   "execution_count": 5,
   "id": "ecc083cd",
   "metadata": {},
   "outputs": [],
   "source": [
    "x = df.drop(columns=['quality'],axis=1)\n",
    "y = df['quality']"
   ]
  },
  {
   "cell_type": "code",
   "execution_count": 6,
   "id": "df813c36",
   "metadata": {},
   "outputs": [],
   "source": [
    "from sklearn.preprocessing import StandardScaler\n",
    "sc = StandardScaler()\n",
    "x_scaled = sc.fit_transform(x)"
   ]
  },
  {
   "cell_type": "code",
   "execution_count": 7,
   "id": "7676be43",
   "metadata": {},
   "outputs": [],
   "source": [
    "from sklearn.model_selection import train_test_split\n",
    "x_train,x_test,y_train,y_test = train_test_split(x_scaled,y,test_size=0.33,random_state=45)"
   ]
  },
  {
   "cell_type": "code",
   "execution_count": 8,
   "id": "d1296506",
   "metadata": {},
   "outputs": [],
   "source": [
    "from sklearn.svm import SVC"
   ]
  },
  {
   "cell_type": "code",
   "execution_count": 9,
   "id": "f60fd6d0",
   "metadata": {},
   "outputs": [
    {
     "data": {
      "text/html": [
       "<style>#sk-container-id-1 {color: black;background-color: white;}#sk-container-id-1 pre{padding: 0;}#sk-container-id-1 div.sk-toggleable {background-color: white;}#sk-container-id-1 label.sk-toggleable__label {cursor: pointer;display: block;width: 100%;margin-bottom: 0;padding: 0.3em;box-sizing: border-box;text-align: center;}#sk-container-id-1 label.sk-toggleable__label-arrow:before {content: \"▸\";float: left;margin-right: 0.25em;color: #696969;}#sk-container-id-1 label.sk-toggleable__label-arrow:hover:before {color: black;}#sk-container-id-1 div.sk-estimator:hover label.sk-toggleable__label-arrow:before {color: black;}#sk-container-id-1 div.sk-toggleable__content {max-height: 0;max-width: 0;overflow: hidden;text-align: left;background-color: #f0f8ff;}#sk-container-id-1 div.sk-toggleable__content pre {margin: 0.2em;color: black;border-radius: 0.25em;background-color: #f0f8ff;}#sk-container-id-1 input.sk-toggleable__control:checked~div.sk-toggleable__content {max-height: 200px;max-width: 100%;overflow: auto;}#sk-container-id-1 input.sk-toggleable__control:checked~label.sk-toggleable__label-arrow:before {content: \"▾\";}#sk-container-id-1 div.sk-estimator input.sk-toggleable__control:checked~label.sk-toggleable__label {background-color: #d4ebff;}#sk-container-id-1 div.sk-label input.sk-toggleable__control:checked~label.sk-toggleable__label {background-color: #d4ebff;}#sk-container-id-1 input.sk-hidden--visually {border: 0;clip: rect(1px 1px 1px 1px);clip: rect(1px, 1px, 1px, 1px);height: 1px;margin: -1px;overflow: hidden;padding: 0;position: absolute;width: 1px;}#sk-container-id-1 div.sk-estimator {font-family: monospace;background-color: #f0f8ff;border: 1px dotted black;border-radius: 0.25em;box-sizing: border-box;margin-bottom: 0.5em;}#sk-container-id-1 div.sk-estimator:hover {background-color: #d4ebff;}#sk-container-id-1 div.sk-parallel-item::after {content: \"\";width: 100%;border-bottom: 1px solid gray;flex-grow: 1;}#sk-container-id-1 div.sk-label:hover label.sk-toggleable__label {background-color: #d4ebff;}#sk-container-id-1 div.sk-serial::before {content: \"\";position: absolute;border-left: 1px solid gray;box-sizing: border-box;top: 0;bottom: 0;left: 50%;z-index: 0;}#sk-container-id-1 div.sk-serial {display: flex;flex-direction: column;align-items: center;background-color: white;padding-right: 0.2em;padding-left: 0.2em;position: relative;}#sk-container-id-1 div.sk-item {position: relative;z-index: 1;}#sk-container-id-1 div.sk-parallel {display: flex;align-items: stretch;justify-content: center;background-color: white;position: relative;}#sk-container-id-1 div.sk-item::before, #sk-container-id-1 div.sk-parallel-item::before {content: \"\";position: absolute;border-left: 1px solid gray;box-sizing: border-box;top: 0;bottom: 0;left: 50%;z-index: -1;}#sk-container-id-1 div.sk-parallel-item {display: flex;flex-direction: column;z-index: 1;position: relative;background-color: white;}#sk-container-id-1 div.sk-parallel-item:first-child::after {align-self: flex-end;width: 50%;}#sk-container-id-1 div.sk-parallel-item:last-child::after {align-self: flex-start;width: 50%;}#sk-container-id-1 div.sk-parallel-item:only-child::after {width: 0;}#sk-container-id-1 div.sk-dashed-wrapped {border: 1px dashed gray;margin: 0 0.4em 0.5em 0.4em;box-sizing: border-box;padding-bottom: 0.4em;background-color: white;}#sk-container-id-1 div.sk-label label {font-family: monospace;font-weight: bold;display: inline-block;line-height: 1.2em;}#sk-container-id-1 div.sk-label-container {text-align: center;}#sk-container-id-1 div.sk-container {/* jupyter's `normalize.less` sets `[hidden] { display: none; }` but bootstrap.min.css set `[hidden] { display: none !important; }` so we also need the `!important` here to be able to override the default hidden behavior on the sphinx rendered scikit-learn.org. See: https://github.com/scikit-learn/scikit-learn/issues/21755 */display: inline-block !important;position: relative;}#sk-container-id-1 div.sk-text-repr-fallback {display: none;}</style><div id=\"sk-container-id-1\" class=\"sk-top-container\"><div class=\"sk-text-repr-fallback\"><pre>SVC()</pre><b>In a Jupyter environment, please rerun this cell to show the HTML representation or trust the notebook. <br />On GitHub, the HTML representation is unable to render, please try loading this page with nbviewer.org.</b></div><div class=\"sk-container\" hidden><div class=\"sk-item\"><div class=\"sk-estimator sk-toggleable\"><input class=\"sk-toggleable__control sk-hidden--visually\" id=\"sk-estimator-id-1\" type=\"checkbox\" checked><label for=\"sk-estimator-id-1\" class=\"sk-toggleable__label sk-toggleable__label-arrow\">SVC</label><div class=\"sk-toggleable__content\"><pre>SVC()</pre></div></div></div></div></div>"
      ],
      "text/plain": [
       "SVC()"
      ]
     },
     "execution_count": 9,
     "metadata": {},
     "output_type": "execute_result"
    }
   ],
   "source": [
    "model = SVC(kernel='rbf')\n",
    "model.fit(x_train,y_train)"
   ]
  },
  {
   "cell_type": "code",
   "execution_count": 10,
   "id": "222d3546",
   "metadata": {},
   "outputs": [],
   "source": [
    "y_pred = model.predict(x_test)"
   ]
  },
  {
   "cell_type": "code",
   "execution_count": 11,
   "id": "6959ca4a",
   "metadata": {},
   "outputs": [
    {
     "data": {
      "text/plain": [
       "array([6, 6, 5, 6, 6, 6, 6, 6, 5, 5, 5, 5, 6, 6, 6, 6, 7, 6, 6, 5, 5, 5,\n",
       "       5, 5, 6, 5, 6, 7, 6, 6, 7, 5, 6, 5, 6, 6, 5, 5, 6, 6, 5, 6, 5, 5,\n",
       "       6, 6, 6, 6, 5, 6, 6, 6, 5, 6, 6, 6, 5, 6, 5, 5, 5, 6, 6, 6, 5, 6,\n",
       "       6, 6, 5, 5, 5, 6, 6, 5, 5, 6, 6, 5, 5, 6, 6, 5, 6, 5, 6, 6, 6, 6,\n",
       "       5, 7, 5, 5, 6, 5, 5, 5, 6, 5, 7, 7, 5, 6, 5, 6, 6, 5, 6, 6, 5, 6,\n",
       "       5, 5, 5, 6, 5, 5, 6, 5, 6, 5, 5, 5, 5, 6, 6, 5, 5, 5, 5, 5, 7, 6,\n",
       "       5, 5, 5, 6, 5, 7, 5, 5, 6, 5, 5, 6, 6, 5, 5, 5, 5, 5, 6, 5, 6, 5,\n",
       "       5, 6, 6, 6, 5, 5, 6, 6, 5, 6, 6, 5, 6, 6, 7, 6, 6, 6, 6, 5, 5, 5,\n",
       "       7, 5, 6, 6, 5, 5, 5, 5, 6, 7, 6, 5, 6, 6, 5, 6, 5, 6, 5, 6, 5, 5,\n",
       "       6, 5, 6, 6, 5, 6, 6, 6, 5, 5, 7, 6, 6, 6, 6, 6, 5, 5, 6, 5, 6, 6,\n",
       "       7, 6, 5, 5, 6, 5, 6, 7, 6, 5, 6, 5, 5, 5, 6, 6, 5, 6, 6, 6, 5, 5,\n",
       "       6, 6, 5, 6, 6, 5, 6, 7, 6, 5, 5, 5, 6, 5, 6, 6, 6, 7, 5, 5, 6, 6,\n",
       "       5, 6, 6, 6, 6, 5, 5, 5, 5, 6, 5, 6, 5, 6, 5, 5, 6, 5, 7, 5, 7, 7,\n",
       "       5, 6, 6, 5, 5, 5, 5, 6, 6, 6, 6, 7, 5, 5, 5, 6, 5, 5, 5, 6, 6, 5,\n",
       "       7, 5, 5, 5, 5, 5, 5, 6, 5, 5, 6, 6, 7, 6, 5, 6, 5, 5, 6, 6, 6, 6,\n",
       "       6, 6, 5, 5, 5, 5, 5, 5, 5, 6, 5, 5, 6, 5, 6, 6, 6, 6, 6, 5, 5, 6,\n",
       "       6, 6, 6, 5, 6, 5, 5, 5, 6, 6, 6, 6, 5, 6, 6, 6, 5, 5, 5, 5, 6, 6,\n",
       "       5, 5, 6, 5, 6, 5, 6, 6, 6, 5, 6, 5, 6, 5, 5, 5, 6, 5, 5, 5, 5, 6,\n",
       "       7, 7, 6, 6, 6, 5, 5, 5, 5, 6, 5, 5, 6, 6, 5, 6, 6, 6, 5, 6, 6, 5,\n",
       "       6, 5, 6, 5, 5, 6, 7, 5, 5, 6, 6, 6, 6, 7, 6, 6, 5, 5, 6, 5, 5, 6,\n",
       "       6, 6, 6, 5, 6, 6, 7, 6, 6, 5, 7, 6, 5, 5, 7, 7, 6, 5, 5, 5, 5, 6,\n",
       "       6, 5, 6, 6, 5, 5, 5, 5, 6, 6, 6, 5, 5, 5, 5, 6, 5, 5, 5, 5, 5, 5,\n",
       "       6, 6, 5, 6, 5, 6, 6, 5, 5, 7, 5, 6, 5, 5, 5, 6, 5, 6, 5, 5, 5, 5,\n",
       "       6, 5, 6, 7, 6, 6, 5, 5, 5, 5, 6, 6, 5, 7, 5, 5, 5, 6, 5, 5, 5, 6])"
      ]
     },
     "execution_count": 11,
     "metadata": {},
     "output_type": "execute_result"
    }
   ],
   "source": [
    "y_pred"
   ]
  },
  {
   "cell_type": "code",
   "execution_count": 12,
   "id": "71a68f7a",
   "metadata": {},
   "outputs": [
    {
     "name": "stdout",
     "output_type": "stream",
     "text": [
      "0.6420454545454546\n"
     ]
    }
   ],
   "source": [
    "from sklearn.metrics import accuracy_score\n",
    "print(accuracy_score(y_test,y_pred))"
   ]
  },
  {
   "cell_type": "markdown",
   "id": "48d520c4",
   "metadata": {},
   "source": [
    "##### Hyperparameter tuning"
   ]
  },
  {
   "cell_type": "code",
   "execution_count": 13,
   "id": "bb1cb257",
   "metadata": {},
   "outputs": [],
   "source": [
    "from sklearn.model_selection import GridSearchCV"
   ]
  },
  {
   "cell_type": "code",
   "execution_count": 14,
   "id": "4fc67ad1",
   "metadata": {},
   "outputs": [],
   "source": [
    "param_grid = {'C':[0.1,1,10,50,100,500],'gamma':[1,0.5,0.01,0.001]}"
   ]
  },
  {
   "cell_type": "code",
   "execution_count": 15,
   "id": "ca30a518",
   "metadata": {},
   "outputs": [],
   "source": [
    "grid = GridSearchCV(model,param_grid=param_grid,verbose=3,n_jobs=-1)"
   ]
  },
  {
   "cell_type": "code",
   "execution_count": 16,
   "id": "ca94fe0a",
   "metadata": {},
   "outputs": [
    {
     "name": "stdout",
     "output_type": "stream",
     "text": [
      "Fitting 5 folds for each of 24 candidates, totalling 120 fits\n"
     ]
    },
    {
     "name": "stderr",
     "output_type": "stream",
     "text": [
      "/Library/Frameworks/Python.framework/Versions/3.10/lib/python3.10/site-packages/sklearn/model_selection/_split.py:700: UserWarning: The least populated class in y has only 4 members, which is less than n_splits=5.\n",
      "  warnings.warn(\n"
     ]
    },
    {
     "data": {
      "text/html": [
       "<style>#sk-container-id-2 {color: black;background-color: white;}#sk-container-id-2 pre{padding: 0;}#sk-container-id-2 div.sk-toggleable {background-color: white;}#sk-container-id-2 label.sk-toggleable__label {cursor: pointer;display: block;width: 100%;margin-bottom: 0;padding: 0.3em;box-sizing: border-box;text-align: center;}#sk-container-id-2 label.sk-toggleable__label-arrow:before {content: \"▸\";float: left;margin-right: 0.25em;color: #696969;}#sk-container-id-2 label.sk-toggleable__label-arrow:hover:before {color: black;}#sk-container-id-2 div.sk-estimator:hover label.sk-toggleable__label-arrow:before {color: black;}#sk-container-id-2 div.sk-toggleable__content {max-height: 0;max-width: 0;overflow: hidden;text-align: left;background-color: #f0f8ff;}#sk-container-id-2 div.sk-toggleable__content pre {margin: 0.2em;color: black;border-radius: 0.25em;background-color: #f0f8ff;}#sk-container-id-2 input.sk-toggleable__control:checked~div.sk-toggleable__content {max-height: 200px;max-width: 100%;overflow: auto;}#sk-container-id-2 input.sk-toggleable__control:checked~label.sk-toggleable__label-arrow:before {content: \"▾\";}#sk-container-id-2 div.sk-estimator input.sk-toggleable__control:checked~label.sk-toggleable__label {background-color: #d4ebff;}#sk-container-id-2 div.sk-label input.sk-toggleable__control:checked~label.sk-toggleable__label {background-color: #d4ebff;}#sk-container-id-2 input.sk-hidden--visually {border: 0;clip: rect(1px 1px 1px 1px);clip: rect(1px, 1px, 1px, 1px);height: 1px;margin: -1px;overflow: hidden;padding: 0;position: absolute;width: 1px;}#sk-container-id-2 div.sk-estimator {font-family: monospace;background-color: #f0f8ff;border: 1px dotted black;border-radius: 0.25em;box-sizing: border-box;margin-bottom: 0.5em;}#sk-container-id-2 div.sk-estimator:hover {background-color: #d4ebff;}#sk-container-id-2 div.sk-parallel-item::after {content: \"\";width: 100%;border-bottom: 1px solid gray;flex-grow: 1;}#sk-container-id-2 div.sk-label:hover label.sk-toggleable__label {background-color: #d4ebff;}#sk-container-id-2 div.sk-serial::before {content: \"\";position: absolute;border-left: 1px solid gray;box-sizing: border-box;top: 0;bottom: 0;left: 50%;z-index: 0;}#sk-container-id-2 div.sk-serial {display: flex;flex-direction: column;align-items: center;background-color: white;padding-right: 0.2em;padding-left: 0.2em;position: relative;}#sk-container-id-2 div.sk-item {position: relative;z-index: 1;}#sk-container-id-2 div.sk-parallel {display: flex;align-items: stretch;justify-content: center;background-color: white;position: relative;}#sk-container-id-2 div.sk-item::before, #sk-container-id-2 div.sk-parallel-item::before {content: \"\";position: absolute;border-left: 1px solid gray;box-sizing: border-box;top: 0;bottom: 0;left: 50%;z-index: -1;}#sk-container-id-2 div.sk-parallel-item {display: flex;flex-direction: column;z-index: 1;position: relative;background-color: white;}#sk-container-id-2 div.sk-parallel-item:first-child::after {align-self: flex-end;width: 50%;}#sk-container-id-2 div.sk-parallel-item:last-child::after {align-self: flex-start;width: 50%;}#sk-container-id-2 div.sk-parallel-item:only-child::after {width: 0;}#sk-container-id-2 div.sk-dashed-wrapped {border: 1px dashed gray;margin: 0 0.4em 0.5em 0.4em;box-sizing: border-box;padding-bottom: 0.4em;background-color: white;}#sk-container-id-2 div.sk-label label {font-family: monospace;font-weight: bold;display: inline-block;line-height: 1.2em;}#sk-container-id-2 div.sk-label-container {text-align: center;}#sk-container-id-2 div.sk-container {/* jupyter's `normalize.less` sets `[hidden] { display: none; }` but bootstrap.min.css set `[hidden] { display: none !important; }` so we also need the `!important` here to be able to override the default hidden behavior on the sphinx rendered scikit-learn.org. See: https://github.com/scikit-learn/scikit-learn/issues/21755 */display: inline-block !important;position: relative;}#sk-container-id-2 div.sk-text-repr-fallback {display: none;}</style><div id=\"sk-container-id-2\" class=\"sk-top-container\"><div class=\"sk-text-repr-fallback\"><pre>GridSearchCV(estimator=SVC(), n_jobs=-1,\n",
       "             param_grid={&#x27;C&#x27;: [0.1, 1, 10, 50, 100, 500],\n",
       "                         &#x27;gamma&#x27;: [1, 0.5, 0.01, 0.001]},\n",
       "             verbose=3)</pre><b>In a Jupyter environment, please rerun this cell to show the HTML representation or trust the notebook. <br />On GitHub, the HTML representation is unable to render, please try loading this page with nbviewer.org.</b></div><div class=\"sk-container\" hidden><div class=\"sk-item sk-dashed-wrapped\"><div class=\"sk-label-container\"><div class=\"sk-label sk-toggleable\"><input class=\"sk-toggleable__control sk-hidden--visually\" id=\"sk-estimator-id-2\" type=\"checkbox\" ><label for=\"sk-estimator-id-2\" class=\"sk-toggleable__label sk-toggleable__label-arrow\">GridSearchCV</label><div class=\"sk-toggleable__content\"><pre>GridSearchCV(estimator=SVC(), n_jobs=-1,\n",
       "             param_grid={&#x27;C&#x27;: [0.1, 1, 10, 50, 100, 500],\n",
       "                         &#x27;gamma&#x27;: [1, 0.5, 0.01, 0.001]},\n",
       "             verbose=3)</pre></div></div></div><div class=\"sk-parallel\"><div class=\"sk-parallel-item\"><div class=\"sk-item\"><div class=\"sk-label-container\"><div class=\"sk-label sk-toggleable\"><input class=\"sk-toggleable__control sk-hidden--visually\" id=\"sk-estimator-id-3\" type=\"checkbox\" ><label for=\"sk-estimator-id-3\" class=\"sk-toggleable__label sk-toggleable__label-arrow\">estimator: SVC</label><div class=\"sk-toggleable__content\"><pre>SVC()</pre></div></div></div><div class=\"sk-serial\"><div class=\"sk-item\"><div class=\"sk-estimator sk-toggleable\"><input class=\"sk-toggleable__control sk-hidden--visually\" id=\"sk-estimator-id-4\" type=\"checkbox\" ><label for=\"sk-estimator-id-4\" class=\"sk-toggleable__label sk-toggleable__label-arrow\">SVC</label><div class=\"sk-toggleable__content\"><pre>SVC()</pre></div></div></div></div></div></div></div></div></div></div>"
      ],
      "text/plain": [
       "GridSearchCV(estimator=SVC(), n_jobs=-1,\n",
       "             param_grid={'C': [0.1, 1, 10, 50, 100, 500],\n",
       "                         'gamma': [1, 0.5, 0.01, 0.001]},\n",
       "             verbose=3)"
      ]
     },
     "execution_count": 16,
     "metadata": {},
     "output_type": "execute_result"
    }
   ],
   "source": [
    "grid.fit(x_train,y_train)"
   ]
  },
  {
   "cell_type": "code",
   "execution_count": 17,
   "id": "02494d13",
   "metadata": {},
   "outputs": [
    {
     "data": {
      "text/plain": [
       "{'C': 1, 'gamma': 0.5}"
      ]
     },
     "execution_count": 17,
     "metadata": {},
     "output_type": "execute_result"
    }
   ],
   "source": [
    "grid.best_params_"
   ]
  },
  {
   "cell_type": "code",
   "execution_count": 18,
   "id": "bc5bd02c",
   "metadata": {},
   "outputs": [],
   "source": [
    "model_tuned = SVC(C=1,gamma=0.5)"
   ]
  },
  {
   "cell_type": "code",
   "execution_count": 19,
   "id": "f6ce0989",
   "metadata": {},
   "outputs": [
    {
     "data": {
      "text/html": [
       "<style>#sk-container-id-3 {color: black;background-color: white;}#sk-container-id-3 pre{padding: 0;}#sk-container-id-3 div.sk-toggleable {background-color: white;}#sk-container-id-3 label.sk-toggleable__label {cursor: pointer;display: block;width: 100%;margin-bottom: 0;padding: 0.3em;box-sizing: border-box;text-align: center;}#sk-container-id-3 label.sk-toggleable__label-arrow:before {content: \"▸\";float: left;margin-right: 0.25em;color: #696969;}#sk-container-id-3 label.sk-toggleable__label-arrow:hover:before {color: black;}#sk-container-id-3 div.sk-estimator:hover label.sk-toggleable__label-arrow:before {color: black;}#sk-container-id-3 div.sk-toggleable__content {max-height: 0;max-width: 0;overflow: hidden;text-align: left;background-color: #f0f8ff;}#sk-container-id-3 div.sk-toggleable__content pre {margin: 0.2em;color: black;border-radius: 0.25em;background-color: #f0f8ff;}#sk-container-id-3 input.sk-toggleable__control:checked~div.sk-toggleable__content {max-height: 200px;max-width: 100%;overflow: auto;}#sk-container-id-3 input.sk-toggleable__control:checked~label.sk-toggleable__label-arrow:before {content: \"▾\";}#sk-container-id-3 div.sk-estimator input.sk-toggleable__control:checked~label.sk-toggleable__label {background-color: #d4ebff;}#sk-container-id-3 div.sk-label input.sk-toggleable__control:checked~label.sk-toggleable__label {background-color: #d4ebff;}#sk-container-id-3 input.sk-hidden--visually {border: 0;clip: rect(1px 1px 1px 1px);clip: rect(1px, 1px, 1px, 1px);height: 1px;margin: -1px;overflow: hidden;padding: 0;position: absolute;width: 1px;}#sk-container-id-3 div.sk-estimator {font-family: monospace;background-color: #f0f8ff;border: 1px dotted black;border-radius: 0.25em;box-sizing: border-box;margin-bottom: 0.5em;}#sk-container-id-3 div.sk-estimator:hover {background-color: #d4ebff;}#sk-container-id-3 div.sk-parallel-item::after {content: \"\";width: 100%;border-bottom: 1px solid gray;flex-grow: 1;}#sk-container-id-3 div.sk-label:hover label.sk-toggleable__label {background-color: #d4ebff;}#sk-container-id-3 div.sk-serial::before {content: \"\";position: absolute;border-left: 1px solid gray;box-sizing: border-box;top: 0;bottom: 0;left: 50%;z-index: 0;}#sk-container-id-3 div.sk-serial {display: flex;flex-direction: column;align-items: center;background-color: white;padding-right: 0.2em;padding-left: 0.2em;position: relative;}#sk-container-id-3 div.sk-item {position: relative;z-index: 1;}#sk-container-id-3 div.sk-parallel {display: flex;align-items: stretch;justify-content: center;background-color: white;position: relative;}#sk-container-id-3 div.sk-item::before, #sk-container-id-3 div.sk-parallel-item::before {content: \"\";position: absolute;border-left: 1px solid gray;box-sizing: border-box;top: 0;bottom: 0;left: 50%;z-index: -1;}#sk-container-id-3 div.sk-parallel-item {display: flex;flex-direction: column;z-index: 1;position: relative;background-color: white;}#sk-container-id-3 div.sk-parallel-item:first-child::after {align-self: flex-end;width: 50%;}#sk-container-id-3 div.sk-parallel-item:last-child::after {align-self: flex-start;width: 50%;}#sk-container-id-3 div.sk-parallel-item:only-child::after {width: 0;}#sk-container-id-3 div.sk-dashed-wrapped {border: 1px dashed gray;margin: 0 0.4em 0.5em 0.4em;box-sizing: border-box;padding-bottom: 0.4em;background-color: white;}#sk-container-id-3 div.sk-label label {font-family: monospace;font-weight: bold;display: inline-block;line-height: 1.2em;}#sk-container-id-3 div.sk-label-container {text-align: center;}#sk-container-id-3 div.sk-container {/* jupyter's `normalize.less` sets `[hidden] { display: none; }` but bootstrap.min.css set `[hidden] { display: none !important; }` so we also need the `!important` here to be able to override the default hidden behavior on the sphinx rendered scikit-learn.org. See: https://github.com/scikit-learn/scikit-learn/issues/21755 */display: inline-block !important;position: relative;}#sk-container-id-3 div.sk-text-repr-fallback {display: none;}</style><div id=\"sk-container-id-3\" class=\"sk-top-container\"><div class=\"sk-text-repr-fallback\"><pre>SVC(C=1, gamma=0.5)</pre><b>In a Jupyter environment, please rerun this cell to show the HTML representation or trust the notebook. <br />On GitHub, the HTML representation is unable to render, please try loading this page with nbviewer.org.</b></div><div class=\"sk-container\" hidden><div class=\"sk-item\"><div class=\"sk-estimator sk-toggleable\"><input class=\"sk-toggleable__control sk-hidden--visually\" id=\"sk-estimator-id-5\" type=\"checkbox\" checked><label for=\"sk-estimator-id-5\" class=\"sk-toggleable__label sk-toggleable__label-arrow\">SVC</label><div class=\"sk-toggleable__content\"><pre>SVC(C=1, gamma=0.5)</pre></div></div></div></div></div>"
      ],
      "text/plain": [
       "SVC(C=1, gamma=0.5)"
      ]
     },
     "execution_count": 19,
     "metadata": {},
     "output_type": "execute_result"
    }
   ],
   "source": [
    "model_tuned.fit(x_train,y_train)"
   ]
  },
  {
   "cell_type": "code",
   "execution_count": 20,
   "id": "807fa91e",
   "metadata": {},
   "outputs": [],
   "source": [
    "y_tuned_pred = model_tuned.predict(x_test)"
   ]
  },
  {
   "cell_type": "code",
   "execution_count": 21,
   "id": "ea330070",
   "metadata": {},
   "outputs": [
    {
     "name": "stdout",
     "output_type": "stream",
     "text": [
      "0.6628787878787878\n",
      "[CV 5/5] END ....................C=0.1, gamma=1;, score=0.425 total time=   0.0s\n",
      "[CV 5/5] END ................C=0.1, gamma=0.001;, score=0.425 total time=   0.0s\n",
      "[CV 3/5] END ....................C=1, gamma=0.5;, score=0.636 total time=   0.0s\n",
      "[CV 4/5] END ...................C=1, gamma=0.01;, score=0.556 total time=   0.0s\n",
      "[CV 1/5] END .....................C=10, gamma=1;, score=0.577 total time=   0.0s\n",
      "[CV 4/5] END ...................C=10, gamma=0.5;, score=0.584 total time=   0.0s\n",
      "[CV 5/5] END ...................C=10, gamma=0.5;, score=0.589 total time=   0.0s\n",
      "[CV 5/5] END ..................C=50, gamma=0.01;, score=0.584 total time=   0.1s\n",
      "[CV 1/5] END .................C=50, gamma=0.001;, score=0.567 total time=   0.0s\n",
      "[CV 5/5] END ....................C=500, gamma=1;, score=0.593 total time=   0.0s\n",
      "[CV 1/5] END ..................C=500, gamma=0.5;, score=0.577 total time=   0.0s\n",
      "[CV 2/5] END ..................C=500, gamma=0.5;, score=0.589 total time=   0.1s\n",
      "[CV 3/5] END ..................C=500, gamma=0.5;, score=0.650 total time=   0.0s\n",
      "[CV 2/5] END ................C=500, gamma=0.001;, score=0.598 total time=   0.0s\n",
      "[CV 4/5] END ....................C=0.1, gamma=1;, score=0.425 total time=   0.1s\n",
      "[CV 1/5] END ................C=0.1, gamma=0.001;, score=0.428 total time=   0.0s\n",
      "[CV 1/5] END ......................C=1, gamma=1;, score=0.586 total time=   0.1s\n",
      "[CV 5/5] END ....................C=1, gamma=0.5;, score=0.626 total time=   0.0s\n",
      "[CV 2/5] END .....................C=10, gamma=1;, score=0.584 total time=   0.1s\n",
      "[CV 5/5] END ..................C=10, gamma=0.01;, score=0.570 total time=   0.0s\n",
      "[CV 1/5] END .................C=10, gamma=0.001;, score=0.544 total time=   0.0s\n",
      "[CV 1/5] END ..................C=50, gamma=0.01;, score=0.586 total time=   0.0s\n",
      "[CV 2/5] END ..................C=50, gamma=0.01;, score=0.626 total time=   0.0s\n",
      "[CV 1/5] END ....................C=100, gamma=1;, score=0.572 total time=   0.1s\n",
      "[CV 2/5] END ....................C=100, gamma=1;, score=0.589 total time=   0.0s\n",
      "[CV 3/5] END ....................C=100, gamma=1;, score=0.636 total time=   0.1s\n",
      "[CV 4/5] END ....................C=100, gamma=1;, score=0.561 total time=   0.1s\n",
      "[CV 1/5] END ................C=500, gamma=0.001;, score=0.581 total time=   0.0s\n",
      "[CV 1/5] END ....................C=0.1, gamma=1;, score=0.428 total time=   0.0s\n",
      "[CV 4/5] END ..................C=0.1, gamma=0.5;, score=0.463 total time=   0.0s\n",
      "[CV 5/5] END ..................C=0.1, gamma=0.5;, score=0.472 total time=   0.0s\n",
      "[CV 2/5] END .................C=0.1, gamma=0.01;, score=0.528 total time=   0.0s\n",
      "[CV 2/5] END ................C=0.1, gamma=0.001;, score=0.430 total time=   0.0s\n",
      "[CV 3/5] END ......................C=1, gamma=1;, score=0.636 total time=   0.0s\n",
      "[CV 4/5] END ....................C=1, gamma=0.5;, score=0.617 total time=   0.0s\n",
      "[CV 5/5] END ..................C=1, gamma=0.001;, score=0.472 total time=   0.0s\n",
      "[CV 2/5] END ...................C=10, gamma=0.5;, score=0.584 total time=   0.0s\n",
      "[CV 3/5] END ..................C=10, gamma=0.01;, score=0.626 total time=   0.0s\n",
      "[CV 4/5] END ..................C=10, gamma=0.01;, score=0.561 total time=   0.0s\n",
      "[CV 2/5] END ...................C=50, gamma=0.5;, score=0.584 total time=   0.0s\n",
      "[CV 3/5] END ...................C=50, gamma=0.5;, score=0.645 total time=   0.0s\n",
      "[CV 4/5] END ..................C=100, gamma=0.5;, score=0.561 total time=   0.1s\n",
      "[CV 5/5] END ..................C=100, gamma=0.5;, score=0.589 total time=   0.1s\n",
      "[CV 1/5] END .................C=100, gamma=0.01;, score=0.581 total time=   0.0s\n",
      "[CV 2/5] END .................C=100, gamma=0.01;, score=0.626 total time=   0.0s\n",
      "[CV 4/5] END .................C=500, gamma=0.01;, score=0.556 total time=   0.1s\n",
      "[CV 3/5] END ....................C=0.1, gamma=1;, score=0.425 total time=   0.0s\n",
      "[CV 1/5] END .................C=0.1, gamma=0.01;, score=0.549 total time=   0.0s\n",
      "[CV 5/5] END .................C=0.1, gamma=0.01;, score=0.472 total time=   0.0s\n",
      "[CV 2/5] END ......................C=1, gamma=1;, score=0.607 total time=   0.1s\n",
      "[CV 2/5] END ...................C=1, gamma=0.01;, score=0.575 total time=   0.0s\n",
      "[CV 4/5] END ..................C=1, gamma=0.001;, score=0.584 total time=   0.0s\n",
      "[CV 5/5] END .....................C=10, gamma=1;, score=0.593 total time=   0.0s\n",
      "[CV 1/5] END .....................C=50, gamma=1;, score=0.572 total time=   0.0s\n",
      "[CV 2/5] END .....................C=50, gamma=1;, score=0.589 total time=   0.0s\n",
      "[CV 2/5] END .................C=50, gamma=0.001;, score=0.584 total time=   0.0s\n",
      "[CV 3/5] END .................C=50, gamma=0.001;, score=0.612 total time=   0.0s\n",
      "[CV 2/5] END ................C=100, gamma=0.001;, score=0.598 total time=   0.0s\n",
      "[CV 3/5] END ................C=100, gamma=0.001;, score=0.598 total time=   0.1s\n",
      "[CV 4/5] END ................C=100, gamma=0.001;, score=0.556 total time=   0.0s\n",
      "[CV 5/5] END ................C=100, gamma=0.001;, score=0.542 total time=   0.0s\n",
      "[CV 3/5] END ................C=500, gamma=0.001;, score=0.621 total time=   0.0s\n",
      "[CV 2/5] END ..................C=0.1, gamma=0.5;, score=0.449 total time=   0.0s\n",
      "[CV 5/5] END ......................C=1, gamma=1;, score=0.617 total time=   0.0s\n",
      "[CV 5/5] END ...................C=1, gamma=0.01;, score=0.519 total time=   0.0s\n",
      "[CV 4/5] END .....................C=10, gamma=1;, score=0.575 total time=   0.0s\n",
      "[CV 2/5] END .................C=10, gamma=0.001;, score=0.575 total time=   0.0s\n",
      "[CV 3/5] END .................C=10, gamma=0.001;, score=0.593 total time=   0.0s\n",
      "[CV 3/5] END ..................C=50, gamma=0.01;, score=0.621 total time=   0.0s\n",
      "[CV 4/5] END ..................C=50, gamma=0.01;, score=0.579 total time=   0.0s\n",
      "[CV 5/5] END ....................C=100, gamma=1;, score=0.593 total time=   0.0s\n",
      "[CV 1/5] END ..................C=100, gamma=0.5;, score=0.577 total time=   0.1s\n",
      "[CV 2/5] END ..................C=100, gamma=0.5;, score=0.589 total time=   0.0s\n",
      "[CV 3/5] END ..................C=100, gamma=0.5;, score=0.650 total time=   0.0s\n",
      "[CV 5/5] END .................C=500, gamma=0.01;, score=0.607 total time=   0.1s\n",
      "[CV 2/5] END ....................C=0.1, gamma=1;, score=0.430 total time=   0.0s\n",
      "[CV 3/5] END .................C=0.1, gamma=0.01;, score=0.589 total time=   0.0s\n",
      "[CV 4/5] END ................C=0.1, gamma=0.001;, score=0.425 total time=   0.0s\n",
      "[CV 2/5] END ....................C=1, gamma=0.5;, score=0.589 total time=   0.1s\n",
      "[CV 2/5] END ..................C=1, gamma=0.001;, score=0.533 total time=   0.0s\n",
      "[CV 3/5] END .....................C=10, gamma=1;, score=0.645 total time=   0.0s\n",
      "[CV 1/5] END ..................C=10, gamma=0.01;, score=0.563 total time=   0.0s\n",
      "[CV 2/5] END ..................C=10, gamma=0.01;, score=0.603 total time=   0.0s\n",
      "[CV 4/5] END ...................C=50, gamma=0.5;, score=0.565 total time=   0.1s\n",
      "[CV 5/5] END ...................C=50, gamma=0.5;, score=0.589 total time=   0.0s\n",
      "[CV 1/5] END ....................C=500, gamma=1;, score=0.572 total time=   0.1s\n",
      "[CV 2/5] END ....................C=500, gamma=1;, score=0.589 total time=   0.1s\n",
      "[CV 3/5] END ....................C=500, gamma=1;, score=0.636 total time=   0.0s\n",
      "[CV 4/5] END ....................C=500, gamma=1;, score=0.561 total time=   0.0s\n",
      "[CV 4/5] END ................C=500, gamma=0.001;, score=0.561 total time=   0.0s\n",
      "[CV 1/5] END ..................C=0.1, gamma=0.5;, score=0.447 total time=   0.0s\n",
      "[CV 4/5] END .................C=0.1, gamma=0.01;, score=0.565 total time=   0.0s\n",
      "[CV 3/5] END ................C=0.1, gamma=0.001;, score=0.425 total time=   0.0s\n",
      "[CV 4/5] END ......................C=1, gamma=1;, score=0.598 total time=   0.0s\n",
      "[CV 1/5] END ...................C=1, gamma=0.01;, score=0.572 total time=   0.0s\n",
      "[CV 1/5] END ..................C=1, gamma=0.001;, score=0.549 total time=   0.0s\n",
      "[CV 1/5] END ...................C=10, gamma=0.5;, score=0.572 total time=   0.0s\n",
      "[CV 4/5] END .................C=10, gamma=0.001;, score=0.556 total time=   0.0s\n",
      "[CV 5/5] END .................C=10, gamma=0.001;, score=0.514 total time=   0.0s\n",
      "[CV 5/5] END .....................C=50, gamma=1;, score=0.593 total time=   0.0s\n",
      "[CV 1/5] END ...................C=50, gamma=0.5;, score=0.558 total time=   0.0s\n",
      "[CV 3/5] END .................C=100, gamma=0.01;, score=0.612 total time=   0.0s\n",
      "[CV 4/5] END .................C=100, gamma=0.01;, score=0.584 total time=   0.0s\n",
      "[CV 5/5] END .................C=100, gamma=0.01;, score=0.584 total time=   0.0s\n",
      "[CV 1/5] END ................C=100, gamma=0.001;, score=0.572 total time=   0.0s\n",
      "[CV 3/5] END .................C=500, gamma=0.01;, score=0.612 total time=   0.1s\n",
      "[CV 5/5] END ................C=500, gamma=0.001;, score=0.565 total time=   0.0s\n"
     ]
    },
    {
     "name": "stdout",
     "output_type": "stream",
     "text": [
      "[CV 3/5] END ..................C=0.1, gamma=0.5;, score=0.472 total time=   0.0s\n",
      "[CV 1/5] END ....................C=1, gamma=0.5;, score=0.623 total time=   0.0s\n",
      "[CV 3/5] END ...................C=1, gamma=0.01;, score=0.603 total time=   0.0s\n",
      "[CV 3/5] END ..................C=1, gamma=0.001;, score=0.584 total time=   0.0s\n",
      "[CV 3/5] END ...................C=10, gamma=0.5;, score=0.640 total time=   0.0s\n",
      "[CV 3/5] END .....................C=50, gamma=1;, score=0.636 total time=   0.1s\n",
      "[CV 4/5] END .....................C=50, gamma=1;, score=0.561 total time=   0.0s\n",
      "[CV 4/5] END .................C=50, gamma=0.001;, score=0.565 total time=   0.0s\n",
      "[CV 5/5] END .................C=50, gamma=0.001;, score=0.523 total time=   0.0s\n",
      "[CV 4/5] END ..................C=500, gamma=0.5;, score=0.561 total time=   0.1s\n",
      "[CV 5/5] END ..................C=500, gamma=0.5;, score=0.589 total time=   0.1s\n",
      "[CV 1/5] END .................C=500, gamma=0.01;, score=0.540 total time=   0.1s\n",
      "[CV 2/5] END .................C=500, gamma=0.01;, score=0.631 total time=   0.1s\n"
     ]
    }
   ],
   "source": [
    "print(accuracy_score(y_test,y_tuned_pred))"
   ]
  },
  {
   "cell_type": "code",
   "execution_count": null,
   "id": "a8674620",
   "metadata": {},
   "outputs": [],
   "source": []
  }
 ],
 "metadata": {
  "kernelspec": {
   "display_name": "Python 3 (ipykernel)",
   "language": "python",
   "name": "python3"
  },
  "language_info": {
   "codemirror_mode": {
    "name": "ipython",
    "version": 3
   },
   "file_extension": ".py",
   "mimetype": "text/x-python",
   "name": "python",
   "nbconvert_exporter": "python",
   "pygments_lexer": "ipython3",
   "version": "3.10.11"
  }
 },
 "nbformat": 4,
 "nbformat_minor": 5
}
